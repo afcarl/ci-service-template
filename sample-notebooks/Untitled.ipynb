{
 "cells": [
  {
   "cell_type": "code",
   "execution_count": 1,
   "metadata": {
    "collapsed": true
   },
   "outputs": [],
   "source": [
    "import requests\n",
    "import json\n",
    "import py2cytoscape.util as cy\n",
    "import networkx as nx\n",
    "\n",
    "BASE = 'http://192.168.99.100/v1/'\n",
    "HEADERS = {'Content-Type': 'application/json'}"
   ]
  },
  {
   "cell_type": "code",
   "execution_count": 70,
   "metadata": {
    "collapsed": false
   },
   "outputs": [
    {
     "name": "stdout",
     "output_type": "stream",
     "text": [
      "{u'status': u'queued', u'job_id': u'b70e4046-2129-11e5-a5d4-0242ac1100fa'}\n",
      "{u'status': u'queued', u'job_id': u'b71983d4-2129-11e5-a5d4-0242ac1100fa'}\n",
      "{u'status': u'queued', u'job_id': u'b72f813e-2129-11e5-a5d4-0242ac1100fa'}\n",
      "{u'status': u'queued', u'job_id': u'b74793c8-2129-11e5-a5d4-0242ac1100fa'}\n",
      "{u'status': u'queued', u'job_id': u'b75b7352-2129-11e5-a5d4-0242ac1100fa'}\n",
      "{u'status': u'queued', u'job_id': u'b7723c04-2129-11e5-a5d4-0242ac1100fa'}\n",
      "{u'status': u'queued', u'job_id': u'b776f12c-2129-11e5-a5d4-0242ac1100fa'}\n",
      "{u'status': u'queued', u'job_id': u'b786b030-2129-11e5-a5d4-0242ac1100fa'}\n",
      "{u'status': u'queued', u'job_id': u'b78c0b98-2129-11e5-a5d4-0242ac1100fa'}\n",
      "{u'status': u'queued', u'job_id': u'b7a69e0e-2129-11e5-a5d4-0242ac1100fa'}\n",
      "{u'status': u'queued', u'job_id': u'b7a956d0-2129-11e5-a5d4-0242ac1100fa'}\n",
      "{u'status': u'queued', u'job_id': u'b7c03526-2129-11e5-a5d4-0242ac1100fa'}\n",
      "{u'status': u'queued', u'job_id': u'b7c6033e-2129-11e5-a5d4-0242ac1100fa'}\n",
      "{u'status': u'queued', u'job_id': u'b7e195c2-2129-11e5-a5d4-0242ac1100fa'}\n",
      "{u'status': u'queued', u'job_id': u'b7e79b98-2129-11e5-a5d4-0242ac1100fa'}\n",
      "{u'status': u'queued', u'job_id': u'b7f9d2d6-2129-11e5-a5d4-0242ac1100fa'}\n",
      "{u'status': u'queued', u'job_id': u'b801d31e-2129-11e5-a5d4-0242ac1100fa'}\n",
      "{u'status': u'queued', u'job_id': u'b810d6c0-2129-11e5-a5d4-0242ac1100fa'}\n",
      "{u'status': u'queued', u'job_id': u'b817543c-2129-11e5-a5d4-0242ac1100fa'}\n",
      "{u'status': u'queued', u'job_id': u'b8230c0a-2129-11e5-a5d4-0242ac1100fa'}\n",
      "{u'status': u'queued', u'job_id': u'b82aefc4-2129-11e5-a5d4-0242ac1100fa'}\n",
      "{u'status': u'queued', u'job_id': u'b83ce4ae-2129-11e5-a5d4-0242ac1100fa'}\n",
      "{u'status': u'queued', u'job_id': u'b8449406-2129-11e5-a5d4-0242ac1100fa'}\n",
      "{u'status': u'queued', u'job_id': u'b856281a-2129-11e5-a5d4-0242ac1100fa'}\n",
      "{u'status': u'queued', u'job_id': u'b85e8ce4-2129-11e5-a5d4-0242ac1100fa'}\n",
      "{u'status': u'queued', u'job_id': u'b86ffda8-2129-11e5-a5d4-0242ac1100fa'}\n",
      "{u'status': u'queued', u'job_id': u'b87a45c4-2129-11e5-a5d4-0242ac1100fa'}\n",
      "{u'status': u'queued', u'job_id': u'b88cd3d8-2129-11e5-a5d4-0242ac1100fa'}\n",
      "{u'status': u'queued', u'job_id': u'b895c290-2129-11e5-a5d4-0242ac1100fa'}\n",
      "{u'status': u'queued', u'job_id': u'b8a2f442-2129-11e5-a5d4-0242ac1100fa'}\n",
      "{u'status': u'queued', u'job_id': u'b8ab9106-2129-11e5-a5d4-0242ac1100fa'}\n",
      "{u'status': u'queued', u'job_id': u'b8b8cc2c-2129-11e5-a5d4-0242ac1100fa'}\n",
      "{u'status': u'queued', u'job_id': u'b8c64a82-2129-11e5-a5d4-0242ac1100fa'}\n",
      "{u'status': u'queued', u'job_id': u'b8d604cc-2129-11e5-a5d4-0242ac1100fa'}\n",
      "{u'status': u'queued', u'job_id': u'b8e09f9a-2129-11e5-a5d4-0242ac1100fa'}\n",
      "{u'status': u'queued', u'job_id': u'b8eb3626-2129-11e5-a5d4-0242ac1100fa'}\n",
      "{u'status': u'queued', u'job_id': u'b8f4aff8-2129-11e5-a5d4-0242ac1100fa'}\n",
      "{u'status': u'queued', u'job_id': u'b8fd9226-2129-11e5-a5d4-0242ac1100fa'}\n",
      "{u'status': u'queued', u'job_id': u'b9102f94-2129-11e5-a5d4-0242ac1100fa'}\n",
      "{u'status': u'queued', u'job_id': u'b91a8110-2129-11e5-a5d4-0242ac1100fa'}\n",
      "{u'status': u'queued', u'job_id': u'b926d514-2129-11e5-a5d4-0242ac1100fa'}\n",
      "{u'status': u'queued', u'job_id': u'b937cf36-2129-11e5-a5d4-0242ac1100fa'}\n",
      "{u'status': u'queued', u'job_id': u'b93cfeac-2129-11e5-a5d4-0242ac1100fa'}\n",
      "{u'status': u'queued', u'job_id': u'b94c7de6-2129-11e5-a5d4-0242ac1100fa'}\n",
      "{u'status': u'queued', u'job_id': u'b9579ef6-2129-11e5-a5d4-0242ac1100fa'}\n",
      "{u'status': u'queued', u'job_id': u'b96858ea-2129-11e5-a5d4-0242ac1100fa'}\n",
      "{u'status': u'queued', u'job_id': u'b9749f88-2129-11e5-a5d4-0242ac1100fa'}\n",
      "{u'status': u'queued', u'job_id': u'b9779c60-2129-11e5-a5d4-0242ac1100fa'}\n",
      "{u'status': u'queued', u'job_id': u'b97a9cf8-2129-11e5-a5d4-0242ac1100fa'}\n",
      "{u'status': u'queued', u'job_id': u'b98ba89a-2129-11e5-a5d4-0242ac1100fa'}\n"
     ]
    }
   ],
   "source": [
    "\n",
    "for i in range(50):\n",
    "    res = requests.get(BASE + 'test1')\n",
    "    print(res.json())"
   ]
  },
  {
   "cell_type": "code",
   "execution_count": 69,
   "metadata": {
    "collapsed": false
   },
   "outputs": [
    {
     "name": "stdout",
     "output_type": "stream",
     "text": [
      "{u'OK': {u'5f7f98a2-2124-11e5-a5d4-0242ac1100fa': u'/collector/jobs/5f7f98a2-2124-11e5-a5d4-0242ac1100fa', u'5fce0fd2-2124-11e5-a5d4-0242ac1100fa': u'/collector/jobs/5fce0fd2-2124-11e5-a5d4-0242ac1100fa', u'5fb0637e-2124-11e5-a5d4-0242ac1100fa': u'/collector/jobs/5fb0637e-2124-11e5-a5d4-0242ac1100fa', u'5f93ad4c-2124-11e5-a5d4-0242ac1100fa': u'/collector/jobs/5f93ad4c-2124-11e5-a5d4-0242ac1100fa', u'5fd0e52c-2124-11e5-a5d4-0242ac1100fa': u'/collector/jobs/5fd0e52c-2124-11e5-a5d4-0242ac1100fa'}}\n"
     ]
    }
   ],
   "source": [
    "res = requests.get(BASE + 'queue')\n",
    "print(res.json())"
   ]
  },
  {
   "cell_type": "code",
   "execution_count": 58,
   "metadata": {
    "collapsed": false
   },
   "outputs": [
    {
     "name": "stdout",
     "output_type": "stream",
     "text": [
      "{\n",
      "    \"status\": \"queued\", \n",
      "    \"url\": \"queue/77b87ea1-6e96-455b-8bee-b1dcea1fe718\", \n",
      "    \"job_id\": \"77b87ea1-6e96-455b-8bee-b1dcea1fe718\", \n",
      "    \"result_type\": \"memory\"\n",
      "}\n"
     ]
    }
   ],
   "source": [
    "res = requests.post(BASE + 'hello', data={'name': 'foo'})\n",
    "print(json.dumps(res.json(), indent=4))"
   ]
  }
 ],
 "metadata": {
  "kernelspec": {
   "display_name": "Python 2",
   "language": "python",
   "name": "python2"
  },
  "language_info": {
   "codemirror_mode": {
    "name": "ipython",
    "version": 2
   },
   "file_extension": ".py",
   "mimetype": "text/x-python",
   "name": "python",
   "nbconvert_exporter": "python",
   "pygments_lexer": "ipython2",
   "version": "2.7.10"
  }
 },
 "nbformat": 4,
 "nbformat_minor": 0
}
