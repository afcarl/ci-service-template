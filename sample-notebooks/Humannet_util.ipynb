{
 "cells": [
  {
   "cell_type": "markdown",
   "metadata": {},
   "source": [
    "# Heat Diffusion Test"
   ]
  },
  {
   "cell_type": "code",
   "execution_count": 3,
   "metadata": {
    "collapsed": false
   },
   "outputs": [
    {
     "name": "stdout",
     "output_type": "stream",
     "text": [
      "HumanNet.v1.benchmark.txt         __init__.py                       \u001b[34mdocs\u001b[m\u001b[m\r\n",
      "HumanNet.v1.nodes.entrez.txt      \u001b[31maws-create.sh\u001b[m\u001b[m                     \u001b[34mfile-server\u001b[m\u001b[m\r\n",
      "HumanNet.v1.nodes.gene_symbol.txt \u001b[34mciservice\u001b[m\u001b[m                         nodes.txt\r\n",
      "HumanNet.v1.sif                   \u001b[34mcollector\u001b[m\u001b[m                         \u001b[34msample-notebooks\u001b[m\u001b[m\r\n",
      "LICENSE                           conda_environment.yml             \u001b[34mworkers\u001b[m\u001b[m\r\n",
      "README.md                         docker-compose.yml\r\n"
     ]
    }
   ],
   "source": [
    "import hdsubnetfinder\n",
    "\n",
    "# Location of the human net SIF file\n",
    "!ls ../"
   ]
  },
  {
   "cell_type": "code",
   "execution_count": 16,
   "metadata": {
    "collapsed": false
   },
   "outputs": [],
   "source": [
    "entrez2symbol = {}\n",
    "\n",
    "for line in open('../HumanNet.v1.nodes.gene_symbol.txt', 'r'):\n",
    "    entrez, gene_symbol = line[:-1].split('\\t')\n",
    "    entrez2symbol[entrez] = gene_symbol\n",
    "\n",
    "    \n",
    "out = open('HumanNet.v1.symbol.sif', 'w')\n",
    "\n",
    "for line in open('../HumanNet.v1.sif', 'r'):\n",
    "    source, interaction, target = line[:-1].split('\\t')\n",
    "    if target is '':\n",
    "        print('+++++++++++++++++++ ' + line)\n",
    "    if source in entrez2symbol.keys():\n",
    "        source_symbol = entrez2symbol[source]\n",
    "    else:\n",
    "        source_symbol = source\n",
    "    \n",
    "    if target in entrez2symbol.keys():\n",
    "        target_symbol = entrez2symbol[target]\n",
    "    else:\n",
    "        target_symbol = target\n",
    "\n",
    "    out.write(source_symbol + '\\t-\\t' + target_symbol + '\\n')\n",
    "\n",
    "out.close()\n",
    "    \n",
    "    "
   ]
  },
  {
   "cell_type": "code",
   "execution_count": 14,
   "metadata": {
    "collapsed": false
   },
   "outputs": [
    {
     "data": {
      "text/html": [
       "<div>\n",
       "<table border=\"1\" class=\"dataframe\">\n",
       "  <thead>\n",
       "    <tr style=\"text-align: right;\">\n",
       "      <th></th>\n",
       "      <th>ADA</th>\n",
       "      <th>-</th>\n",
       "      <th>ACOT8</th>\n",
       "    </tr>\n",
       "  </thead>\n",
       "  <tbody>\n",
       "    <tr>\n",
       "      <th>270698</th>\n",
       "      <td>SLC23A2</td>\n",
       "      <td>-</td>\n",
       "      <td>SLC23A1</td>\n",
       "    </tr>\n",
       "    <tr>\n",
       "      <th>270699</th>\n",
       "      <td>TNFSF15</td>\n",
       "      <td>-</td>\n",
       "      <td>CDC42</td>\n",
       "    </tr>\n",
       "    <tr>\n",
       "      <th>270700</th>\n",
       "      <td>THRAP3</td>\n",
       "      <td>-</td>\n",
       "      <td>MED12</td>\n",
       "    </tr>\n",
       "    <tr>\n",
       "      <th>270701</th>\n",
       "      <td>THRAP3</td>\n",
       "      <td>-</td>\n",
       "      <td>MED13</td>\n",
       "    </tr>\n",
       "    <tr>\n",
       "      <th>270702</th>\n",
       "      <td>MED12</td>\n",
       "      <td>-</td>\n",
       "      <td>MED13</td>\n",
       "    </tr>\n",
       "  </tbody>\n",
       "</table>\n",
       "</div>"
      ],
      "text/plain": [
       "            ADA  -    ACOT8\n",
       "270698  SLC23A2  -  SLC23A1\n",
       "270699  TNFSF15  -    CDC42\n",
       "270700   THRAP3  -    MED12\n",
       "270701   THRAP3  -    MED13\n",
       "270702    MED12  -    MED13"
      ]
     },
     "execution_count": 14,
     "metadata": {},
     "output_type": "execute_result"
    }
   ],
   "source": [
    "import pandas as pd\n",
    "\n",
    "hndf = pd.read_csv('HumanNet.v1.symbol.sif', sep='\\t')\n",
    "hndf.tail()"
   ]
  }
 ],
 "metadata": {
  "kernelspec": {
   "display_name": "Python 2",
   "language": "python",
   "name": "python2"
  },
  "language_info": {
   "codemirror_mode": {
    "name": "ipython",
    "version": 2
   },
   "file_extension": ".py",
   "mimetype": "text/x-python",
   "name": "python",
   "nbconvert_exporter": "python",
   "pygments_lexer": "ipython2",
   "version": "2.7.10"
  }
 },
 "nbformat": 4,
 "nbformat_minor": 0
}
