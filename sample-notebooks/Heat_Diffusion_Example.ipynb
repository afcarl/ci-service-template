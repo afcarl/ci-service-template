{
 "cells": [
  {
   "cell_type": "markdown",
   "metadata": {},
   "source": [
    "# Sample Notebook for new CI template code\n",
    "\n",
    "This is a sample notebook to test new CI template using message exchange.\n",
    "\n",
    "## Description\n",
    "\n",
    "This is a new template code for language-agnostic worker samples.\n",
    "\n",
    "## Sample 0: Boilarplate code for calling CI services\n",
    "\n",
    "### Find your server IP address first!"
   ]
  },
  {
   "cell_type": "code",
   "execution_count": 1,
   "metadata": {
    "collapsed": true
   },
   "outputs": [],
   "source": [
    "IP = '192.168.99.100'\n",
    "BASE = 'http://' + IP + '/v1/'  # You need to change this to your service server"
   ]
  },
  {
   "cell_type": "code",
   "execution_count": 4,
   "metadata": {
    "collapsed": false,
    "scrolled": false
   },
   "outputs": [
    {
     "name": "stdout",
     "output_type": "stream",
     "text": [
      "Here is the list of services supported by this submit agent:\n",
      "[\n",
      "    {\n",
      "        \"portNumber\": \"5556\",\n",
      "        \"description\": \"Kernel generator service\",\n",
      "        \"serviceName\": \"kernel\",\n",
      "        \"parameters\": [\n",
      "            {\n",
      "                \"name\": \"network_url\",\n",
      "                \"type\": \"string\",\n",
      "                \"description\": \"URL of the source SIF network file\",\n",
      "                \"required\": true\n",
      "            }\n",
      "        ]\n",
      "    },\n",
      "    {\n",
      "        \"portNumber\": \"5557\",\n",
      "        \"description\": \"Heat diffusion sub network finder service\",\n",
      "        \"serviceName\": \"subnet\",\n",
      "        \"parameters\": [\n",
      "            {\n",
      "                \"name\": \"network_url\",\n",
      "                \"type\": \"string\",\n",
      "                \"description\": \"URL of the SIF network file for the kernel\",\n",
      "                \"required\": true\n",
      "            },\n",
      "            {\n",
      "                \"name\": \"kernel_url\",\n",
      "                \"type\": \"string\",\n",
      "                \"description\": \"URL of the pre-computed kernel file\",\n",
      "                \"required\": true\n",
      "            },\n",
      "            {\n",
      "                \"name\": \"query\",\n",
      "                \"type\": \"array\",\n",
      "                \"description\": \"Array of gene names to be used for sub network search\",\n",
      "                \"required\": true\n",
      "            }\n",
      "        ]\n",
      "    }\n",
      "]\n"
     ]
    }
   ],
   "source": [
    "import requests\n",
    "import json\n",
    "\n",
    "def jprint(data):\n",
    "    print(json.dumps(data, indent=4))\n",
    "\n",
    "# Change this to  your Docker container's IP\n",
    "HEADERS = {'Content-Type': 'application/json'}\n",
    "\n",
    "# Check API Status\n",
    "res = requests.get(BASE + 'services')\n",
    "print(\"Here is the list of services supported by this submit agent:\")\n",
    "jprint(res.json())\n",
    "\n",
    "# List of sample file locations\n",
    "small_network = 'https://s3-us-west-2.amazonaws.com/ci-service-data/small.sif'\n",
    "med_network = 'https://s3-us-west-2.amazonaws.com/ci-service-data/yeastHighQuality.sif'\n",
    "\n",
    "# Pre-computed kernel and network (HumanNet)\n",
    "human_net = 'http://chianti.ucsd.edu/~kono/ci/data/HumanNet.v1.symbol.sif'\n",
    "human_net_kernel = 'http://chianti.ucsd.edu/~kono/ci/data/human_net.kernel.symbol.txt'"
   ]
  },
  {
   "cell_type": "markdown",
   "metadata": {},
   "source": [
    "## Sample1: Find Subnetwork using pre-computed kernel file\n",
    "\n",
    "if you already have pre-computed kernel file, you can use it to find sub networks using:\n",
    "\n",
    "* URL of Kernel file\n",
    "* URL of  SIF (network) file\n",
    "\n",
    "### _f (kernel, network, query) = subnetwork_"
   ]
  },
  {
   "cell_type": "code",
   "execution_count": 6,
   "metadata": {
    "collapsed": false
   },
   "outputs": [
    {
     "name": "stdout",
     "output_type": "stream",
     "text": [
      "{\n",
      "    \"status\": \"queued\",\n",
      "    \"job_id\": \"0e2738ae-7ebc-4778-83c7-eb8da12a4c59\"\n",
      "}\n"
     ]
    }
   ],
   "source": [
    "# Pre-computed sample kernel and network (HumanNet) stored in UCSD web server (about 0.5 GB)\n",
    "human_net = 'http://chianti.ucsd.edu/~kono/ci/data/HumanNet.v1.symbol.sif'\n",
    "human_net_kernel = 'http://chianti.ucsd.edu/~kono/ci/data/human_net.kernel.symbol.txt'\n",
    "\n",
    "# Specify kernel and SIF file locations\n",
    "base_query = {\n",
    "    'kernel_url': human_net_kernel,\n",
    "    'network_url': human_net,\n",
    "}\n",
    "\n",
    "gene_list = ['BRCA1', 'MAPK1']\n",
    "base_query['query'] = gene_list\n",
    "\n",
    "res = requests.post(BASE + 'services/subnet', data=json.dumps(base_query), headers=HEADERS)\n",
    "jprint(res.json())\n",
    "job_id1 = res.json()['job_id']"
   ]
  },
  {
   "cell_type": "code",
   "execution_count": 7,
   "metadata": {
    "collapsed": false,
    "scrolled": true
   },
   "outputs": [
    {
     "name": "stdout",
     "output_type": "stream",
     "text": [
      "[\n",
      "    {\n",
      "        \"status\": \"finished\",\n",
      "        \"job_id\": \"0e2738ae-7ebc-4778-83c7-eb8da12a4c59\"\n",
      "    }\n",
      "]\n"
     ]
    }
   ],
   "source": [
    "# Check the status of the job\n",
    "res = requests.get(BASE + 'queue')\n",
    "jprint(res.json())"
   ]
  },
  {
   "cell_type": "code",
   "execution_count": 8,
   "metadata": {
    "collapsed": false
   },
   "outputs": [
    {
     "name": "stdout",
     "output_type": "stream",
     "text": [
      "http://192.168.99.100/v1/queue/0e2738ae-7ebc-4778-83c7-eb8da12a4c59/result\n"
     ]
    }
   ],
   "source": [
    "# Get the result (Subnetwork in CX format)\n",
    "result_url = BASE + 'queue/' + job_id1 + '/result'\n",
    "print(result_url)\n",
    "res = requests.get(result_url)\n",
    "#jprint(res.json())"
   ]
  },
  {
   "cell_type": "markdown",
   "metadata": {},
   "source": [
    "## Sample 2: Create kernel from SIF file\n",
    "\n",
    "### _f (network) = kernel_"
   ]
  },
  {
   "cell_type": "code",
   "execution_count": null,
   "metadata": {
    "collapsed": false
   },
   "outputs": [],
   "source": [
    "# Specify locations of the SIF files\n",
    "sif_file_locations = [small_network, med_network]\n",
    "\n",
    "kernel_generation_tasks = {}\n",
    "\n",
    "for sif_location in sif_file_locations:\n",
    "    body = {\n",
    "        'network_url': sif_location\n",
    "    }\n",
    "    res = requests.post(BASE + 'services/kernel', json=body, headers=HEADERS)\n",
    "    kernel_generation_tasks[sif_location] = res.json()['job_id']\n",
    "    jprint(res.json())"
   ]
  },
  {
   "cell_type": "code",
   "execution_count": null,
   "metadata": {
    "collapsed": false
   },
   "outputs": [],
   "source": [
    "# Check the status of the job\n",
    "res = requests.get(BASE + 'queue')\n",
    "jprint(res.json())"
   ]
  },
  {
   "cell_type": "code",
   "execution_count": null,
   "metadata": {
    "collapsed": false
   },
   "outputs": [],
   "source": [
    "# Get result\n",
    "job_id_for_small_network = kernel_generation_tasks[small_network]\n",
    "\n",
    "kernel_url = BASE + 'queue/' + job_id_for_small_network + '/result'\n",
    "print(kernel_url)\n",
    "res = requests.get(kernel_url)\n",
    "kernel_info = res.json()\n",
    "jprint(kernel_info)"
   ]
  },
  {
   "cell_type": "code",
   "execution_count": null,
   "metadata": {
    "collapsed": false
   },
   "outputs": [],
   "source": [
    "# Use the result to find subnetwork\n",
    "base_query = {\n",
    "    'kernel_url': kernel_info['kernel_file'],\n",
    "    'network_url': kernel_info['network']\n",
    "}\n",
    "\n",
    "gene_list = [\"NRAS\", \"KRAS\", \"MAPK1\"]\n",
    "base_query['query'] = gene_list\n",
    "\n",
    "res = requests.post(BASE + 'services/subnet', data=json.dumps(base_query), headers=HEADERS)\n",
    "find_subnet_job_id = res.json()['job_id']\n",
    "jprint(res.json())"
   ]
  },
  {
   "cell_type": "code",
   "execution_count": null,
   "metadata": {
    "collapsed": false
   },
   "outputs": [],
   "source": [
    "# Check the result\n",
    "result_url = BASE + 'queue/' + find_subnet_job_id + '/result'\n",
    "print(result_url)\n",
    "res = requests.get(result_url)\n",
    "#jprint(res.json())"
   ]
  },
  {
   "cell_type": "markdown",
   "metadata": {},
   "source": [
    "## Sample 3: Get actual Kernel file\n",
    "For current configuration, kernels will be saved in a server in a restricted zone (= docker container separated from internet zone).  To access this, you need to open port. \n",
    "\n",
    "__Of course, this may be changed. It depends on deployment target.__\n"
   ]
  },
  {
   "cell_type": "code",
   "execution_count": null,
   "metadata": {
    "collapsed": false
   },
   "outputs": [],
   "source": [
    "import pandas as pd\n",
    "\n",
    "temp = kernel_info['kernel_file']\n",
    "parts = temp.split('/')\n",
    "parts[2] = IP + ':3333' # This is the default opened port...\n",
    "kernel_url = '/'.join(parts)\n",
    "print(kernel_url)\n",
    "\n",
    "df = pd.read_csv(kernel_url, sep=\"\\t\")\n",
    "df.head()"
   ]
  }
 ],
 "metadata": {
  "kernelspec": {
   "display_name": "Python 3",
   "language": "python",
   "name": "python3"
  },
  "language_info": {
   "codemirror_mode": {
    "name": "ipython",
    "version": 3
   },
   "file_extension": ".py",
   "mimetype": "text/x-python",
   "name": "python",
   "nbconvert_exporter": "python",
   "pygments_lexer": "ipython3",
   "version": "3.4.3"
  }
 },
 "nbformat": 4,
 "nbformat_minor": 0
}
