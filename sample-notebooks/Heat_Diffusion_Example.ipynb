{
 "cells": [
  {
   "cell_type": "markdown",
   "metadata": {},
   "source": [
    "# Samples for new CI template code\n",
    "\n",
    "This is a sample notebook to test new CI template using message exchange.\n",
    "\n",
    "## Description\n",
    "\n",
    "This is a new template code for language-agnostic worker samples.\n",
    "\n",
    "## Sample 0: Boilarplate code for calling CI services\n",
    "\n",
    "### Find your server IP address first!"
   ]
  },
  {
   "cell_type": "code",
   "execution_count": 1,
   "metadata": {
    "collapsed": true
   },
   "outputs": [],
   "source": [
    "IP = '192.168.99.100'\n",
    "BASE = 'http://' + IP + '/v1/'  # You need to change this to your service server"
   ]
  },
  {
   "cell_type": "code",
   "execution_count": 2,
   "metadata": {
    "collapsed": false,
    "scrolled": false
   },
   "outputs": [
    {
     "name": "stdout",
     "output_type": "stream",
     "text": [
      "Here is the list of services supported by this submit agent:\n",
      "[\n",
      "    {\n",
      "        \"serviceName\": \"subnet\", \n",
      "        \"portNumber\": \"5557\"\n",
      "    }, \n",
      "    {\n",
      "        \"serviceName\": \"kernel\", \n",
      "        \"portNumber\": \"5556\"\n",
      "    }\n",
      "]\n"
     ]
    }
   ],
   "source": [
    "import requests\n",
    "import json\n",
    "\n",
    "def jprint(data):\n",
    "    print(json.dumps(data, indent=4))\n",
    "\n",
    "# Change this to  your Docker container's IP\n",
    "HEADERS = {'Content-Type': 'application/json'}\n",
    "\n",
    "# Check API Status\n",
    "res = requests.get(BASE + 'services')\n",
    "print(\"Here is the list of services supported by this submit agent:\")\n",
    "jprint(res.json())\n",
    "\n",
    "# List of sample file locations\n",
    "small_network = 'https://s3-us-west-2.amazonaws.com/ci-service-data/small.sif'\n",
    "med_network = 'https://s3-us-west-2.amazonaws.com/ci-service-data/yeastHighQuality.sif'\n",
    "\n",
    "# Pre-computed kernel and network (HumanNet)\n",
    "human_net = 'http://chianti.ucsd.edu/~kono/ci/data/HumanNet.v1.symbol.sif'\n",
    "human_net_kernel = 'http://chianti.ucsd.edu/~kono/ci/data/human_net.kernel.symbol.txt'"
   ]
  },
  {
   "cell_type": "markdown",
   "metadata": {},
   "source": [
    "## Sample1: Find Subnetwork using pre-computed kernel file\n",
    "\n",
    "if you already have pre-computed kernel file, you can use it to find sub networks using:\n",
    "\n",
    "* URL of Kernel file\n",
    "* URL of  SIF (network) file\n",
    "\n",
    "### _f (kernel, network, query) = subnetwork_"
   ]
  },
  {
   "cell_type": "code",
   "execution_count": 3,
   "metadata": {
    "collapsed": false
   },
   "outputs": [
    {
     "name": "stdout",
     "output_type": "stream",
     "text": [
      "{\n",
      "    \"status\": \"queued\", \n",
      "    \"job_id\": \"8e6cf61b-a396-4a3e-b050-fe5dab3a9407\"\n",
      "}\n"
     ]
    }
   ],
   "source": [
    "# Pre-computed sample kernel and network (HumanNet) stored in UCSD web server (about 0.5 GB)\n",
    "human_net = 'http://chianti.ucsd.edu/~kono/ci/data/HumanNet.v1.symbol.sif'\n",
    "human_net_kernel = 'http://chianti.ucsd.edu/~kono/ci/data/human_net.kernel.symbol.txt'\n",
    "\n",
    "# Specify kernel and SIF file locations\n",
    "base_query = {\n",
    "    'kernel_url': human_net_kernel,\n",
    "    'network_url': human_net,\n",
    "}\n",
    "\n",
    "gene_list = ['BRCA1', 'MAPK1']\n",
    "base_query['query'] = gene_list\n",
    "\n",
    "res = requests.post(BASE + 'services/subnet', data=json.dumps(base_query), headers=HEADERS)\n",
    "job_id1 = res.json()['job_id']\n",
    "jprint(res.json())"
   ]
  },
  {
   "cell_type": "code",
   "execution_count": 5,
   "metadata": {
    "collapsed": false,
    "scrolled": true
   },
   "outputs": [
    {
     "name": "stdout",
     "output_type": "stream",
     "text": [
      "[\n",
      "    {\n",
      "        \"status\": \"finished\", \n",
      "        \"job_id\": \"8e6cf61b-a396-4a3e-b050-fe5dab3a9407\"\n",
      "    }\n",
      "]\n"
     ]
    }
   ],
   "source": [
    "# Check the status of the job\n",
    "res = requests.get(BASE + 'queue')\n",
    "jprint(res.json())"
   ]
  },
  {
   "cell_type": "code",
   "execution_count": 6,
   "metadata": {
    "collapsed": false
   },
   "outputs": [
    {
     "name": "stdout",
     "output_type": "stream",
     "text": [
      "http://192.168.99.100/v1/queue/8e6cf61b-a396-4a3e-b050-fe5dab3a9407/result\n"
     ]
    }
   ],
   "source": [
    "# Get the result (Subnetwork in CX format)\n",
    "result_url = BASE + 'queue/' + job_id1 + '/result'\n",
    "print(result_url)\n",
    "res = requests.get(result_url)\n",
    "#jprint(res.json())"
   ]
  },
  {
   "cell_type": "markdown",
   "metadata": {},
   "source": [
    "## Sample 2: Create kernel from SIF file\n",
    "\n",
    "### _f (network) = kernel_"
   ]
  },
  {
   "cell_type": "code",
   "execution_count": 7,
   "metadata": {
    "collapsed": false
   },
   "outputs": [
    {
     "name": "stdout",
     "output_type": "stream",
     "text": [
      "{\n",
      "    \"status\": \"queued\", \n",
      "    \"job_id\": \"5913c942-af02-41c7-ad2d-449172783f4a\"\n",
      "}\n",
      "{\n",
      "    \"status\": \"queued\", \n",
      "    \"job_id\": \"5c34e020-b308-42c3-ad69-682452c92948\"\n",
      "}\n"
     ]
    }
   ],
   "source": [
    "# Specify locations of the SIF files\n",
    "sif_file_locations = [small_network, med_network]\n",
    "\n",
    "kernel_generation_tasks = {}\n",
    "\n",
    "for sif_location in sif_file_locations:\n",
    "    body = {\n",
    "        'network_url': sif_location\n",
    "    }\n",
    "    res = requests.post(BASE + 'services/kernel', json=body, headers=HEADERS)\n",
    "    kernel_generation_tasks[sif_location] = res.json()['job_id']\n",
    "    jprint(res.json())"
   ]
  },
  {
   "cell_type": "code",
   "execution_count": 8,
   "metadata": {
    "collapsed": false
   },
   "outputs": [
    {
     "name": "stdout",
     "output_type": "stream",
     "text": [
      "[\n",
      "    {\n",
      "        \"status\": \"finished\", \n",
      "        \"job_id\": \"5c34e020-b308-42c3-ad69-682452c92948\"\n",
      "    }, \n",
      "    {\n",
      "        \"status\": \"finished\", \n",
      "        \"job_id\": \"8e6cf61b-a396-4a3e-b050-fe5dab3a9407\"\n",
      "    }, \n",
      "    {\n",
      "        \"status\": \"finished\", \n",
      "        \"job_id\": \"5913c942-af02-41c7-ad2d-449172783f4a\"\n",
      "    }\n",
      "]\n"
     ]
    }
   ],
   "source": [
    "# Check the status of the job\n",
    "res = requests.get(BASE + 'queue')\n",
    "jprint(res.json())"
   ]
  },
  {
   "cell_type": "code",
   "execution_count": 9,
   "metadata": {
    "collapsed": false
   },
   "outputs": [
    {
     "name": "stdout",
     "output_type": "stream",
     "text": [
      "http://192.168.99.100/v1/queue/5913c942-af02-41c7-ad2d-449172783f4a/result\n",
      "{\n",
      "    \"kernel_id\": \"bb855967-2217-4b6c-8ac9-c52a81f0901e\", \n",
      "    \"kernel_file\": \"http://kernelserver:3000/data/fba36f30-6178-11e5-b4c9-11f010adaf04\", \n",
      "    \"network\": \"https://s3-us-west-2.amazonaws.com/ci-service-data/small.sif\"\n",
      "}\n"
     ]
    }
   ],
   "source": [
    "# Get result\n",
    "job_id_for_small_network = kernel_generation_tasks[small_network]\n",
    "\n",
    "kernel_url = BASE + 'queue/' + job_id_for_small_network + '/result'\n",
    "print(kernel_url)\n",
    "res = requests.get(kernel_url)\n",
    "kernel_info = res.json()\n",
    "jprint(kernel_info)"
   ]
  },
  {
   "cell_type": "code",
   "execution_count": 10,
   "metadata": {
    "collapsed": false
   },
   "outputs": [
    {
     "name": "stdout",
     "output_type": "stream",
     "text": [
      "{\n",
      "    \"status\": \"queued\", \n",
      "    \"job_id\": \"f76de101-5abb-489d-b79c-648beedc1096\"\n",
      "}\n"
     ]
    }
   ],
   "source": [
    "# Use the result to find subnetwork\n",
    "base_query = {\n",
    "    'kernel_url': kernel_info['kernel_file'],\n",
    "    'network_url': kernel_info['network']\n",
    "}\n",
    "\n",
    "gene_list = [\"NRAS\", \"KRAS\", \"MAPK1\"]\n",
    "base_query['query'] = gene_list\n",
    "\n",
    "res = requests.post(BASE + 'services/subnet', data=json.dumps(base_query), headers=HEADERS)\n",
    "find_subnet_job_id = res.json()['job_id']\n",
    "jprint(res.json())"
   ]
  },
  {
   "cell_type": "code",
   "execution_count": 11,
   "metadata": {
    "collapsed": false
   },
   "outputs": [
    {
     "name": "stdout",
     "output_type": "stream",
     "text": [
      "http://192.168.99.100/v1/queue/f76de101-5abb-489d-b79c-648beedc1096/result\n"
     ]
    }
   ],
   "source": [
    "# Check the result\n",
    "result_url = BASE + 'queue/' + find_subnet_job_id + '/result'\n",
    "print(result_url)\n",
    "res = requests.get(result_url)\n",
    "#jprint(res.json())"
   ]
  },
  {
   "cell_type": "markdown",
   "metadata": {},
   "source": [
    "## Sample 3: Get actual Kernel file\n",
    "For current configuration, kernels will be saved in a server in a restricted zone (= docker container separated from internet zone).  To access this, you need to open port. \n",
    "\n",
    "__Of course, this may be changed. It depends on deployment target.__\n"
   ]
  },
  {
   "cell_type": "code",
   "execution_count": 12,
   "metadata": {
    "collapsed": false
   },
   "outputs": [
    {
     "name": "stdout",
     "output_type": "stream",
     "text": [
      "http://192.168.99.100:3333/data/fba36f30-6178-11e5-b4c9-11f010adaf04\n"
     ]
    },
    {
     "data": {
      "text/html": [
       "<div>\n",
       "<table border=\"1\" class=\"dataframe\">\n",
       "  <thead>\n",
       "    <tr style=\"text-align: right;\">\n",
       "      <th></th>\n",
       "      <th>Key</th>\n",
       "      <th>AASDHPPT</th>\n",
       "      <th>ABL1</th>\n",
       "      <th>ACP1</th>\n",
       "      <th>ADI1</th>\n",
       "      <th>ADIPOQ</th>\n",
       "      <th>ADORA2A</th>\n",
       "      <th>ADRA2A</th>\n",
       "      <th>ADRA2B</th>\n",
       "      <th>ADRB2</th>\n",
       "      <th>...</th>\n",
       "      <th>UBTF</th>\n",
       "      <th>UCN</th>\n",
       "      <th>USF1</th>\n",
       "      <th>VASP</th>\n",
       "      <th>VAV1</th>\n",
       "      <th>VEGFA</th>\n",
       "      <th>WEE1</th>\n",
       "      <th>XIAP</th>\n",
       "      <th>YES1</th>\n",
       "      <th>ZFP36</th>\n",
       "    </tr>\n",
       "  </thead>\n",
       "  <tbody>\n",
       "    <tr>\n",
       "      <th>0</th>\n",
       "      <td>AASDHPPT</td>\n",
       "      <td>0.905697</td>\n",
       "      <td>0.000005</td>\n",
       "      <td>0.000005</td>\n",
       "      <td>0.000860</td>\n",
       "      <td>0.000005</td>\n",
       "      <td>0.000860</td>\n",
       "      <td>0.000005</td>\n",
       "      <td>0.000005</td>\n",
       "      <td>0.000005</td>\n",
       "      <td>...</td>\n",
       "      <td>0.000005</td>\n",
       "      <td>0.000003</td>\n",
       "      <td>0.000005</td>\n",
       "      <td>0.000860</td>\n",
       "      <td>0.000005</td>\n",
       "      <td>0.000005</td>\n",
       "      <td>0.000005</td>\n",
       "      <td>0.000005</td>\n",
       "      <td>0.000005</td>\n",
       "      <td>0.000005</td>\n",
       "    </tr>\n",
       "    <tr>\n",
       "      <th>1</th>\n",
       "      <td>ABL1</td>\n",
       "      <td>0.000005</td>\n",
       "      <td>0.905089</td>\n",
       "      <td>0.000252</td>\n",
       "      <td>0.000005</td>\n",
       "      <td>0.000252</td>\n",
       "      <td>0.000005</td>\n",
       "      <td>0.000252</td>\n",
       "      <td>0.000252</td>\n",
       "      <td>0.000252</td>\n",
       "      <td>...</td>\n",
       "      <td>0.000252</td>\n",
       "      <td>0.000008</td>\n",
       "      <td>0.000252</td>\n",
       "      <td>0.000005</td>\n",
       "      <td>0.000252</td>\n",
       "      <td>0.000252</td>\n",
       "      <td>0.000252</td>\n",
       "      <td>0.000252</td>\n",
       "      <td>0.000252</td>\n",
       "      <td>0.000252</td>\n",
       "    </tr>\n",
       "    <tr>\n",
       "      <th>2</th>\n",
       "      <td>ACP1</td>\n",
       "      <td>0.000005</td>\n",
       "      <td>0.000252</td>\n",
       "      <td>0.905089</td>\n",
       "      <td>0.000005</td>\n",
       "      <td>0.000252</td>\n",
       "      <td>0.000005</td>\n",
       "      <td>0.000252</td>\n",
       "      <td>0.000252</td>\n",
       "      <td>0.000252</td>\n",
       "      <td>...</td>\n",
       "      <td>0.000252</td>\n",
       "      <td>0.000008</td>\n",
       "      <td>0.000252</td>\n",
       "      <td>0.000005</td>\n",
       "      <td>0.000252</td>\n",
       "      <td>0.000252</td>\n",
       "      <td>0.000252</td>\n",
       "      <td>0.000252</td>\n",
       "      <td>0.000252</td>\n",
       "      <td>0.000252</td>\n",
       "    </tr>\n",
       "    <tr>\n",
       "      <th>3</th>\n",
       "      <td>ADI1</td>\n",
       "      <td>0.000860</td>\n",
       "      <td>0.000005</td>\n",
       "      <td>0.000005</td>\n",
       "      <td>0.905697</td>\n",
       "      <td>0.000005</td>\n",
       "      <td>0.000860</td>\n",
       "      <td>0.000005</td>\n",
       "      <td>0.000005</td>\n",
       "      <td>0.000005</td>\n",
       "      <td>...</td>\n",
       "      <td>0.000005</td>\n",
       "      <td>0.000003</td>\n",
       "      <td>0.000005</td>\n",
       "      <td>0.000860</td>\n",
       "      <td>0.000005</td>\n",
       "      <td>0.000005</td>\n",
       "      <td>0.000005</td>\n",
       "      <td>0.000005</td>\n",
       "      <td>0.000005</td>\n",
       "      <td>0.000005</td>\n",
       "    </tr>\n",
       "    <tr>\n",
       "      <th>4</th>\n",
       "      <td>ADIPOQ</td>\n",
       "      <td>0.000005</td>\n",
       "      <td>0.000252</td>\n",
       "      <td>0.000252</td>\n",
       "      <td>0.000005</td>\n",
       "      <td>0.905089</td>\n",
       "      <td>0.000005</td>\n",
       "      <td>0.000252</td>\n",
       "      <td>0.000252</td>\n",
       "      <td>0.000252</td>\n",
       "      <td>...</td>\n",
       "      <td>0.000252</td>\n",
       "      <td>0.000008</td>\n",
       "      <td>0.000252</td>\n",
       "      <td>0.000005</td>\n",
       "      <td>0.000252</td>\n",
       "      <td>0.000252</td>\n",
       "      <td>0.000252</td>\n",
       "      <td>0.000252</td>\n",
       "      <td>0.000252</td>\n",
       "      <td>0.000252</td>\n",
       "    </tr>\n",
       "  </tbody>\n",
       "</table>\n",
       "<p>5 rows × 530 columns</p>\n",
       "</div>"
      ],
      "text/plain": [
       "        Key  AASDHPPT      ABL1      ACP1      ADI1    ADIPOQ   ADORA2A  \\\n",
       "0  AASDHPPT  0.905697  0.000005  0.000005  0.000860  0.000005  0.000860   \n",
       "1      ABL1  0.000005  0.905089  0.000252  0.000005  0.000252  0.000005   \n",
       "2      ACP1  0.000005  0.000252  0.905089  0.000005  0.000252  0.000005   \n",
       "3      ADI1  0.000860  0.000005  0.000005  0.905697  0.000005  0.000860   \n",
       "4    ADIPOQ  0.000005  0.000252  0.000252  0.000005  0.905089  0.000005   \n",
       "\n",
       "     ADRA2A    ADRA2B     ADRB2    ...         UBTF       UCN      USF1  \\\n",
       "0  0.000005  0.000005  0.000005    ...     0.000005  0.000003  0.000005   \n",
       "1  0.000252  0.000252  0.000252    ...     0.000252  0.000008  0.000252   \n",
       "2  0.000252  0.000252  0.000252    ...     0.000252  0.000008  0.000252   \n",
       "3  0.000005  0.000005  0.000005    ...     0.000005  0.000003  0.000005   \n",
       "4  0.000252  0.000252  0.000252    ...     0.000252  0.000008  0.000252   \n",
       "\n",
       "       VASP      VAV1     VEGFA      WEE1      XIAP      YES1     ZFP36  \n",
       "0  0.000860  0.000005  0.000005  0.000005  0.000005  0.000005  0.000005  \n",
       "1  0.000005  0.000252  0.000252  0.000252  0.000252  0.000252  0.000252  \n",
       "2  0.000005  0.000252  0.000252  0.000252  0.000252  0.000252  0.000252  \n",
       "3  0.000860  0.000005  0.000005  0.000005  0.000005  0.000005  0.000005  \n",
       "4  0.000005  0.000252  0.000252  0.000252  0.000252  0.000252  0.000252  \n",
       "\n",
       "[5 rows x 530 columns]"
      ]
     },
     "execution_count": 12,
     "metadata": {},
     "output_type": "execute_result"
    }
   ],
   "source": [
    "import pandas as pd\n",
    "\n",
    "temp = kernel_info['kernel_file']\n",
    "parts = temp.split('/')\n",
    "parts[2] = IP + ':3333' # This is the default opened port...\n",
    "kernel_url = '/'.join(parts)\n",
    "print(kernel_url)\n",
    "\n",
    "df = pd.read_csv(kernel_url, sep=\"\\t\")\n",
    "df.head()"
   ]
  }
 ],
 "metadata": {
  "kernelspec": {
   "display_name": "Python 2",
   "language": "python",
   "name": "python2"
  },
  "language_info": {
   "codemirror_mode": {
    "name": "ipython",
    "version": 2
   },
   "file_extension": ".py",
   "mimetype": "text/x-python",
   "name": "python",
   "nbconvert_exporter": "python",
   "pygments_lexer": "ipython2",
   "version": "2.7.10"
  }
 },
 "nbformat": 4,
 "nbformat_minor": 0
}
