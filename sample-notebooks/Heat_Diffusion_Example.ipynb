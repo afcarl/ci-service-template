{
 "cells": [
  {
   "cell_type": "markdown",
   "metadata": {},
   "source": [
    "# Sample client code for CI services\n",
    "\n",
    "This is a sample notebook to drive your CI services from Jupyter Notebook.\n",
    "\n",
    "## Description\n",
    "\n",
    "This example demonstrates how to use services deployed using the new CI service template.  As an example, we use heat diffusion service.\n",
    "\n",
    "### Questions?\n",
    "Please send them to Kei Ono (kono at ucsd edu)\n",
    "\n",
    "----\n",
    "\n",
    "## Step 0: Boilarplate code for service callers\n",
    "\n",
    "__Find your container host IP address first!__"
   ]
  },
  {
   "cell_type": "code",
   "execution_count": 1,
   "metadata": {
    "collapsed": false
   },
   "outputs": [
    {
     "name": "stdout",
     "output_type": "stream",
     "text": [
      "Click the link below to make sure your service can be called from web browser:\n",
      "\n",
      "http://192.168.99.100/v1\n",
      "\n",
      "It should be same as below...\n",
      "\n",
      "{\n",
      "    \"version\": \"1\",\n",
      "    \"message\": \"Called by:  192.168.99.1\",\n",
      "    \"serviceName\": \"Cytoscape CI template service\"\n",
      "}\n"
     ]
    }
   ],
   "source": [
    "import requests\n",
    "import json\n",
    "\n",
    "# Utility function to print JSON nicely in notebooks\n",
    "def jprint(data):\n",
    "    print(json.dumps(data, indent=4))\n",
    "\n",
    "IP = '192.168.99.100'\n",
    "BASE = 'http://' + IP + '/v1'  # You need to change this to your service server\n",
    "HEADERS = {'Content-Type': 'application/json'}\n",
    "\n",
    "print ('Click the link below to make sure your service can be called from web browser:\\n')\n",
    "print(BASE)\n",
    "\n",
    "# Test Service from notebook\n",
    "res = requests.get(BASE)\n",
    "print('\\nIt should be same as below...\\n')\n",
    "jprint(res.json())\n",
    "\n",
    "BASE = BASE + '/' "
   ]
  },
  {
   "cell_type": "markdown",
   "metadata": {},
   "source": [
    "## Step 1: Check Available Services"
   ]
  },
  {
   "cell_type": "code",
   "execution_count": 3,
   "metadata": {
    "collapsed": false,
    "scrolled": true
   },
   "outputs": [
    {
     "name": "stdout",
     "output_type": "stream",
     "text": [
      "Here is the list of services supported by this submit agent:\n",
      "\n",
      "[\n",
      "    {\n",
      "        \"parameters\": {\n",
      "            \"network_url\": {\n",
      "                \"required\": true,\n",
      "                \"description\": \"URL of the source SIF network file.\",\n",
      "                \"type\": \"string\"\n",
      "            }\n",
      "        },\n",
      "        \"description\": \"Kernel generator service.\",\n",
      "        \"portNumber\": \"5556\",\n",
      "        \"serviceName\": \"kernel\"\n",
      "    },\n",
      "    {\n",
      "        \"parameters\": [\n",
      "            {\n",
      "                \"required\": true,\n",
      "                \"description\": \"arg\",\n",
      "                \"type\": \"string\",\n",
      "                \"name\": \"arg\"\n",
      "            }\n",
      "        ],\n",
      "        \"description\": \"Shell script worker example\",\n",
      "        \"portNumber\": \"5548\",\n",
      "        \"serviceName\": \"shell\"\n",
      "    },\n",
      "    {\n",
      "        \"parameters\": {\n",
      "            \"network_url\": {\n",
      "                \"required\": true,\n",
      "                \"description\": \"URL of the SIF network file for the kernel.\",\n",
      "                \"type\": \"string\"\n",
      "            },\n",
      "            \"query\": {\n",
      "                \"required\": true,\n",
      "                \"description\": \"Array of gene names to be used for sub network search.\",\n",
      "                \"type\": \"array\"\n",
      "            },\n",
      "            \"kernel_url\": {\n",
      "                \"required\": true,\n",
      "                \"description\": \"URL of the pre-computed kernel file.\",\n",
      "                \"type\": \"string\"\n",
      "            }\n",
      "        },\n",
      "        \"description\": \"Heat diffusion sub network finder service.\",\n",
      "        \"portNumber\": \"5557\",\n",
      "        \"serviceName\": \"subnet\"\n",
      "    },\n",
      "    {\n",
      "        \"parameters\": [\n",
      "            {\n",
      "                \"required\": true,\n",
      "                \"description\": \"Input file location\",\n",
      "                \"type\": \"string\",\n",
      "                \"name\": \"inputFile\"\n",
      "            }\n",
      "        ],\n",
      "        \"description\": \"NBS worker sample\",\n",
      "        \"portNumber\": \"5561\",\n",
      "        \"serviceName\": \"nbs\"\n",
      "    },\n",
      "    {\n",
      "        \"parameters\": [\n",
      "            {\n",
      "                \"required\": true,\n",
      "                \"description\": \"Any string message to be returned.\",\n",
      "                \"type\": \"string\",\n",
      "                \"name\": \"message\"\n",
      "            }\n",
      "        ],\n",
      "        \"description\": \"Sample Python worker to display greeting message\",\n",
      "        \"portNumber\": \"5559\",\n",
      "        \"serviceName\": \"hello-python\"\n",
      "    },\n",
      "    {\n",
      "        \"parameters\": [\n",
      "            {\n",
      "                \"required\": true,\n",
      "                \"description\": \"Unique network ID in NDEx\",\n",
      "                \"type\": \"string\",\n",
      "                \"name\": \"network_id\"\n",
      "            }\n",
      "        ],\n",
      "        \"description\": \"Sample Python worker to process network from NDEx\",\n",
      "        \"portNumber\": \"5549\",\n",
      "        \"serviceName\": \"ndex\"\n",
      "    },\n",
      "    {\n",
      "        \"parameters\": [\n",
      "            {\n",
      "                \"required\": true,\n",
      "                \"description\": \"Greeting message\",\n",
      "                \"type\": \"string\",\n",
      "                \"name\": \"message\"\n",
      "            }\n",
      "        ],\n",
      "        \"description\": \"Sample Java worker to display greeting message\",\n",
      "        \"portNumber\": \"5560\",\n",
      "        \"serviceName\": \"hello-java\"\n",
      "    }\n",
      "]\n"
     ]
    }
   ],
   "source": [
    "# This is for listing all registered services\n",
    "res = requests.get(BASE + 'services')\n",
    "print(\"Here is the list of services supported by this submit agent:\\n\")\n",
    "jprint(res.json())"
   ]
  },
  {
   "cell_type": "markdown",
   "metadata": {},
   "source": [
    "## Sample1: Find Subnetwork using pre-computed kernel file\n",
    "\n",
    "if you already have pre-computed kernel file, you can use it to find sub networks using:\n",
    "\n",
    "* URL of Kernel file\n",
    "* URL of  SIF (network) file\n",
    "\n",
    "### _f (kernel, network, query) = subnetwork_"
   ]
  },
  {
   "cell_type": "code",
   "execution_count": 4,
   "metadata": {
    "collapsed": false
   },
   "outputs": [
    {
     "name": "stdout",
     "output_type": "stream",
     "text": [
      "{\n",
      "    \"job_id\": \"07df4c64-6402-48af-a9d0-54f9e83cebee\",\n",
      "    \"status\": \"queued\"\n",
      "}\n"
     ]
    }
   ],
   "source": [
    "# List of sample file locations\n",
    "small_network = 'https://s3-us-west-2.amazonaws.com/ci-service-data/small.sif'\n",
    "med_network = 'https://s3-us-west-2.amazonaws.com/ci-service-data/yeastHighQuality.sif'\n",
    "\n",
    "# Pre-computed sample kernel and network (HumanNet) stored in UCSD web server (about 0.5 GB)\n",
    "human_net = 'http://chianti.ucsd.edu/~kono/ci/data/HumanNet.v1.symbol.sif'\n",
    "human_net_kernel = 'http://chianti.ucsd.edu/~kono/ci/data/human_net.kernel.symbol.txt'\n",
    "\n",
    "# Specify kernel and SIF file locations\n",
    "base_query = {\n",
    "    'kernel_url': human_net_kernel,\n",
    "    'network_url': human_net,\n",
    "}\n",
    "\n",
    "gene_list = ['BRCA1', 'MAPK1']\n",
    "base_query['query'] = gene_list\n",
    "\n",
    "res = requests.post(BASE + 'services/subnet', data=json.dumps(base_query), headers=HEADERS)\n",
    "jprint(res.json())\n",
    "job_id1 = res.json()['job_id']"
   ]
  },
  {
   "cell_type": "code",
   "execution_count": 5,
   "metadata": {
    "collapsed": false,
    "scrolled": true
   },
   "outputs": [
    {
     "name": "stdout",
     "output_type": "stream",
     "text": [
      "[\n",
      "    {\n",
      "        \"job_id\": \"a65bfa0d-072b-4f19-a66f-2e11aa7b2326\",\n",
      "        \"status\": \"finished\"\n",
      "    },\n",
      "    {\n",
      "        \"job_id\": \"89e4415c-2ca7-417c-805a-dfe8497854d8\",\n",
      "        \"status\": \"finished\"\n",
      "    },\n",
      "    {\n",
      "        \"job_id\": \"bbf6edfc-e6ae-44f7-aa99-4f2b06d06812\",\n",
      "        \"status\": \"finished\"\n",
      "    },\n",
      "    {\n",
      "        \"job_id\": \"9e8cac38-325d-4381-a69a-5bfee0c22a06\",\n",
      "        \"status\": \"finished\"\n",
      "    },\n",
      "    {\n",
      "        \"job_id\": \"34f313a2-8161-44f0-b14d-208b77ff5d38\",\n",
      "        \"status\": \"finished\"\n",
      "    },\n",
      "    {\n",
      "        \"job_id\": \"6d7c351d-e3e1-430c-941f-1d3b2fc03262\",\n",
      "        \"status\": \"finished\"\n",
      "    },\n",
      "    {\n",
      "        \"job_id\": \"e945a7c9-a8cf-4592-ab16-c0d71b3d64c2\",\n",
      "        \"status\": \"finished\"\n",
      "    },\n",
      "    {\n",
      "        \"job_id\": \"8f2670c0-f841-42fe-9b7a-4a2205487c05\",\n",
      "        \"status\": \"finished\"\n",
      "    },\n",
      "    {\n",
      "        \"job_id\": \"2d8810bc-2734-4269-a804-8e51e417d06f\",\n",
      "        \"status\": \"finished\"\n",
      "    },\n",
      "    {\n",
      "        \"job_id\": \"07df4c64-6402-48af-a9d0-54f9e83cebee\",\n",
      "        \"status\": \"running\"\n",
      "    },\n",
      "    {\n",
      "        \"job_id\": \"bb320d2a-fe72-447b-9e4c-54440685b136\",\n",
      "        \"status\": \"finished\"\n",
      "    }\n",
      "]\n"
     ]
    }
   ],
   "source": [
    "# Check the status of the job\n",
    "res = requests.get(BASE + 'queue')\n",
    "jprint(res.json())"
   ]
  },
  {
   "cell_type": "code",
   "execution_count": 6,
   "metadata": {
    "collapsed": false
   },
   "outputs": [
    {
     "name": "stdout",
     "output_type": "stream",
     "text": [
      "http://192.168.99.100/v1/queue/07df4c64-6402-48af-a9d0-54f9e83cebee/result\n"
     ]
    }
   ],
   "source": [
    "# Get the result (Subnetwork in CX format)\n",
    "result_url = BASE + 'queue/' + '07df4c64-6402-48af-a9d0-54f9e83cebee' + '/result'\n",
    "print(result_url)\n",
    "res = requests.get(result_url)\n",
    "#jprint(res.json())"
   ]
  },
  {
   "cell_type": "markdown",
   "metadata": {},
   "source": [
    "## Sample 2: Create kernel from SIF file\n",
    "\n",
    "### _f (network) = kernel_"
   ]
  },
  {
   "cell_type": "code",
   "execution_count": null,
   "metadata": {
    "collapsed": false
   },
   "outputs": [],
   "source": [
    "# Specify locations of the SIF files\n",
    "sif_file_locations = [small_network, med_network]\n",
    "\n",
    "kernel_generation_tasks = {}\n",
    "\n",
    "for sif_location in sif_file_locations:\n",
    "    body = {\n",
    "        'network_url': sif_location\n",
    "    }\n",
    "    res = requests.post(BASE + 'services/kernel', json=body, headers=HEADERS)\n",
    "    kernel_generation_tasks[sif_location] = res.json()['job_id']\n",
    "    jprint(res.json())"
   ]
  },
  {
   "cell_type": "code",
   "execution_count": null,
   "metadata": {
    "collapsed": false
   },
   "outputs": [],
   "source": [
    "# Check the status of the job\n",
    "res = requests.get(BASE + 'queue')\n",
    "jprint(res.json())"
   ]
  },
  {
   "cell_type": "code",
   "execution_count": null,
   "metadata": {
    "collapsed": false
   },
   "outputs": [],
   "source": [
    "# Get result\n",
    "job_id_for_small_network = kernel_generation_tasks[small_network]\n",
    "\n",
    "kernel_url = BASE + 'queue/' + job_id_for_small_network + '/result'\n",
    "print(kernel_url)\n",
    "res = requests.get(kernel_url)\n",
    "kernel_info = res.json()\n",
    "jprint(kernel_info)"
   ]
  },
  {
   "cell_type": "code",
   "execution_count": null,
   "metadata": {
    "collapsed": false
   },
   "outputs": [],
   "source": [
    "# Use the result to find subnetwork\n",
    "base_query = {\n",
    "    'kernel_url': kernel_info['kernel_file'],\n",
    "    'network_url': kernel_info['network']\n",
    "}\n",
    "\n",
    "gene_list = [\"NRAS\", \"KRAS\", \"MAPK1\"]\n",
    "base_query['query'] = gene_list\n",
    "\n",
    "res = requests.post(BASE + 'services/subnet', data=json.dumps(base_query), headers=HEADERS)\n",
    "find_subnet_job_id = res.json()['job_id']\n",
    "jprint(res.json())"
   ]
  },
  {
   "cell_type": "code",
   "execution_count": null,
   "metadata": {
    "collapsed": false
   },
   "outputs": [],
   "source": [
    "# Check the result\n",
    "result_url = BASE + 'queue/' + find_subnet_job_id + '/result'\n",
    "print(result_url)\n",
    "res = requests.get(result_url)\n",
    "#jprint(res.json())"
   ]
  },
  {
   "cell_type": "markdown",
   "metadata": {},
   "source": [
    "## Sample 3: Get actual Kernel file\n",
    "For current configuration, kernels will be saved in a server in a restricted zone (= docker container separated from internet zone).  To access this, you need to open port. \n",
    "\n",
    "__Of course, this may be changed. It depends on deployment target.__\n"
   ]
  },
  {
   "cell_type": "code",
   "execution_count": null,
   "metadata": {
    "collapsed": false
   },
   "outputs": [],
   "source": [
    "import pandas as pd\n",
    "\n",
    "temp = kernel_info['kernel_file']\n",
    "parts = temp.split('/')\n",
    "parts[2] = IP + ':3333' # This is the default opened port...\n",
    "kernel_url = '/'.join(parts)\n",
    "print(kernel_url)\n",
    "\n",
    "df = pd.read_csv(kernel_url, sep=\"\\t\")\n",
    "df.head()"
   ]
  }
 ],
 "metadata": {
  "kernelspec": {
   "display_name": "Python 3",
   "language": "python",
   "name": "python3"
  },
  "language_info": {
   "codemirror_mode": {
    "name": "ipython",
    "version": 3
   },
   "file_extension": ".py",
   "mimetype": "text/x-python",
   "name": "python",
   "nbconvert_exporter": "python",
   "pygments_lexer": "ipython3",
   "version": "3.4.3"
  }
 },
 "nbformat": 4,
 "nbformat_minor": 0
}
