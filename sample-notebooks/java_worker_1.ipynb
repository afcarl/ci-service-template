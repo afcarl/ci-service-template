{
 "cells": [
  {
   "cell_type": "code",
   "execution_count": 18,
   "metadata": {
    "collapsed": true
   },
   "outputs": [],
   "source": [
    "IP = '192.168.99.100'\n",
    "BASE = 'http://' + IP + '/v1/'  # You need to change this to your service server"
   ]
  },
  {
   "cell_type": "code",
   "execution_count": 25,
   "metadata": {
    "collapsed": false
   },
   "outputs": [
    {
     "name": "stdout",
     "output_type": "stream",
     "text": [
      "Here is the list of services supported by this submit agent:\n",
      "[\n",
      "    {\n",
      "        \"serviceName\": \"subnet\", \n",
      "        \"portNumber\": \"5557\", \n",
      "        \"description\": \"Heat diffusion sub network finder service.\", \n",
      "        \"parameters\": {\n",
      "            \"query\": {\n",
      "                \"required\": true, \n",
      "                \"type\": \"array\", \n",
      "                \"description\": \"Array of gene names to be used for sub network search.\"\n",
      "            }, \n",
      "            \"kernel_url\": {\n",
      "                \"required\": true, \n",
      "                \"type\": \"string\", \n",
      "                \"description\": \"URL of the pre-computed kernel file.\"\n",
      "            }, \n",
      "            \"network_url\": {\n",
      "                \"required\": true, \n",
      "                \"type\": \"string\", \n",
      "                \"description\": \"URL of the SIF network file for the kernel.\"\n",
      "            }\n",
      "        }\n",
      "    }, \n",
      "    {\n",
      "        \"serviceName\": \"kernel\", \n",
      "        \"portNumber\": \"5556\", \n",
      "        \"description\": \"Kernel generator service.\", \n",
      "        \"parameters\": {\n",
      "            \"network_url\": {\n",
      "                \"required\": true, \n",
      "                \"type\": \"string\", \n",
      "                \"description\": \"URL of the source SIF network file.\"\n",
      "            }\n",
      "        }\n",
      "    }, \n",
      "    {\n",
      "        \"serviceName\": \"hello\", \n",
      "        \"portNumber\": \"5559\", \n",
      "        \"description\": \"Sample service returning message.\", \n",
      "        \"parameters\": {\n",
      "            \"message\": {\n",
      "                \"required\": true, \n",
      "                \"type\": \"string\", \n",
      "                \"description\": \"Any string message to be returned.\"\n",
      "            }\n",
      "        }\n",
      "    }, \n",
      "    {\n",
      "        \"serviceName\": \"hello-java\", \n",
      "        \"portNumber\": \"5560\", \n",
      "        \"description\": \"Sample Java worker to display greeting message\", \n",
      "        \"parameters\": [\n",
      "            {\n",
      "                \"required\": true, \n",
      "                \"type\": \"number\", \n",
      "                \"name\": \"number_of_nodes\", \n",
      "                \"description\": \"Number of nodes in the network\"\n",
      "            }\n",
      "        ]\n",
      "    }\n",
      "]\n"
     ]
    }
   ],
   "source": [
    "import requests\n",
    "import json\n",
    "\n",
    "def jprint(data):\n",
    "    print(json.dumps(data, indent=4))\n",
    "\n",
    "# Change this to  your Docker container's IP\n",
    "HEADERS = {'Content-Type': 'application/json'}\n",
    "\n",
    "# Check API Status\n",
    "res = requests.get(BASE + 'services')\n",
    "print(\"Here is the list of services supported by this submit agent:\")\n",
    "jprint(res.json())"
   ]
  },
  {
   "cell_type": "code",
   "execution_count": 48,
   "metadata": {
    "collapsed": false
   },
   "outputs": [
    {
     "name": "stdout",
     "output_type": "stream",
     "text": [
      "{\n",
      "    \"status\": \"queued\", \n",
      "    \"job_id\": \"35db86ea-61c9-4794-a00c-4dd170cb1268\"\n",
      "}\n"
     ]
    }
   ],
   "source": [
    "greeting = {\n",
    "    'message': 'test message for Java worker'\n",
    "}\n",
    "\n",
    "res = requests.post(BASE + 'services/hello-java', data=json.dumps(greeting), headers=HEADERS)\n",
    "job_id1 = res.json()['job_id']\n",
    "jprint(res.json())"
   ]
  }
 ],
 "metadata": {
  "kernelspec": {
   "display_name": "Python 2",
   "language": "python",
   "name": "python2"
  },
  "language_info": {
   "codemirror_mode": {
    "name": "ipython",
    "version": 2
   },
   "file_extension": ".py",
   "mimetype": "text/x-python",
   "name": "python",
   "nbconvert_exporter": "python",
   "pygments_lexer": "ipython2",
   "version": "2.7.10"
  }
 },
 "nbformat": 4,
 "nbformat_minor": 0
}
