{
 "cells": [
  {
   "cell_type": "markdown",
   "metadata": {},
   "source": [
    "# Sample Workflow with new CI template\n"
   ]
  },
  {
   "cell_type": "code",
   "execution_count": 1,
   "metadata": {
    "collapsed": true
   },
   "outputs": [],
   "source": [
    "import requests\n",
    "import json\n",
    "import networkx as nx\n",
    "\n",
    "BASE = 'http://192.168.99.100/v1/'\n",
    "HEADERS = {'Content-Type': 'application/json'}"
   ]
  },
  {
   "cell_type": "code",
   "execution_count": 21,
   "metadata": {
    "collapsed": false
   },
   "outputs": [
    {
     "name": "stdout",
     "output_type": "stream",
     "text": [
      "{'status': 'queued', 'job_id': 'a9ff9770-2443-11e5-a5af-0242ac1100f2'}\n",
      "{'status': 'queued', 'job_id': 'aa0c35d4-2443-11e5-a5af-0242ac1100f2'}\n",
      "{'status': 'queued', 'job_id': 'aa177886-2443-11e5-a5af-0242ac1100f2'}\n",
      "{'status': 'queued', 'job_id': 'aa28909e-2443-11e5-a5af-0242ac1100f2'}\n",
      "{'status': 'queued', 'job_id': 'aa34191e-2443-11e5-a5af-0242ac1100f2'}\n",
      "{'status': 'queued', 'job_id': 'aa4ba908-2443-11e5-a5af-0242ac1100f2'}\n",
      "{'status': 'queued', 'job_id': 'aa5b95ac-2443-11e5-a5af-0242ac1100f2'}\n",
      "{'status': 'queued', 'job_id': 'aa660aaa-2443-11e5-a5af-0242ac1100f2'}\n",
      "{'status': 'queued', 'job_id': 'aa707666-2443-11e5-a5af-0242ac1100f2'}\n",
      "{'status': 'queued', 'job_id': 'aa7c3c58-2443-11e5-a5af-0242ac1100f2'}\n"
     ]
    }
   ],
   "source": [
    "for i in range(10):\n",
    "    res = requests.get(BASE + 'test1')\n",
    "    print(res.json())"
   ]
  },
  {
   "cell_type": "code",
   "execution_count": 69,
   "metadata": {
    "collapsed": false
   },
   "outputs": [
    {
     "name": "stdout",
     "output_type": "stream",
     "text": [
      "{u'OK': {u'5f7f98a2-2124-11e5-a5d4-0242ac1100fa': u'/collector/jobs/5f7f98a2-2124-11e5-a5d4-0242ac1100fa', u'5fce0fd2-2124-11e5-a5d4-0242ac1100fa': u'/collector/jobs/5fce0fd2-2124-11e5-a5d4-0242ac1100fa', u'5fb0637e-2124-11e5-a5d4-0242ac1100fa': u'/collector/jobs/5fb0637e-2124-11e5-a5d4-0242ac1100fa', u'5f93ad4c-2124-11e5-a5d4-0242ac1100fa': u'/collector/jobs/5f93ad4c-2124-11e5-a5d4-0242ac1100fa', u'5fd0e52c-2124-11e5-a5d4-0242ac1100fa': u'/collector/jobs/5fd0e52c-2124-11e5-a5d4-0242ac1100fa'}}\n"
     ]
    }
   ],
   "source": [
    "res = requests.get(BASE + 'queue')\n",
    "print(res.json())"
   ]
  },
  {
   "cell_type": "code",
   "execution_count": 58,
   "metadata": {
    "collapsed": false
   },
   "outputs": [
    {
     "name": "stdout",
     "output_type": "stream",
     "text": [
      "{\n",
      "    \"status\": \"queued\", \n",
      "    \"url\": \"queue/77b87ea1-6e96-455b-8bee-b1dcea1fe718\", \n",
      "    \"job_id\": \"77b87ea1-6e96-455b-8bee-b1dcea1fe718\", \n",
      "    \"result_type\": \"memory\"\n",
      "}\n"
     ]
    }
   ],
   "source": [
    "res = requests.post(BASE + 'hello', data={'name': 'foo'})\n",
    "print(json.dumps(res.json(), indent=4))"
   ]
  }
 ],
 "metadata": {
  "kernelspec": {
   "display_name": "Python 3",
   "language": "python",
   "name": "python3"
  },
  "language_info": {
   "codemirror_mode": {
    "name": "ipython",
    "version": 3
   },
   "file_extension": ".py",
   "mimetype": "text/x-python",
   "name": "python",
   "nbconvert_exporter": "python",
   "pygments_lexer": "ipython3",
   "version": "3.4.3"
  }
 },
 "nbformat": 4,
 "nbformat_minor": 0
}
