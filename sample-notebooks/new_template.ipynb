{
 "cells": [
  {
   "cell_type": "markdown",
   "metadata": {},
   "source": [
    "# Sample Workflow with new CI template\n",
    "\n",
    "This is a sample script to test new CI template using message exchange."
   ]
  },
  {
   "cell_type": "code",
   "execution_count": 3,
   "metadata": {
    "collapsed": true
   },
   "outputs": [],
   "source": [
    "import requests\n",
    "import json\n",
    "import networkx as nx\n",
    "\n",
    "# Change this to  your Docker container's IP\n",
    "BASE = 'http://192.168.99.100/v1/'\n",
    "HEADERS = {'Content-Type': 'application/json'}"
   ]
  },
  {
   "cell_type": "code",
   "execution_count": 12,
   "metadata": {
    "collapsed": false
   },
   "outputs": [
    {
     "name": "stdout",
     "output_type": "stream",
     "text": [
      "{'status': 'queued', 'job_id': '5fd02aea-2707-11e5-ad90-0242ac110039'}\n",
      "{'status': 'queued', 'job_id': '5fd54822-2707-11e5-ad90-0242ac110039'}\n",
      "{'status': 'queued', 'job_id': '5fdb9ede-2707-11e5-ad90-0242ac110039'}\n",
      "{'status': 'queued', 'job_id': '5fedc208-2707-11e5-ad90-0242ac110039'}\n",
      "{'status': 'queued', 'job_id': '5ff69856-2707-11e5-ad90-0242ac110039'}\n",
      "{'status': 'queued', 'job_id': '6001b204-2707-11e5-ad90-0242ac110039'}\n",
      "{'status': 'queued', 'job_id': '60166118-2707-11e5-ad90-0242ac110039'}\n",
      "{'status': 'queued', 'job_id': '602e732a-2707-11e5-ad90-0242ac110039'}\n",
      "{'status': 'queued', 'job_id': '6043df30-2707-11e5-ad90-0242ac110039'}\n",
      "{'status': 'queued', 'job_id': '605758b2-2707-11e5-ad90-0242ac110039'}\n"
     ]
    }
   ],
   "source": [
    "for i in range(10):\n",
    "    res = requests.get(BASE + 'test1')\n",
    "    print(res.json())"
   ]
  },
  {
   "cell_type": "code",
   "execution_count": 13,
   "metadata": {
    "collapsed": false
   },
   "outputs": [
    {
     "name": "stdout",
     "output_type": "stream",
     "text": [
      "[{'status': 'finished', 'job_id': '5fd02aea-2707-11e5-ad90-0242ac110039'}, {'status': 'finished', 'job_id': '6001b204-2707-11e5-ad90-0242ac110039'}, {'status': 'finished', 'job_id': '5ff69856-2707-11e5-ad90-0242ac110039'}, {'status': 'finished', 'job_id': '602e732a-2707-11e5-ad90-0242ac110039'}, {'status': 'finished', 'job_id': '5fedc208-2707-11e5-ad90-0242ac110039'}, {'status': 'finished', 'job_id': '60166118-2707-11e5-ad90-0242ac110039'}, {'status': 'finished', 'job_id': '605758b2-2707-11e5-ad90-0242ac110039'}, {'status': 'finished', 'job_id': '6043df30-2707-11e5-ad90-0242ac110039'}, {'status': 'finished', 'job_id': '5fdb9ede-2707-11e5-ad90-0242ac110039'}, {'status': 'finished', 'job_id': '5fd54822-2707-11e5-ad90-0242ac110039'}]\n"
     ]
    }
   ],
   "source": [
    "res = requests.get(BASE + 'queue')\n",
    "print(res.json())"
   ]
  },
  {
   "cell_type": "code",
   "execution_count": 58,
   "metadata": {
    "collapsed": false
   },
   "outputs": [
    {
     "name": "stdout",
     "output_type": "stream",
     "text": [
      "{\n",
      "    \"status\": \"queued\", \n",
      "    \"url\": \"queue/77b87ea1-6e96-455b-8bee-b1dcea1fe718\", \n",
      "    \"job_id\": \"77b87ea1-6e96-455b-8bee-b1dcea1fe718\", \n",
      "    \"result_type\": \"memory\"\n",
      "}\n"
     ]
    }
   ],
   "source": [
    "res = requests.post(BASE + 'hello', data={'name': 'foo'})\n",
    "print(json.dumps(res.json(), indent=4))"
   ]
  }
 ],
 "metadata": {
  "kernelspec": {
   "display_name": "Python 3",
   "language": "python",
   "name": "python3"
  },
  "language_info": {
   "codemirror_mode": {
    "name": "ipython",
    "version": 3
   },
   "file_extension": ".py",
   "mimetype": "text/x-python",
   "name": "python",
   "nbconvert_exporter": "python",
   "pygments_lexer": "ipython3",
   "version": "3.4.3"
  }
 },
 "nbformat": 4,
 "nbformat_minor": 0
}
