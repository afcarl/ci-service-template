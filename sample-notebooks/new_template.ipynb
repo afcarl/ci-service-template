{
 "cells": [
  {
   "cell_type": "markdown",
   "metadata": {},
   "source": [
    "# Sample Workflow with new CI template\n",
    "\n",
    "This is a sample script to test new CI template using message exchange.\n",
    "\n",
    "## Description\n",
    "This is a new template code for language-agnostic worker samples.\n"
   ]
  },
  {
   "cell_type": "code",
   "execution_count": 46,
   "metadata": {
    "collapsed": false
   },
   "outputs": [
    {
     "name": "stdout",
     "output_type": "stream",
     "text": [
      "{\n",
      "    \"message\": \"Use POST method to submit your graph data.\"\n",
      "}\n"
     ]
    }
   ],
   "source": [
    "import requests\n",
    "import json\n",
    "import networkx as nx\n",
    "from py2cytoscape.util import *\n",
    "\n",
    "# Change this to  your Docker container's IP\n",
    "BASE = 'http://192.168.99.100/v1/'\n",
    "HEADERS = {'Content-Type': 'application/json'}\n",
    "\n",
    "# Check API Status\n",
    "res = requests.get(BASE + 'community')\n",
    "print(json.dumps(res.json(), indent=4))"
   ]
  },
  {
   "cell_type": "code",
   "execution_count": 48,
   "metadata": {
    "collapsed": false
   },
   "outputs": [],
   "source": [
    "el = nx.read_edgelist('/Users/kono/Downloads/COG.links.v10.txt', data=False)"
   ]
  },
  {
   "cell_type": "code",
   "execution_count": 50,
   "metadata": {
    "collapsed": false
   },
   "outputs": [
    {
     "data": {
      "text/plain": [
       "8995212"
      ]
     },
     "execution_count": 50,
     "metadata": {},
     "output_type": "execute_result"
    }
   ],
   "source": [
    "len(el.edges())"
   ]
  },
  {
   "cell_type": "markdown",
   "metadata": {},
   "source": [
    "## Test API: simple community detection service"
   ]
  },
  {
   "cell_type": "code",
   "execution_count": 42,
   "metadata": {
    "collapsed": true
   },
   "outputs": [],
   "source": [
    "# Build a large graph for testing...\n",
    "g = nx.scale_free_graph(1000)\n",
    "cyjs_graph = from_networkx(g)"
   ]
  },
  {
   "cell_type": "code",
   "execution_count": 43,
   "metadata": {
    "collapsed": false
   },
   "outputs": [],
   "source": [
    "cyjs_graph['data'] = {\n",
    "        'name': 'Sample1'\n",
    "}"
   ]
  },
  {
   "cell_type": "code",
   "execution_count": 44,
   "metadata": {
    "collapsed": false
   },
   "outputs": [
    {
     "name": "stdout",
     "output_type": "stream",
     "text": [
      "{'status': 'queued', 'job_id': '58a396d6-8526-408c-9358-75a8941d7303'}\n",
      "{'status': 'queued', 'job_id': 'cc843424-36cc-4fa5-a77b-5fa61df0c25a'}\n",
      "{'status': 'queued', 'job_id': '9c248ae7-c27e-44f5-acef-8901a561da3a'}\n",
      "{'status': 'queued', 'job_id': '6f7bea5a-dd3a-4af1-a259-6458b7a493ef'}\n",
      "{'status': 'queued', 'job_id': 'b972b70c-826e-47de-891a-e069eb8d4dbc'}\n",
      "{'status': 'queued', 'job_id': 'b56ba263-d54a-456d-8d4b-66835ceacc17'}\n",
      "{'status': 'queued', 'job_id': '9f841473-0c00-4b71-9332-f9a5c8dff2b9'}\n",
      "{'status': 'queued', 'job_id': '802a035e-e04d-41a9-a1ae-d2105bd4f8b6'}\n",
      "{'status': 'queued', 'job_id': '4487c279-bc18-4de8-b883-a664cf1b545b'}\n",
      "{'status': 'queued', 'job_id': '0ccad9ae-4848-4b8c-95f3-c5dc8b6e2756'}\n"
     ]
    }
   ],
   "source": [
    "for i in range(10):\n",
    "    res = requests.post(BASE + 'community', data=json.dumps(cyjs_graph), headers=HEADERS)\n",
    "    print(res.json())"
   ]
  },
  {
   "cell_type": "code",
   "execution_count": 13,
   "metadata": {
    "collapsed": false
   },
   "outputs": [
    {
     "name": "stdout",
     "output_type": "stream",
     "text": [
      "[{'status': 'finished', 'job_id': '5fd02aea-2707-11e5-ad90-0242ac110039'}, {'status': 'finished', 'job_id': '6001b204-2707-11e5-ad90-0242ac110039'}, {'status': 'finished', 'job_id': '5ff69856-2707-11e5-ad90-0242ac110039'}, {'status': 'finished', 'job_id': '602e732a-2707-11e5-ad90-0242ac110039'}, {'status': 'finished', 'job_id': '5fedc208-2707-11e5-ad90-0242ac110039'}, {'status': 'finished', 'job_id': '60166118-2707-11e5-ad90-0242ac110039'}, {'status': 'finished', 'job_id': '605758b2-2707-11e5-ad90-0242ac110039'}, {'status': 'finished', 'job_id': '6043df30-2707-11e5-ad90-0242ac110039'}, {'status': 'finished', 'job_id': '5fdb9ede-2707-11e5-ad90-0242ac110039'}, {'status': 'finished', 'job_id': '5fd54822-2707-11e5-ad90-0242ac110039'}]\n"
     ]
    }
   ],
   "source": [
    "res = requests.get(BASE + 'queue')\n",
    "print(res.json())"
   ]
  },
  {
   "cell_type": "code",
   "execution_count": 58,
   "metadata": {
    "collapsed": false
   },
   "outputs": [
    {
     "name": "stdout",
     "output_type": "stream",
     "text": [
      "{\n",
      "    \"status\": \"queued\", \n",
      "    \"url\": \"queue/77b87ea1-6e96-455b-8bee-b1dcea1fe718\", \n",
      "    \"job_id\": \"77b87ea1-6e96-455b-8bee-b1dcea1fe718\", \n",
      "    \"result_type\": \"memory\"\n",
      "}\n"
     ]
    }
   ],
   "source": [
    "res = requests.post(BASE + 'hello', data={'name': 'foo'})\n",
    "print(json.dumps(res.json(), indent=4))"
   ]
  }
 ],
 "metadata": {
  "kernelspec": {
   "display_name": "Python 3",
   "language": "python",
   "name": "python3"
  },
  "language_info": {
   "codemirror_mode": {
    "name": "ipython",
    "version": 3
   },
   "file_extension": ".py",
   "mimetype": "text/x-python",
   "name": "python",
   "nbconvert_exporter": "python",
   "pygments_lexer": "ipython3",
   "version": "3.4.3"
  }
 },
 "nbformat": 4,
 "nbformat_minor": 0
}
