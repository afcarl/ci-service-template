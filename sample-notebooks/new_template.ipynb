{
 "cells": [
  {
   "cell_type": "markdown",
   "metadata": {},
   "source": [
    "# Sample Workflow with new CI template\n"
   ]
  },
  {
   "cell_type": "code",
   "execution_count": 1,
   "metadata": {
    "collapsed": true
   },
   "outputs": [],
   "source": [
    "import requests\n",
    "import json\n",
    "import networkx as nx\n",
    "\n",
    "BASE = 'http://192.168.99.100/v1/'\n",
    "HEADERS = {'Content-Type': 'application/json'}"
   ]
  },
  {
   "cell_type": "code",
   "execution_count": 3,
   "metadata": {
    "collapsed": false
   },
   "outputs": [
    {
     "name": "stdout",
     "output_type": "stream",
     "text": [
      "{'job_id': '23841f1e-23b6-11e5-a79c-0242ac110003', 'status': 'queued'}\n",
      "{'job_id': '239ae08c-23b6-11e5-a79c-0242ac110003', 'status': 'queued'}\n",
      "{'job_id': '239f4456-23b6-11e5-a79c-0242ac110003', 'status': 'queued'}\n",
      "{'job_id': '23b79718-23b6-11e5-a79c-0242ac110003', 'status': 'queued'}\n",
      "{'job_id': '23ccdca4-23b6-11e5-a79c-0242ac110003', 'status': 'queued'}\n",
      "{'job_id': '23d409a2-23b6-11e5-a79c-0242ac110003', 'status': 'queued'}\n",
      "{'job_id': '23f470fc-23b6-11e5-a79c-0242ac110003', 'status': 'queued'}\n",
      "{'job_id': '24057528-23b6-11e5-a79c-0242ac110003', 'status': 'queued'}\n",
      "{'job_id': '2413738a-23b6-11e5-a79c-0242ac110003', 'status': 'queued'}\n",
      "{'job_id': '242294be-23b6-11e5-a79c-0242ac110003', 'status': 'queued'}\n",
      "{'job_id': '2437df7c-23b6-11e5-a79c-0242ac110003', 'status': 'queued'}\n",
      "{'job_id': '2444159e-23b6-11e5-a79c-0242ac110003', 'status': 'queued'}\n",
      "{'job_id': '2453c2f0-23b6-11e5-a79c-0242ac110003', 'status': 'queued'}\n",
      "{'job_id': '2465d634-23b6-11e5-a79c-0242ac110003', 'status': 'queued'}\n",
      "{'job_id': '24702490-23b6-11e5-a79c-0242ac110003', 'status': 'queued'}\n",
      "{'job_id': '247d71fe-23b6-11e5-a79c-0242ac110003', 'status': 'queued'}\n",
      "{'job_id': '24860224-23b6-11e5-a79c-0242ac110003', 'status': 'queued'}\n",
      "{'job_id': '2490619c-23b6-11e5-a79c-0242ac110003', 'status': 'queued'}\n",
      "{'job_id': '2497e340-23b6-11e5-a79c-0242ac110003', 'status': 'queued'}\n",
      "{'job_id': '24a2b23e-23b6-11e5-a79c-0242ac110003', 'status': 'queued'}\n"
     ]
    }
   ],
   "source": [
    "for i in range(20):\n",
    "    res = requests.get(BASE + 'test1')\n",
    "    print(res.json())"
   ]
  },
  {
   "cell_type": "code",
   "execution_count": 69,
   "metadata": {
    "collapsed": false
   },
   "outputs": [
    {
     "name": "stdout",
     "output_type": "stream",
     "text": [
      "{u'OK': {u'5f7f98a2-2124-11e5-a5d4-0242ac1100fa': u'/collector/jobs/5f7f98a2-2124-11e5-a5d4-0242ac1100fa', u'5fce0fd2-2124-11e5-a5d4-0242ac1100fa': u'/collector/jobs/5fce0fd2-2124-11e5-a5d4-0242ac1100fa', u'5fb0637e-2124-11e5-a5d4-0242ac1100fa': u'/collector/jobs/5fb0637e-2124-11e5-a5d4-0242ac1100fa', u'5f93ad4c-2124-11e5-a5d4-0242ac1100fa': u'/collector/jobs/5f93ad4c-2124-11e5-a5d4-0242ac1100fa', u'5fd0e52c-2124-11e5-a5d4-0242ac1100fa': u'/collector/jobs/5fd0e52c-2124-11e5-a5d4-0242ac1100fa'}}\n"
     ]
    }
   ],
   "source": [
    "res = requests.get(BASE + 'queue')\n",
    "print(res.json())"
   ]
  },
  {
   "cell_type": "code",
   "execution_count": 58,
   "metadata": {
    "collapsed": false
   },
   "outputs": [
    {
     "name": "stdout",
     "output_type": "stream",
     "text": [
      "{\n",
      "    \"status\": \"queued\", \n",
      "    \"url\": \"queue/77b87ea1-6e96-455b-8bee-b1dcea1fe718\", \n",
      "    \"job_id\": \"77b87ea1-6e96-455b-8bee-b1dcea1fe718\", \n",
      "    \"result_type\": \"memory\"\n",
      "}\n"
     ]
    }
   ],
   "source": [
    "res = requests.post(BASE + 'hello', data={'name': 'foo'})\n",
    "print(json.dumps(res.json(), indent=4))"
   ]
  }
 ],
 "metadata": {
  "kernelspec": {
   "display_name": "Python 3",
   "language": "python",
   "name": "python3"
  },
  "language_info": {
   "codemirror_mode": {
    "name": "ipython",
    "version": 3
   },
   "file_extension": ".py",
   "mimetype": "text/x-python",
   "name": "python",
   "nbconvert_exporter": "python",
   "pygments_lexer": "ipython3",
   "version": "3.4.3"
  }
 },
 "nbformat": 4,
 "nbformat_minor": 0
}
