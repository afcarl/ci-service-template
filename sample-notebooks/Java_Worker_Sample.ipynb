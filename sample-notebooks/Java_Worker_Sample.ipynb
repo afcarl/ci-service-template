{
 "cells": [
  {
   "cell_type": "markdown",
   "metadata": {},
   "source": [
    "# Java Worker Example\n",
    "\n",
    "## Introduction\n",
    "This is a simple example how to use Java workers.  Essentially, these samples are same as the ones for Python and other languages."
   ]
  },
  {
   "cell_type": "code",
   "execution_count": 1,
   "metadata": {
    "collapsed": false
   },
   "outputs": [
    {
     "name": "stdout",
     "output_type": "stream",
     "text": [
      "Here is the list of services supported by this submit agent:\n",
      "\n",
      "[\n",
      "    {\n",
      "        \"serviceName\": \"subnet\",\n",
      "        \"description\": \"Heat diffusion sub network finder service.\",\n",
      "        \"portNumber\": \"5557\",\n",
      "        \"parameters\": {\n",
      "            \"kernel_url\": {\n",
      "                \"description\": \"URL of the pre-computed kernel file.\",\n",
      "                \"type\": \"string\",\n",
      "                \"required\": true\n",
      "            },\n",
      "            \"network_url\": {\n",
      "                \"description\": \"URL of the SIF network file for the kernel.\",\n",
      "                \"type\": \"string\",\n",
      "                \"required\": true\n",
      "            },\n",
      "            \"query\": {\n",
      "                \"description\": \"Array of gene names to be used for sub network search.\",\n",
      "                \"type\": \"array\",\n",
      "                \"required\": true\n",
      "            }\n",
      "        }\n",
      "    },\n",
      "    {\n",
      "        \"serviceName\": \"hello-java\",\n",
      "        \"description\": \"Sample Java worker to display greeting message\",\n",
      "        \"portNumber\": \"5560\",\n",
      "        \"parameters\": [\n",
      "            {\n",
      "                \"description\": \"Greeting message\",\n",
      "                \"name\": \"message\",\n",
      "                \"type\": \"string\",\n",
      "                \"required\": true\n",
      "            }\n",
      "        ]\n",
      "    },\n",
      "    {\n",
      "        \"serviceName\": \"hello\",\n",
      "        \"description\": \"Sample service returning message.\",\n",
      "        \"portNumber\": \"5559\",\n",
      "        \"parameters\": {\n",
      "            \"message\": {\n",
      "                \"description\": \"Any string message to be returned.\",\n",
      "                \"type\": \"string\",\n",
      "                \"required\": true\n",
      "            }\n",
      "        }\n",
      "    },\n",
      "    {\n",
      "        \"serviceName\": \"kernel\",\n",
      "        \"description\": \"Kernel generator service.\",\n",
      "        \"portNumber\": \"5556\",\n",
      "        \"parameters\": {\n",
      "            \"network_url\": {\n",
      "                \"description\": \"URL of the source SIF network file.\",\n",
      "                \"type\": \"string\",\n",
      "                \"required\": true\n",
      "            }\n",
      "        }\n",
      "    }\n",
      "]\n"
     ]
    }
   ],
   "source": [
    "IP = '192.168.99.100'  # You need to change this address to your container host\n",
    "BASE = 'http://' + IP + '/v1/'  \n",
    "\n",
    "import requests\n",
    "import json\n",
    "\n",
    "def jprint(data):\n",
    "    print(json.dumps(data, indent=4))\n",
    "\n",
    "HEADERS = {'Content-Type': 'application/json'}\n",
    "\n",
    "# List of all available services\n",
    "res = requests.get(BASE + 'services')\n",
    "print(\"Here is the list of services supported by this submit agent:\\n\")\n",
    "jprint(res.json())"
   ]
  },
  {
   "cell_type": "code",
   "execution_count": 2,
   "metadata": {
    "collapsed": false
   },
   "outputs": [
    {
     "name": "stdout",
     "output_type": "stream",
     "text": [
      "{\n",
      "    \"serviceName\": \"hello-java\",\n",
      "    \"description\": \"Sample Java worker to display greeting message\",\n",
      "    \"portNumber\": \"5560\",\n",
      "    \"parameters\": [\n",
      "        {\n",
      "            \"description\": \"Greeting message\",\n",
      "            \"name\": \"message\",\n",
      "            \"type\": \"string\",\n",
      "            \"required\": true\n",
      "        }\n",
      "    ]\n",
      "}\n"
     ]
    }
   ],
   "source": [
    "# And this is the sample Java Worker\n",
    "res = requests.get(BASE + 'services/hello-java')\n",
    "jprint(res.json())"
   ]
  },
  {
   "cell_type": "code",
   "execution_count": 8,
   "metadata": {
    "collapsed": false
   },
   "outputs": [
    {
     "name": "stdout",
     "output_type": "stream",
     "text": [
      "{\n",
      "    \"status\": \"queued\",\n",
      "    \"job_id\": \"2da8d2e7-230e-4971-8873-76ac7a64b7e6\"\n",
      "}\n"
     ]
    }
   ],
   "source": [
    "# Submit a job\n",
    "greeting = {\n",
    "    'nb_location': \"http://\"\n",
    "    'para' : {\n",
    "        \n",
    "    }\n",
    "    'message': 'Hello, this is a message for Java from Python client.'\n",
    "}\n",
    "\n",
    "res = requests.post(BASE + 'services/hello-java', data=json.dumps(greeting), headers=HEADERS)\n",
    "job_id1 = res.json()['job_id']\n",
    "jprint(res.json())"
   ]
  },
  {
   "cell_type": "code",
   "execution_count": 9,
   "metadata": {
    "collapsed": false
   },
   "outputs": [
    {
     "name": "stdout",
     "output_type": "stream",
     "text": [
      "[\n",
      "    {\n",
      "        \"status\": \"finished\",\n",
      "        \"job_id\": \"2da8d2e7-230e-4971-8873-76ac7a64b7e6\"\n",
      "    },\n",
      "    {\n",
      "        \"status\": \"finished\",\n",
      "        \"job_id\": \"2ff43e75-95f7-41b7-b64a-7cacd60c2b9c\"\n",
      "    }\n",
      "]\n"
     ]
    }
   ],
   "source": [
    "# Check the job status\n",
    "res = requests.get(BASE + 'queue')\n",
    "job_id1 = res.json()[0]['job_id']\n",
    "jprint(res.json())"
   ]
  },
  {
   "cell_type": "code",
   "execution_count": 10,
   "metadata": {
    "collapsed": false
   },
   "outputs": [
    {
     "name": "stdout",
     "output_type": "stream",
     "text": [
      "http://192.168.99.100/v1/queue/2da8d2e7-230e-4971-8873-76ac7a64b7e6/result\n",
      "{\n",
      "    \"reply\": \"Your message is: Hello, this is a message for Java from Python client.\"\n",
      "}\n"
     ]
    }
   ],
   "source": [
    "result_url = BASE + 'queue/' + job_id1 + '/result'\n",
    "print(result_url)\n",
    "res = requests.get(result_url)\n",
    "jprint(res.json())"
   ]
  }
 ],
 "metadata": {
  "kernelspec": {
   "display_name": "Python 3",
   "language": "python",
   "name": "python3"
  },
  "language_info": {
   "codemirror_mode": {
    "name": "ipython",
    "version": 3
   },
   "file_extension": ".py",
   "mimetype": "text/x-python",
   "name": "python",
   "nbconvert_exporter": "python",
   "pygments_lexer": "ipython3",
   "version": "3.4.3"
  }
 },
 "nbformat": 4,
 "nbformat_minor": 0
}
