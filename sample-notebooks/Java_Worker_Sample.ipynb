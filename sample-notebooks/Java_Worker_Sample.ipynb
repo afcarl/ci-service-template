{
 "cells": [
  {
   "cell_type": "markdown",
   "metadata": {},
   "source": [
    "# Java Worker Example\n",
    "\n",
    "## Introduction\n",
    "This is a simple example how to use Java workers.  Essentially, these samples are same as the ones for Python and other languages."
   ]
  },
  {
   "cell_type": "code",
   "execution_count": 61,
   "metadata": {
    "collapsed": false
   },
   "outputs": [
    {
     "name": "stdout",
     "output_type": "stream",
     "text": [
      "Here is the list of services supported by this submit agent:\n",
      "\n",
      "[\n",
      "    {\n",
      "        \"serviceName\": \"kernel\", \n",
      "        \"portNumber\": \"5556\", \n",
      "        \"description\": \"Kernel generator service.\", \n",
      "        \"parameters\": {\n",
      "            \"network_url\": {\n",
      "                \"required\": true, \n",
      "                \"type\": \"string\", \n",
      "                \"description\": \"URL of the source SIF network file.\"\n",
      "            }\n",
      "        }\n",
      "    }, \n",
      "    {\n",
      "        \"serviceName\": \"hello-java\", \n",
      "        \"portNumber\": \"5560\", \n",
      "        \"description\": \"Sample Java worker to display greeting message\", \n",
      "        \"parameters\": [\n",
      "            {\n",
      "                \"required\": true, \n",
      "                \"type\": \"string\", \n",
      "                \"name\": \"message\", \n",
      "                \"description\": \"Greeting message\"\n",
      "            }\n",
      "        ]\n",
      "    }, \n",
      "    {\n",
      "        \"serviceName\": \"hello\", \n",
      "        \"portNumber\": \"5559\", \n",
      "        \"description\": \"Sample service returning message.\", \n",
      "        \"parameters\": {\n",
      "            \"message\": {\n",
      "                \"required\": true, \n",
      "                \"type\": \"string\", \n",
      "                \"description\": \"Any string message to be returned.\"\n",
      "            }\n",
      "        }\n",
      "    }, \n",
      "    {\n",
      "        \"serviceName\": \"subnet\", \n",
      "        \"portNumber\": \"5557\", \n",
      "        \"description\": \"Heat diffusion sub network finder service.\", \n",
      "        \"parameters\": {\n",
      "            \"query\": {\n",
      "                \"required\": true, \n",
      "                \"type\": \"array\", \n",
      "                \"description\": \"Array of gene names to be used for sub network search.\"\n",
      "            }, \n",
      "            \"kernel_url\": {\n",
      "                \"required\": true, \n",
      "                \"type\": \"string\", \n",
      "                \"description\": \"URL of the pre-computed kernel file.\"\n",
      "            }, \n",
      "            \"network_url\": {\n",
      "                \"required\": true, \n",
      "                \"type\": \"string\", \n",
      "                \"description\": \"URL of the SIF network file for the kernel.\"\n",
      "            }\n",
      "        }\n",
      "    }\n",
      "]\n"
     ]
    }
   ],
   "source": [
    "IP = '192.168.99.100'  # You need to change this address to your container host\n",
    "BASE = 'http://' + IP + '/v1/'  \n",
    "\n",
    "import requests\n",
    "import json\n",
    "\n",
    "def jprint(data):\n",
    "    print(json.dumps(data, indent=4))\n",
    "\n",
    "HEADERS = {'Content-Type': 'application/json'}\n",
    "\n",
    "# Check Service Status\n",
    "res = requests.get(BASE + 'services')\n",
    "print(\"Here is the list of services supported by this submit agent:\\n\")\n",
    "jprint(res.json())"
   ]
  },
  {
   "cell_type": "code",
   "execution_count": 62,
   "metadata": {
    "collapsed": false
   },
   "outputs": [
    {
     "name": "stdout",
     "output_type": "stream",
     "text": [
      "{\n",
      "    \"serviceName\": \"hello-java\", \n",
      "    \"portNumber\": \"5560\", \n",
      "    \"description\": \"Sample Java worker to display greeting message\", \n",
      "    \"parameters\": [\n",
      "        {\n",
      "            \"required\": true, \n",
      "            \"type\": \"string\", \n",
      "            \"name\": \"message\", \n",
      "            \"description\": \"Greeting message\"\n",
      "        }\n",
      "    ]\n",
      "}\n"
     ]
    }
   ],
   "source": [
    "# And this is the sample Java Worker\n",
    "res = requests.get(BASE + 'services/hello-java')\n",
    "jprint(res.json())"
   ]
  },
  {
   "cell_type": "code",
   "execution_count": 63,
   "metadata": {
    "collapsed": false
   },
   "outputs": [
    {
     "name": "stdout",
     "output_type": "stream",
     "text": [
      "{\n",
      "    \"status\": \"queued\", \n",
      "    \"job_id\": \"90ee3f10-3b72-43c3-8fbf-990e3d02591c\"\n",
      "}\n"
     ]
    }
   ],
   "source": [
    "# Submit a job\n",
    "greeting = {\n",
    "    'message': 'Hello, this is a message for Java from Python client.'\n",
    "}\n",
    "\n",
    "res = requests.post(BASE + 'services/hello-java', data=json.dumps(greeting), headers=HEADERS)\n",
    "job_id1 = res.json()['job_id']\n",
    "jprint(res.json())"
   ]
  },
  {
   "cell_type": "code",
   "execution_count": 67,
   "metadata": {
    "collapsed": false
   },
   "outputs": [
    {
     "name": "stdout",
     "output_type": "stream",
     "text": [
      "[\n",
      "    {\n",
      "        \"status\": \"finished\", \n",
      "        \"job_id\": \"380fd0f5-610b-4201-8644-4813aa82d7c8\"\n",
      "    }, \n",
      "    {\n",
      "        \"status\": \"finished\", \n",
      "        \"job_id\": \"25dcbfde-7f6d-4a62-95b6-658bbf9a66fa\"\n",
      "    }, \n",
      "    {\n",
      "        \"status\": \"finished\", \n",
      "        \"job_id\": \"90ee3f10-3b72-43c3-8fbf-990e3d02591c\"\n",
      "    }, \n",
      "    {\n",
      "        \"status\": \"finished\", \n",
      "        \"job_id\": \"dd6b098e-71a8-4bb1-be31-7cb2e770eca8\"\n",
      "    }\n",
      "]\n"
     ]
    }
   ],
   "source": [
    "# Check the job status\n",
    "res = requests.get(BASE + 'queue')\n",
    "job_id1 = res.json()[0]['job_id']\n",
    "jprint(res.json())"
   ]
  },
  {
   "cell_type": "code",
   "execution_count": 66,
   "metadata": {
    "collapsed": false
   },
   "outputs": [
    {
     "name": "stdout",
     "output_type": "stream",
     "text": [
      "http://192.168.99.100/v1/queue/90ee3f10-3b72-43c3-8fbf-990e3d02591c/result\n",
      "{\n",
      "    \"reply\": \"Your message is: Hello, this is a message for Java from Python client.\"\n",
      "}\n"
     ]
    }
   ],
   "source": [
    "result_url = BASE + 'queue/' + job_id1 + '/result'\n",
    "print(result_url)\n",
    "res = requests.get(result_url)\n",
    "jprint(res.json())"
   ]
  }
 ],
 "metadata": {
  "kernelspec": {
   "display_name": "Python 2",
   "language": "python",
   "name": "python2"
  },
  "language_info": {
   "codemirror_mode": {
    "name": "ipython",
    "version": 2
   },
   "file_extension": ".py",
   "mimetype": "text/x-python",
   "name": "python",
   "nbconvert_exporter": "python",
   "pygments_lexer": "ipython2",
   "version": "2.7.10"
  }
 },
 "nbformat": 4,
 "nbformat_minor": 0
}
