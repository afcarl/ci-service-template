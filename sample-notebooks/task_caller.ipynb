{
 "cells": [
  {
   "cell_type": "markdown",
   "metadata": {},
   "source": [
    "## Sample Client to Use CI Service Sample\n",
    "Tested on Python 2.7.9."
   ]
  },
  {
   "cell_type": "code",
   "execution_count": 1,
   "metadata": {
    "collapsed": true
   },
   "outputs": [],
   "source": [
    "import requests\n",
    "import json\n",
    "import py2cytoscape.util as cy\n",
    "import networkx as nx\n",
    "\n",
    "BASE = 'http://192.168.99.100/v1/'\n",
    "HEADERS = {'Content-Type': 'application/json'}\n",
    "\n",
    "# Generate a scale-free graph with 3000 nodes (with NetworkX)\n",
    "g = nx.scale_free_graph(1000)\n",
    "\n",
    "# Convert to Cytoscape.js JSON\n",
    "cyg = cy.from_networkx(g)"
   ]
  },
  {
   "cell_type": "code",
   "execution_count": 177,
   "metadata": {
    "collapsed": false
   },
   "outputs": [
    {
     "name": "stdout",
     "output_type": "stream",
     "text": [
      "{\n",
      "    \"job_id\": \"e46d5993-afc2-4644-8ba4-4778abd6cfab\", \n",
      "    \"result_type\": \"file\", \n",
      "    \"status\": \"queued\", \n",
      "    \"url\": \"/v1jobs/e46d5993-afc2-4644-8ba4-4778abd6cfab\"\n",
      "}\n",
      "\n"
     ]
    }
   ],
   "source": [
    "# Apply layout URL:\n",
    "url_apply = BASE + 'generators/scalefree'\n",
    "post_data = {\n",
    "    'num_nodes': 1000\n",
    "}\n",
    "\n",
    "res = requests.post(url_apply, data=json.dumps(post_data), headers=HEADERS)\n",
    "# print(json.dumps(res.json(), indent=4))\n",
    "print(res.content)"
   ]
  },
  {
   "cell_type": "code",
   "execution_count": 180,
   "metadata": {
    "collapsed": false
   },
   "outputs": [
    {
     "name": "stdout",
     "output_type": "stream",
     "text": [
      "http://192.168.99.100/v1/jobs\n",
      "[\n",
      "    {\n",
      "        \"status\": \"finished\", \n",
      "        \"job_id\": \"7aa8c6d6-7d1b-4988-9e5b-968d025a4937\"\n",
      "    }, \n",
      "    {\n",
      "        \"status\": \"finished\", \n",
      "        \"job_id\": \"64f87b9e-78a7-48a5-9533-7c179c9da89e\"\n",
      "    }\n",
      "]\n"
     ]
    }
   ],
   "source": [
    "# Job Status\n",
    "url_jobs =  BASE + 'jobs'\n",
    "print(url_jobs)\n",
    "\n",
    "res = requests.get(url_jobs)\n",
    "print(json.dumps(res.json(), indent=4))"
   ]
  },
  {
   "cell_type": "code",
   "execution_count": 179,
   "metadata": {
    "collapsed": false
   },
   "outputs": [
    {
     "name": "stdout",
     "output_type": "stream",
     "text": [
      "{\n",
      "    \"message\": \"Job e46d5993-afc2-4644-8ba4-4778abd6cfab removed.\"\n",
      "}\n"
     ]
    }
   ],
   "source": [
    "res = requests.delete(url_jobs + '/' + 'e46d5993-afc2-4644-8ba4-4778abd6cfab')\n",
    "print(json.dumps(res.json(), indent=4))"
   ]
  },
  {
   "cell_type": "code",
   "execution_count": 151,
   "metadata": {
    "collapsed": false
   },
   "outputs": [
    {
     "name": "stdout",
     "output_type": "stream",
     "text": [
      "{\n",
      "    \"message\": \"All jobs removed.\"\n",
      "}\n"
     ]
    }
   ],
   "source": [
    "res = requests.delete(url_jobs)\n",
    "print(json.dumps(res.json(), indent=4))"
   ]
  }
 ],
 "metadata": {
  "kernelspec": {
   "display_name": "Python 2",
   "language": "python",
   "name": "python2"
  },
  "language_info": {
   "codemirror_mode": {
    "name": "ipython",
    "version": 2
   },
   "file_extension": ".py",
   "mimetype": "text/x-python",
   "name": "python",
   "nbconvert_exporter": "python",
   "pygments_lexer": "ipython2",
   "version": "2.7.9"
  }
 },
 "nbformat": 4,
 "nbformat_minor": 0
}
