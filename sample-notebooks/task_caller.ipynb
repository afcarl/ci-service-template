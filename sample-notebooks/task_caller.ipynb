{
 "cells": [
  {
   "cell_type": "markdown",
   "metadata": {},
   "source": [
    "## Sample Client to Use CI Service Sample\n",
    "Tested on Python 2.7.9."
   ]
  },
  {
   "cell_type": "code",
   "execution_count": 1,
   "metadata": {
    "collapsed": false
   },
   "outputs": [
    {
     "name": "stdout",
     "output_type": "stream",
     "text": [
      "eth0      Link encap:Ethernet  HWaddr 02:42:ac:11:00:99  \r\n",
      "          inet addr:172.17.0.153  Bcast:0.0.0.0  Mask:255.255.0.0\r\n",
      "          inet6 addr: fe80::42:acff:fe11:99/64 Scope:Link\r\n",
      "          UP BROADCAST RUNNING MULTICAST  MTU:1500  Metric:1\r\n",
      "          RX packets:1375 errors:0 dropped:2 overruns:0 frame:0\r\n",
      "          TX packets:392 errors:0 dropped:0 overruns:0 carrier:0\r\n",
      "          collisions:0 txqueuelen:0 \r\n",
      "          RX bytes:187331 (187.3 KB)  TX bytes:2362686 (2.3 MB)\r\n",
      "\r\n",
      "lo        Link encap:Local Loopback  \r\n",
      "          inet addr:127.0.0.1  Mask:255.0.0.0\r\n",
      "          inet6 addr: ::1/128 Scope:Host\r\n",
      "          UP LOOPBACK RUNNING  MTU:65536  Metric:1\r\n",
      "          RX packets:234 errors:0 dropped:0 overruns:0 frame:0\r\n",
      "          TX packets:234 errors:0 dropped:0 overruns:0 carrier:0\r\n",
      "          collisions:0 txqueuelen:0 \r\n",
      "          RX bytes:25814 (25.8 KB)  TX bytes:25814 (25.8 KB)\r\n",
      "\r\n"
     ]
    }
   ],
   "source": [
    "!ifconfig"
   ]
  },
  {
   "cell_type": "code",
   "execution_count": 1,
   "metadata": {
    "collapsed": false
   },
   "outputs": [],
   "source": [
    "import requests\n",
    "import json\n",
    "import py2cytoscape.util as cy\n",
    "import networkx as nx\n",
    "\n",
    "BASE = 'http://192.168.99.100/v1/'\n",
    "HEADERS = {'Content-Type': 'application/json'}\n",
    "\n",
    "# Generate a scale-free graph with 3000 nodes (with NetworkX)\n",
    "g = nx.scale_free_graph(3000)\n",
    "\n",
    "# Convert to Cytoscape.js JSON\n",
    "cyg = cy.from_networkx(g)"
   ]
  },
  {
   "cell_type": "code",
   "execution_count": 2,
   "metadata": {
    "collapsed": false
   },
   "outputs": [
    {
     "name": "stdout",
     "output_type": "stream",
     "text": [
      "{\n",
      "    \"job_id\": \"2837b0fd-84a8-478c-a342-c30c3249b15d\", \n",
      "    \"result_type\": \"memory\", \n",
      "    \"status\": \"queued\", \n",
      "    \"url\": \"queue/2837b0fd-84a8-478c-a342-c30c3249b15d\"\n",
      "}\n",
      "\n",
      "{\n",
      "    \"job_id\": \"b26754c6-3ee9-4343-a6f4-784e5276e1c9\", \n",
      "    \"result_type\": \"memory\", \n",
      "    \"status\": \"queued\", \n",
      "    \"url\": \"queue/b26754c6-3ee9-4343-a6f4-784e5276e1c9\"\n",
      "}\n",
      "\n",
      "{\n",
      "    \"job_id\": \"54870a02-b787-40bf-aa8a-bd0411f08e23\", \n",
      "    \"result_type\": \"memory\", \n",
      "    \"status\": \"queued\", \n",
      "    \"url\": \"queue/54870a02-b787-40bf-aa8a-bd0411f08e23\"\n",
      "}\n",
      "\n"
     ]
    }
   ],
   "source": [
    "# Hello service\n",
    "url_hello = BASE + 'hello'\n",
    "\n",
    "\n",
    "for i in range(3):\n",
    "    post_data = {\n",
    "    'name' : 'John Doe ' + str(i)\n",
    "}\n",
    "    res = requests.post(url_hello, data=json.dumps(post_data), headers=HEADERS)\n",
    "    print(res.content)"
   ]
  },
  {
   "cell_type": "code",
   "execution_count": 3,
   "metadata": {
    "collapsed": false
   },
   "outputs": [
    {
     "name": "stdout",
     "output_type": "stream",
     "text": [
      "http://192.168.99.100/v1/algorithms\n",
      "{\n",
      "    \"job_id\": \"22d0aac0-1216-4018-a811-46c0800795cc\", \n",
      "    \"result_type\": \"memory\", \n",
      "    \"status\": \"queued\", \n",
      "    \"url\": \"queue/22d0aac0-1216-4018-a811-46c0800795cc\"\n",
      "}\n",
      "\n",
      "{\n",
      "    \"job_id\": \"be36cfa1-2e39-4f8a-b261-ab525b8cdffb\", \n",
      "    \"result_type\": \"memory\", \n",
      "    \"status\": \"queued\", \n",
      "    \"url\": \"queue/be36cfa1-2e39-4f8a-b261-ab525b8cdffb\"\n",
      "}\n",
      "\n",
      "{\n",
      "    \"job_id\": \"c881e0df-590b-42c8-9fff-0321aee6b5f5\", \n",
      "    \"result_type\": \"memory\", \n",
      "    \"status\": \"queued\", \n",
      "    \"url\": \"queue/c881e0df-590b-42c8-9fff-0321aee6b5f5\"\n",
      "}\n",
      "\n",
      "{\n",
      "    \"job_id\": \"eb26fdb7-79ef-42b1-840f-bbac48770106\", \n",
      "    \"result_type\": \"memory\", \n",
      "    \"status\": \"queued\", \n",
      "    \"url\": \"queue/eb26fdb7-79ef-42b1-840f-bbac48770106\"\n",
      "}\n",
      "\n",
      "{\n",
      "    \"job_id\": \"7aeeb9ce-542c-401b-b6f1-5974ad6cce0d\", \n",
      "    \"result_type\": \"memory\", \n",
      "    \"status\": \"queued\", \n",
      "    \"url\": \"queue/7aeeb9ce-542c-401b-b6f1-5974ad6cce0d\"\n",
      "}\n",
      "\n",
      "{\n",
      "    \"job_id\": \"e01600e0-50fd-4e9a-8b51-d7150ae76a9c\", \n",
      "    \"result_type\": \"memory\", \n",
      "    \"status\": \"queued\", \n",
      "    \"url\": \"queue/e01600e0-50fd-4e9a-8b51-d7150ae76a9c\"\n",
      "}\n",
      "\n",
      "{\n",
      "    \"job_id\": \"6d9ce5dd-ed4e-41bc-9005-a9fc5759af87\", \n",
      "    \"result_type\": \"memory\", \n",
      "    \"status\": \"queued\", \n",
      "    \"url\": \"queue/6d9ce5dd-ed4e-41bc-9005-a9fc5759af87\"\n",
      "}\n",
      "\n",
      "{\n",
      "    \"job_id\": \"c6f70c80-82ba-4b73-8e32-ae60be5fc44e\", \n",
      "    \"result_type\": \"memory\", \n",
      "    \"status\": \"queued\", \n",
      "    \"url\": \"queue/c6f70c80-82ba-4b73-8e32-ae60be5fc44e\"\n",
      "}\n",
      "\n",
      "{\n",
      "    \"job_id\": \"31558f6e-0eed-4436-84e0-bf3e8f77a9bd\", \n",
      "    \"result_type\": \"memory\", \n",
      "    \"status\": \"queued\", \n",
      "    \"url\": \"queue/31558f6e-0eed-4436-84e0-bf3e8f77a9bd\"\n",
      "}\n",
      "\n",
      "{\n",
      "    \"job_id\": \"c65a4993-e83a-4344-9fd1-03c265448ae2\", \n",
      "    \"result_type\": \"memory\", \n",
      "    \"status\": \"queued\", \n",
      "    \"url\": \"queue/c65a4993-e83a-4344-9fd1-03c265448ae2\"\n",
      "}\n",
      "\n",
      "{\n",
      "    \"job_id\": \"1ad63ea6-538a-4daa-a8aa-a12b367b4f2c\", \n",
      "    \"result_type\": \"memory\", \n",
      "    \"status\": \"queued\", \n",
      "    \"url\": \"queue/1ad63ea6-538a-4daa-a8aa-a12b367b4f2c\"\n",
      "}\n",
      "\n",
      "{\n",
      "    \"job_id\": \"69695277-2b7d-4203-a54d-00a454bf5e32\", \n",
      "    \"result_type\": \"memory\", \n",
      "    \"status\": \"queued\", \n",
      "    \"url\": \"queue/69695277-2b7d-4203-a54d-00a454bf5e32\"\n",
      "}\n",
      "\n"
     ]
    }
   ],
   "source": [
    "url_algorithms = BASE + 'algorithms'\n",
    "print(url_algorithms)\n",
    "\n",
    "url_btw = BASE + 'algorithms/pagerank'\n",
    "\n",
    "for i in range(12):\n",
    "    res = requests.post(url_btw, data=json.dumps(cyg), headers=HEADERS)\n",
    "    print(res.content)"
   ]
  },
  {
   "cell_type": "code",
   "execution_count": 4,
   "metadata": {
    "collapsed": false
   },
   "outputs": [
    {
     "name": "stdout",
     "output_type": "stream",
     "text": [
      "{\n",
      "    \"job_id\": \"cace0dbb-b1ca-45d4-85a4-19535a2be8f0\", \n",
      "    \"result_type\": \"file\", \n",
      "    \"status\": \"queued\", \n",
      "    \"url\": \"queue/cace0dbb-b1ca-45d4-85a4-19535a2be8f0\"\n",
      "}\n",
      "\n",
      "{\n",
      "    \"job_id\": \"1bbd547a-8f49-45e4-a41b-be3415f3b471\", \n",
      "    \"result_type\": \"file\", \n",
      "    \"status\": \"queued\", \n",
      "    \"url\": \"queue/1bbd547a-8f49-45e4-a41b-be3415f3b471\"\n",
      "}\n",
      "\n",
      "{\n",
      "    \"job_id\": \"3012143f-c254-4eed-8f2f-cd3973631bc5\", \n",
      "    \"result_type\": \"file\", \n",
      "    \"status\": \"queued\", \n",
      "    \"url\": \"queue/3012143f-c254-4eed-8f2f-cd3973631bc5\"\n",
      "}\n",
      "\n",
      "{\n",
      "    \"job_id\": \"043ad136-9f74-4a82-9d66-ed1f4a511e0b\", \n",
      "    \"result_type\": \"file\", \n",
      "    \"status\": \"queued\", \n",
      "    \"url\": \"queue/043ad136-9f74-4a82-9d66-ed1f4a511e0b\"\n",
      "}\n",
      "\n",
      "{\n",
      "    \"job_id\": \"d4bc7b2d-10a5-48bb-85ed-6fd826c19598\", \n",
      "    \"result_type\": \"file\", \n",
      "    \"status\": \"queued\", \n",
      "    \"url\": \"queue/d4bc7b2d-10a5-48bb-85ed-6fd826c19598\"\n",
      "}\n",
      "\n"
     ]
    }
   ],
   "source": [
    "# Apply layout URL:\n",
    "\n",
    "url_apply = BASE + 'generators/scalefree'\n",
    "post_data = {\n",
    "    'num_nodes': 1000\n",
    "}\n",
    "\n",
    "for i in range(5):\n",
    "    res = requests.post(url_apply, data=json.dumps(post_data), headers=HEADERS)\n",
    "    print(res.content)"
   ]
  },
  {
   "cell_type": "code",
   "execution_count": 5,
   "metadata": {
    "collapsed": false
   },
   "outputs": [
    {
     "name": "stdout",
     "output_type": "stream",
     "text": [
      "http://192.168.99.100/v1/jobs\n",
      "Number of jobs = 20\n"
     ]
    }
   ],
   "source": [
    "# Job Status\n",
    "url_jobs =  BASE + 'jobs'\n",
    "print(url_jobs)\n",
    "\n",
    "res = requests.get(url_jobs)\n",
    "jobs = res.json()\n",
    "\n",
    "print('Number of jobs = ' + str(len(jobs)))"
   ]
  },
  {
   "cell_type": "code",
   "execution_count": 6,
   "metadata": {
    "collapsed": false
   },
   "outputs": [
    {
     "name": "stdout",
     "output_type": "stream",
     "text": [
      "{\n",
      "    \"message\": \"Job 2837b0fd-84a8-478c-a342-c30c3249b15d removed.\"\n",
      "}\n"
     ]
    }
   ],
   "source": [
    "# Delete the first job\n",
    "res = requests.delete(url_jobs + '/' + jobs[0]['job_id'])\n",
    "print(json.dumps(res.json(), indent=4))"
   ]
  },
  {
   "cell_type": "code",
   "execution_count": 7,
   "metadata": {
    "collapsed": false
   },
   "outputs": [],
   "source": [
    "# res = requests.delete(url_jobs)\n",
    "# print(json.dumps(res.json(), indent=4))"
   ]
  }
 ],
 "metadata": {
  "kernelspec": {
   "display_name": "Python 2",
   "language": "python",
   "name": "python2"
  },
  "language_info": {
   "codemirror_mode": {
    "name": "ipython",
    "version": 2
   },
   "file_extension": ".py",
   "mimetype": "text/x-python",
   "name": "python",
   "nbconvert_exporter": "python",
   "pygments_lexer": "ipython2",
   "version": "2.7.6"
  }
 },
 "nbformat": 4,
 "nbformat_minor": 0
}
