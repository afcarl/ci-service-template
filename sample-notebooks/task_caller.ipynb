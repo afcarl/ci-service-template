{
 "cells": [
  {
   "cell_type": "markdown",
   "metadata": {},
   "source": [
    "## Sample Client to Use CI Service Sample\n",
    "Tested on Python 2.7.9."
   ]
  },
  {
   "cell_type": "code",
   "execution_count": 1,
   "metadata": {
    "collapsed": true
   },
   "outputs": [],
   "source": [
    "import requests\n",
    "import json\n",
    "import py2cytoscape.util as cy\n",
    "import networkx as nx\n",
    "\n",
    "BASE = 'http://192.168.99.100/v1/'\n",
    "HEADERS = {'Content-Type': 'application/json'}\n",
    "\n",
    "# Generate a scale-free graph with 3000 nodes (with NetworkX)\n",
    "g = nx.scale_free_graph(1000)\n",
    "\n",
    "# Convert to Cytoscape.js JSON\n",
    "cyg = cy.from_networkx(g)"
   ]
  },
  {
   "cell_type": "code",
   "execution_count": 191,
   "metadata": {
    "collapsed": false
   },
   "outputs": [
    {
     "name": "stdout",
     "output_type": "stream",
     "text": [
      "{\n",
      "    \"job_id\": \"22fd9dbe-9432-4865-93a7-1c06d979a6ed\", \n",
      "    \"result_type\": \"file\", \n",
      "    \"status\": \"queued\", \n",
      "    \"url\": \"/v1jobs/22fd9dbe-9432-4865-93a7-1c06d979a6ed\"\n",
      "}\n",
      "\n",
      "{\n",
      "    \"job_id\": \"fca1d133-2779-45e4-bd8d-f142fce798f6\", \n",
      "    \"result_type\": \"file\", \n",
      "    \"status\": \"queued\", \n",
      "    \"url\": \"/v1jobs/fca1d133-2779-45e4-bd8d-f142fce798f6\"\n",
      "}\n",
      "\n",
      "{\n",
      "    \"job_id\": \"d97c9f0f-afc7-4cd4-9a9f-76097527333f\", \n",
      "    \"result_type\": \"file\", \n",
      "    \"status\": \"queued\", \n",
      "    \"url\": \"/v1jobs/d97c9f0f-afc7-4cd4-9a9f-76097527333f\"\n",
      "}\n",
      "\n",
      "{\n",
      "    \"job_id\": \"892587d4-fae5-491e-bebb-b073c1b08f7f\", \n",
      "    \"result_type\": \"file\", \n",
      "    \"status\": \"queued\", \n",
      "    \"url\": \"/v1jobs/892587d4-fae5-491e-bebb-b073c1b08f7f\"\n",
      "}\n",
      "\n",
      "{\n",
      "    \"job_id\": \"4d765c60-bf0f-44cd-8be0-d575c7597ff8\", \n",
      "    \"result_type\": \"file\", \n",
      "    \"status\": \"queued\", \n",
      "    \"url\": \"/v1jobs/4d765c60-bf0f-44cd-8be0-d575c7597ff8\"\n",
      "}\n",
      "\n"
     ]
    }
   ],
   "source": [
    "# Apply layout URL:\n",
    "\n",
    "url_apply = BASE + 'generators/scalefree'\n",
    "post_data = {\n",
    "    'num_nodes': 1000\n",
    "}\n",
    "\n",
    "for i in range(5):\n",
    "    res = requests.post(url_apply, data=json.dumps(post_data), headers=HEADERS)\n",
    "    print(res.content)"
   ]
  },
  {
   "cell_type": "code",
   "execution_count": 196,
   "metadata": {
    "collapsed": false
   },
   "outputs": [
    {
     "name": "stdout",
     "output_type": "stream",
     "text": [
      "http://192.168.99.100/v1/jobs\n",
      "Number of jobs = 5\n",
      "22fd9dbe-9432-4865-93a7-1c06d979a6ed\n"
     ]
    }
   ],
   "source": [
    "# Job Status\n",
    "url_jobs =  BASE + 'jobs'\n",
    "print(url_jobs)\n",
    "\n",
    "res = requests.get(url_jobs)\n",
    "jobs = res.json()\n",
    "\n",
    "print('Number of jobs = ' + str(len(jobs)))\n",
    "print()"
   ]
  },
  {
   "cell_type": "code",
   "execution_count": 197,
   "metadata": {
    "collapsed": false
   },
   "outputs": [
    {
     "name": "stdout",
     "output_type": "stream",
     "text": [
      "{\n",
      "    \"message\": \"Job 22fd9dbe-9432-4865-93a7-1c06d979a6ed removed.\"\n",
      "}\n"
     ]
    }
   ],
   "source": [
    "# Delete the first job\n",
    "res = requests.delete(url_jobs + '/' + jobs[0]['job_id'])\n",
    "print(json.dumps(res.json(), indent=4))"
   ]
  },
  {
   "cell_type": "code",
   "execution_count": 198,
   "metadata": {
    "collapsed": false
   },
   "outputs": [
    {
     "name": "stdout",
     "output_type": "stream",
     "text": [
      "{\n",
      "    \"message\": \"All jobs removed.\"\n",
      "}\n"
     ]
    }
   ],
   "source": [
    "res = requests.delete(url_jobs)\n",
    "print(json.dumps(res.json(), indent=4))"
   ]
  }
 ],
 "metadata": {
  "kernelspec": {
   "display_name": "Python 2",
   "language": "python",
   "name": "python2"
  },
  "language_info": {
   "codemirror_mode": {
    "name": "ipython",
    "version": 2
   },
   "file_extension": ".py",
   "mimetype": "text/x-python",
   "name": "python",
   "nbconvert_exporter": "python",
   "pygments_lexer": "ipython2",
   "version": "2.7.9"
  }
 },
 "nbformat": 4,
 "nbformat_minor": 0
}
