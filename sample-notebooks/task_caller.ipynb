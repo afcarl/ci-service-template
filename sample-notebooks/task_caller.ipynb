{
 "cells": [
  {
   "cell_type": "markdown",
   "metadata": {},
   "source": [
    "## Sample Client to Use CI Service Sample\n",
    "Tested on Python 2.7.9."
   ]
  },
  {
   "cell_type": "code",
   "execution_count": 54,
   "metadata": {
    "collapsed": true
   },
   "outputs": [],
   "source": [
    "import requests\n",
    "import json\n",
    "import py2cytoscape.util as cy\n",
    "import networkx as nx\n",
    "\n",
    "BASE = 'http://192.168.99.100/v1/'\n",
    "HEADERS = {'Content-Type': 'application/json'}\n",
    "\n",
    "# Generate a scale-free graph with 3000 nodes (with NetworkX)\n",
    "g = nx.scale_free_graph(1000)\n",
    "\n",
    "# Convert to Cytoscape.js JSON\n",
    "cyg = cy.from_networkx(g)"
   ]
  },
  {
   "cell_type": "code",
   "execution_count": 64,
   "metadata": {
    "collapsed": false
   },
   "outputs": [
    {
     "name": "stdout",
     "output_type": "stream",
     "text": [
      "{\n",
      "    \"job_id\": \"54fa5532-2a2c-444e-8a9e-4d85f66eb8b4\", \n",
      "    \"result_type\": \"memory\", \n",
      "    \"status\": \"queued\", \n",
      "    \"url\": \"jobs/54fa5532-2a2c-444e-8a9e-4d85f66eb8b4\"\n",
      "}\n",
      "\n"
     ]
    }
   ],
   "source": [
    "# Hello service\n",
    "url_hello = BASE + 'hello'\n",
    "post_data = {\n",
    "    'name' : 'John Doe'\n",
    "}\n",
    "\n",
    "res = requests.post(url_hello, data=json.dumps(post_data), headers=HEADERS)\n",
    "print(res.content)"
   ]
  },
  {
   "cell_type": "code",
   "execution_count": 67,
   "metadata": {
    "collapsed": false
   },
   "outputs": [
    {
     "name": "stdout",
     "output_type": "stream",
     "text": [
      "{\n",
      "    \"job_id\": \"18168d21-2eea-47ff-a1c5-5d60cde4c48c\", \n",
      "    \"result_type\": \"memory\", \n",
      "    \"status\": \"queued\", \n",
      "    \"url\": \"jobs/18168d21-2eea-47ff-a1c5-5d60cde4c48c\"\n",
      "}\n",
      "\n",
      "{\n",
      "    \"job_id\": \"03ac56f1-7cb8-4b4a-86c3-93347ea1fc39\", \n",
      "    \"result_type\": \"memory\", \n",
      "    \"status\": \"queued\", \n",
      "    \"url\": \"jobs/03ac56f1-7cb8-4b4a-86c3-93347ea1fc39\"\n",
      "}\n",
      "\n",
      "{\n",
      "    \"job_id\": \"3703452f-b0fd-4684-b1d8-ab023f187c32\", \n",
      "    \"result_type\": \"memory\", \n",
      "    \"status\": \"queued\", \n",
      "    \"url\": \"jobs/3703452f-b0fd-4684-b1d8-ab023f187c32\"\n",
      "}\n",
      "\n",
      "{\n",
      "    \"job_id\": \"fee8d674-933d-46e0-8931-339e891e1ed5\", \n",
      "    \"result_type\": \"memory\", \n",
      "    \"status\": \"queued\", \n",
      "    \"url\": \"jobs/fee8d674-933d-46e0-8931-339e891e1ed5\"\n",
      "}\n",
      "\n",
      "{\n",
      "    \"job_id\": \"f587d095-1a5e-4428-a61e-a8b217307be1\", \n",
      "    \"result_type\": \"memory\", \n",
      "    \"status\": \"queued\", \n",
      "    \"url\": \"jobs/f587d095-1a5e-4428-a61e-a8b217307be1\"\n",
      "}\n",
      "\n"
     ]
    }
   ],
   "source": [
    "url_btw = BASE + 'algorithms/betweenness'\n",
    "\n",
    "for i in range(5):\n",
    "    res = requests.post(url_btw, data=json.dumps(cyg), headers=HEADERS)\n",
    "    print(res.content)"
   ]
  },
  {
   "cell_type": "code",
   "execution_count": 66,
   "metadata": {
    "collapsed": false
   },
   "outputs": [
    {
     "name": "stdout",
     "output_type": "stream",
     "text": [
      "{\n",
      "    \"job_id\": \"fa615af0-0df4-460d-9f11-c6aaf3e07e14\", \n",
      "    \"result_type\": \"file\", \n",
      "    \"status\": \"queued\", \n",
      "    \"url\": \"jobs/fa615af0-0df4-460d-9f11-c6aaf3e07e14\"\n",
      "}\n",
      "\n",
      "{\n",
      "    \"job_id\": \"b013aee5-f4ee-4bb1-9f2d-e780d6426492\", \n",
      "    \"result_type\": \"file\", \n",
      "    \"status\": \"queued\", \n",
      "    \"url\": \"jobs/b013aee5-f4ee-4bb1-9f2d-e780d6426492\"\n",
      "}\n",
      "\n",
      "{\n",
      "    \"job_id\": \"20d3ec29-f3c4-404c-ab8b-7b2c321d4e3e\", \n",
      "    \"result_type\": \"file\", \n",
      "    \"status\": \"queued\", \n",
      "    \"url\": \"jobs/20d3ec29-f3c4-404c-ab8b-7b2c321d4e3e\"\n",
      "}\n",
      "\n",
      "{\n",
      "    \"job_id\": \"c64e0e7c-945d-4beb-b853-3f469f187aad\", \n",
      "    \"result_type\": \"file\", \n",
      "    \"status\": \"queued\", \n",
      "    \"url\": \"jobs/c64e0e7c-945d-4beb-b853-3f469f187aad\"\n",
      "}\n",
      "\n",
      "{\n",
      "    \"job_id\": \"cd2c7379-f791-4b3c-8e88-c17a78a71c43\", \n",
      "    \"result_type\": \"file\", \n",
      "    \"status\": \"queued\", \n",
      "    \"url\": \"jobs/cd2c7379-f791-4b3c-8e88-c17a78a71c43\"\n",
      "}\n",
      "\n"
     ]
    }
   ],
   "source": [
    "# Apply layout URL:\n",
    "\n",
    "url_apply = BASE + 'generators/scalefree'\n",
    "post_data = {\n",
    "    'num_nodes': 1000\n",
    "}\n",
    "\n",
    "for i in range(5):\n",
    "    res = requests.post(url_apply, data=json.dumps(post_data), headers=HEADERS)\n",
    "    print(res.content)"
   ]
  },
  {
   "cell_type": "code",
   "execution_count": 56,
   "metadata": {
    "collapsed": false
   },
   "outputs": [
    {
     "name": "stdout",
     "output_type": "stream",
     "text": [
      "http://192.168.99.100/v1/jobs\n",
      "Number of jobs = 5\n"
     ]
    }
   ],
   "source": [
    "# Job Status\n",
    "url_jobs =  BASE + 'jobs'\n",
    "print(url_jobs)\n",
    "\n",
    "res = requests.get(url_jobs)\n",
    "jobs = res.json()\n",
    "\n",
    "print('Number of jobs = ' + str(len(jobs)))"
   ]
  },
  {
   "cell_type": "code",
   "execution_count": 51,
   "metadata": {
    "collapsed": false
   },
   "outputs": [
    {
     "name": "stdout",
     "output_type": "stream",
     "text": [
      "{\n",
      "    \"message\": \"Job d1c4c50b-3b67-4369-9a82-76fd0b6684a9 removed.\"\n",
      "}\n"
     ]
    }
   ],
   "source": [
    "# Delete the first job\n",
    "res = requests.delete(url_jobs + '/' + jobs[0]['job_id'])\n",
    "print(json.dumps(res.json(), indent=4))"
   ]
  },
  {
   "cell_type": "code",
   "execution_count": 53,
   "metadata": {
    "collapsed": false
   },
   "outputs": [
    {
     "name": "stdout",
     "output_type": "stream",
     "text": [
      "{\n",
      "    \"message\": \"All jobs removed.\"\n",
      "}\n"
     ]
    }
   ],
   "source": [
    "res = requests.delete(url_jobs)\n",
    "print(json.dumps(res.json(), indent=4))"
   ]
  }
 ],
 "metadata": {
  "kernelspec": {
   "display_name": "Python 2",
   "language": "python",
   "name": "python2"
  },
  "language_info": {
   "codemirror_mode": {
    "name": "ipython",
    "version": 2
   },
   "file_extension": ".py",
   "mimetype": "text/x-python",
   "name": "python",
   "nbconvert_exporter": "python",
   "pygments_lexer": "ipython2",
   "version": "2.7.9"
  }
 },
 "nbformat": 4,
 "nbformat_minor": 0
}
