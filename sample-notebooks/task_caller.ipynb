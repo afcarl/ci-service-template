{
 "cells": [
  {
   "cell_type": "markdown",
   "metadata": {},
   "source": [
    "## Sample Client to Use CI Service Sample\n",
    "Tested on Python 2.7.9."
   ]
  },
  {
   "cell_type": "code",
   "execution_count": 103,
   "metadata": {
    "collapsed": true
   },
   "outputs": [],
   "source": [
    "import requests\n",
    "import json\n",
    "import py2cytoscape.util as cy\n",
    "import networkx as nx\n",
    "\n",
    "BASE = 'http://192.168.99.100/v1/'\n",
    "HEADERS = {'Content-Type': 'application/json'}\n",
    "\n",
    "# Generate a scale-free graph with 3000 nodes (with NetworkX)\n",
    "g = nx.scale_free_graph(20)\n",
    "\n",
    "# Convert to Cytoscape.js JSON\n",
    "cyg = cy.from_networkx(g)"
   ]
  },
  {
   "cell_type": "code",
   "execution_count": 104,
   "metadata": {
    "collapsed": false
   },
   "outputs": [
    {
     "name": "stdout",
     "output_type": "stream",
     "text": [
      "{\n",
      "    \"job_id\": \"8973da95-e81c-4dc1-95fe-d430c083439b\", \n",
      "    \"result_type\": \"memory\", \n",
      "    \"status\": \"queued\", \n",
      "    \"url\": \"jobs/8973da95-e81c-4dc1-95fe-d430c083439b\"\n",
      "}\n",
      "\n",
      "{\n",
      "    \"job_id\": \"2efd3dc4-1341-48bc-8e48-533ecf4c3798\", \n",
      "    \"result_type\": \"memory\", \n",
      "    \"status\": \"queued\", \n",
      "    \"url\": \"jobs/2efd3dc4-1341-48bc-8e48-533ecf4c3798\"\n",
      "}\n",
      "\n",
      "{\n",
      "    \"job_id\": \"4a6a52d8-2672-4658-8742-7f5dbed21e47\", \n",
      "    \"result_type\": \"memory\", \n",
      "    \"status\": \"queued\", \n",
      "    \"url\": \"jobs/4a6a52d8-2672-4658-8742-7f5dbed21e47\"\n",
      "}\n",
      "\n",
      "{\n",
      "    \"job_id\": \"b3605e34-0297-4f12-a477-f2e2d29a5176\", \n",
      "    \"result_type\": \"memory\", \n",
      "    \"status\": \"queued\", \n",
      "    \"url\": \"jobs/b3605e34-0297-4f12-a477-f2e2d29a5176\"\n",
      "}\n",
      "\n",
      "{\n",
      "    \"job_id\": \"fd5694de-215c-4cae-807e-a6af7289c79e\", \n",
      "    \"result_type\": \"memory\", \n",
      "    \"status\": \"queued\", \n",
      "    \"url\": \"jobs/fd5694de-215c-4cae-807e-a6af7289c79e\"\n",
      "}\n",
      "\n"
     ]
    }
   ],
   "source": [
    "# Hello service\n",
    "url_hello = BASE + 'hello'\n",
    "\n",
    "\n",
    "for i in range(3):\n",
    "    post_data = {\n",
    "    'name' : 'John Doe ' + str(i)\n",
    "}\n",
    "    res = requests.post(url_hello, data=json.dumps(post_data), headers=HEADERS)\n",
    "    print(res.content)"
   ]
  },
  {
   "cell_type": "code",
   "execution_count": 105,
   "metadata": {
    "collapsed": false
   },
   "outputs": [
    {
     "name": "stdout",
     "output_type": "stream",
     "text": [
      "http://192.168.99.100/v1/algorithms\n",
      "{\n",
      "    \"job_id\": \"eff6ff3a-7eaf-485b-9dce-f7e7c2d2c5ca\", \n",
      "    \"result_type\": \"memory\", \n",
      "    \"status\": \"queued\", \n",
      "    \"url\": \"jobs/eff6ff3a-7eaf-485b-9dce-f7e7c2d2c5ca\"\n",
      "}\n",
      "\n",
      "{\n",
      "    \"job_id\": \"bd2ca2a5-66c1-4b2b-8245-a5ed11c4ab2f\", \n",
      "    \"result_type\": \"memory\", \n",
      "    \"status\": \"queued\", \n",
      "    \"url\": \"jobs/bd2ca2a5-66c1-4b2b-8245-a5ed11c4ab2f\"\n",
      "}\n",
      "\n",
      "{\n",
      "    \"job_id\": \"b8bc9591-5104-4954-ab39-a17e50d0f496\", \n",
      "    \"result_type\": \"memory\", \n",
      "    \"status\": \"queued\", \n",
      "    \"url\": \"jobs/b8bc9591-5104-4954-ab39-a17e50d0f496\"\n",
      "}\n",
      "\n",
      "{\n",
      "    \"job_id\": \"0573a2a0-103d-4387-86c2-0e6aef41c707\", \n",
      "    \"result_type\": \"memory\", \n",
      "    \"status\": \"queued\", \n",
      "    \"url\": \"jobs/0573a2a0-103d-4387-86c2-0e6aef41c707\"\n",
      "}\n",
      "\n",
      "{\n",
      "    \"job_id\": \"e65b9d34-807e-4d65-bdef-b411e6e053e5\", \n",
      "    \"result_type\": \"memory\", \n",
      "    \"status\": \"queued\", \n",
      "    \"url\": \"jobs/e65b9d34-807e-4d65-bdef-b411e6e053e5\"\n",
      "}\n",
      "\n",
      "{\n",
      "    \"job_id\": \"7b49d3a6-46d9-4674-badf-552023ab5361\", \n",
      "    \"result_type\": \"memory\", \n",
      "    \"status\": \"queued\", \n",
      "    \"url\": \"jobs/7b49d3a6-46d9-4674-badf-552023ab5361\"\n",
      "}\n",
      "\n",
      "{\n",
      "    \"job_id\": \"880e9bf9-553e-4c50-aaac-aca04f8f5d81\", \n",
      "    \"result_type\": \"memory\", \n",
      "    \"status\": \"queued\", \n",
      "    \"url\": \"jobs/880e9bf9-553e-4c50-aaac-aca04f8f5d81\"\n",
      "}\n",
      "\n",
      "{\n",
      "    \"job_id\": \"6db5cb70-64ef-429a-a473-66ae20072d25\", \n",
      "    \"result_type\": \"memory\", \n",
      "    \"status\": \"queued\", \n",
      "    \"url\": \"jobs/6db5cb70-64ef-429a-a473-66ae20072d25\"\n",
      "}\n",
      "\n",
      "{\n",
      "    \"job_id\": \"ad72a32f-4023-4fb1-9c00-2ef6ad1fd47d\", \n",
      "    \"result_type\": \"memory\", \n",
      "    \"status\": \"queued\", \n",
      "    \"url\": \"jobs/ad72a32f-4023-4fb1-9c00-2ef6ad1fd47d\"\n",
      "}\n",
      "\n",
      "{\n",
      "    \"job_id\": \"fcf17cdf-c1eb-4bfe-b194-ecae55aec4ce\", \n",
      "    \"result_type\": \"memory\", \n",
      "    \"status\": \"queued\", \n",
      "    \"url\": \"jobs/fcf17cdf-c1eb-4bfe-b194-ecae55aec4ce\"\n",
      "}\n",
      "\n",
      "{\n",
      "    \"job_id\": \"21e35dc1-af23-42d6-b825-a0291724c6c6\", \n",
      "    \"result_type\": \"memory\", \n",
      "    \"status\": \"queued\", \n",
      "    \"url\": \"jobs/21e35dc1-af23-42d6-b825-a0291724c6c6\"\n",
      "}\n",
      "\n",
      "{\n",
      "    \"job_id\": \"8c3f68d5-1ffc-407c-87e8-89f522ae3067\", \n",
      "    \"result_type\": \"memory\", \n",
      "    \"status\": \"queued\", \n",
      "    \"url\": \"jobs/8c3f68d5-1ffc-407c-87e8-89f522ae3067\"\n",
      "}\n",
      "\n"
     ]
    }
   ],
   "source": [
    "url_algorithms = BASE + 'algorithms'\n",
    "print(url_algorithms)\n",
    "\n",
    "url_btw = BASE + 'algorithms/pagerank'\n",
    "\n",
    "for i in range(12):\n",
    "    res = requests.post(url_btw, data=json.dumps(cyg), headers=HEADERS)\n",
    "    print(res.content)"
   ]
  },
  {
   "cell_type": "code",
   "execution_count": 106,
   "metadata": {
    "collapsed": false
   },
   "outputs": [
    {
     "name": "stdout",
     "output_type": "stream",
     "text": [
      "{\n",
      "    \"job_id\": \"26a6f379-c891-4337-9c6f-6a872deb07c3\", \n",
      "    \"result_type\": \"file\", \n",
      "    \"status\": \"queued\", \n",
      "    \"url\": \"jobs/26a6f379-c891-4337-9c6f-6a872deb07c3\"\n",
      "}\n",
      "\n",
      "{\n",
      "    \"job_id\": \"80d814ab-3a07-463c-a841-c641a5a009e1\", \n",
      "    \"result_type\": \"file\", \n",
      "    \"status\": \"queued\", \n",
      "    \"url\": \"jobs/80d814ab-3a07-463c-a841-c641a5a009e1\"\n",
      "}\n",
      "\n",
      "{\n",
      "    \"job_id\": \"3613e538-6015-4724-9b01-5f5d5e66817f\", \n",
      "    \"result_type\": \"file\", \n",
      "    \"status\": \"queued\", \n",
      "    \"url\": \"jobs/3613e538-6015-4724-9b01-5f5d5e66817f\"\n",
      "}\n",
      "\n",
      "{\n",
      "    \"job_id\": \"484f8dfb-c209-43d3-aede-19ef6d503e18\", \n",
      "    \"result_type\": \"file\", \n",
      "    \"status\": \"queued\", \n",
      "    \"url\": \"jobs/484f8dfb-c209-43d3-aede-19ef6d503e18\"\n",
      "}\n",
      "\n",
      "{\n",
      "    \"job_id\": \"e5fe553f-4346-4e47-9891-3e0da02dcbf3\", \n",
      "    \"result_type\": \"file\", \n",
      "    \"status\": \"queued\", \n",
      "    \"url\": \"jobs/e5fe553f-4346-4e47-9891-3e0da02dcbf3\"\n",
      "}\n",
      "\n"
     ]
    }
   ],
   "source": [
    "# Apply layout URL:\n",
    "\n",
    "url_apply = BASE + 'generators/scalefree'\n",
    "post_data = {\n",
    "    'num_nodes': 1000\n",
    "}\n",
    "\n",
    "for i in range(5):\n",
    "    res = requests.post(url_apply, data=json.dumps(post_data), headers=HEADERS)\n",
    "    print(res.content)"
   ]
  },
  {
   "cell_type": "code",
   "execution_count": 111,
   "metadata": {
    "collapsed": false
   },
   "outputs": [
    {
     "name": "stdout",
     "output_type": "stream",
     "text": [
      "http://192.168.99.100/v1/jobs\n",
      "Number of jobs = 0\n"
     ]
    }
   ],
   "source": [
    "# Job Status\n",
    "url_jobs =  BASE + 'jobs'\n",
    "print(url_jobs)\n",
    "\n",
    "res = requests.get(url_jobs)\n",
    "jobs = res.json()\n",
    "\n",
    "print('Number of jobs = ' + str(len(jobs)))"
   ]
  },
  {
   "cell_type": "code",
   "execution_count": 108,
   "metadata": {
    "collapsed": false
   },
   "outputs": [
    {
     "name": "stdout",
     "output_type": "stream",
     "text": [
      "{\n",
      "    \"message\": \"Job 8973da95-e81c-4dc1-95fe-d430c083439b removed.\"\n",
      "}\n"
     ]
    }
   ],
   "source": [
    "# Delete the first job\n",
    "res = requests.delete(url_jobs + '/' + jobs[0]['job_id'])\n",
    "print(json.dumps(res.json(), indent=4))"
   ]
  },
  {
   "cell_type": "code",
   "execution_count": 110,
   "metadata": {
    "collapsed": false
   },
   "outputs": [
    {
     "name": "stdout",
     "output_type": "stream",
     "text": [
      "{\n",
      "    \"message\": \"All jobs removed.\"\n",
      "}\n"
     ]
    }
   ],
   "source": [
    "res = requests.delete(url_jobs)\n",
    "print(json.dumps(res.json(), indent=4))"
   ]
  }
 ],
 "metadata": {
  "kernelspec": {
   "display_name": "Python 2",
   "language": "python",
   "name": "python2"
  },
  "language_info": {
   "codemirror_mode": {
    "name": "ipython",
    "version": 2
   },
   "file_extension": ".py",
   "mimetype": "text/x-python",
   "name": "python",
   "nbconvert_exporter": "python",
   "pygments_lexer": "ipython2",
   "version": "2.7.9"
  }
 },
 "nbformat": 4,
 "nbformat_minor": 0
}
