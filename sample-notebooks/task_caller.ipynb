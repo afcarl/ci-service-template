{
 "cells": [
  {
   "cell_type": "markdown",
   "metadata": {},
   "source": [
    "## Sample Client to Use CI Service Sample\n",
    "Tested on Python 2.7.9."
   ]
  },
  {
   "cell_type": "code",
   "execution_count": 5,
   "metadata": {
    "collapsed": false
   },
   "outputs": [],
   "source": [
    "import requests\n",
    "import json\n",
    "import py2cytoscape.util as cy\n",
    "import networkx as nx\n",
    "\n",
    "BASE = 'http://192.168.99.100/v1/'\n",
    "HEADERS = {'Content-Type': 'application/json'}\n",
    "\n",
    "# Generate a scale-free graph with 3000 nodes (with NetworkX)\n",
    "g = nx.scale_free_graph(3000)\n",
    "\n",
    "# Convert to Cytoscape.js JSON\n",
    "cyg = cy.from_networkx(g)"
   ]
  },
  {
   "cell_type": "code",
   "execution_count": 7,
   "metadata": {
    "collapsed": false,
    "scrolled": true
   },
   "outputs": [
    {
     "name": "stdout",
     "output_type": "stream",
     "text": [
      "{\n",
      "    \"status\": \"queued\", \n",
      "    \"url\": \"http://192.168.59.103/v1/jobs/06a8fbf7-c503-4d43-bb48-f220200747a1\", \n",
      "    \"job_id\": \"06a8fbf7-c503-4d43-bb48-f220200747a1\"\n",
      "}\n"
     ]
    }
   ],
   "source": [
    "# Apply layout URL:\n",
    "url_apply = BASE + 'algorithms/betweenness'\n",
    "res = requests.post(url_apply, data=json.dumps(cyg), headers=HEADERS)\n",
    "print(json.dumps(res.json(), indent=4))"
   ]
  },
  {
   "cell_type": "code",
   "execution_count": 541,
   "metadata": {
    "collapsed": false
   },
   "outputs": [
    {
     "name": "stdout",
     "output_type": "stream",
     "text": [
      "http://192.168.59.103/v1/jobs\n",
      "[]\n"
     ]
    }
   ],
   "source": [
    "# Job Status\n",
    "url_jobs =  BASE + 'jobs'\n",
    "print(url_jobs)\n",
    "\n",
    "res = requests.get(url_jobs)\n",
    "print(json.dumps(res.json(), indent=4))"
   ]
  },
  {
   "cell_type": "code",
   "execution_count": 540,
   "metadata": {
    "collapsed": false
   },
   "outputs": [
    {
     "name": "stdout",
     "output_type": "stream",
     "text": [
      "{\n",
      "    \"message\": \"All jobs removed.\"\n",
      "}\n"
     ]
    }
   ],
   "source": [
    "res = requests.delete(url_jobs)\n",
    "print(json.dumps(res.json(), indent=4))"
   ]
  }
 ],
 "metadata": {
  "kernelspec": {
   "display_name": "Python 2",
   "language": "python",
   "name": "python2"
  },
  "language_info": {
   "codemirror_mode": {
    "name": "ipython",
    "version": 2
   },
   "file_extension": ".py",
   "mimetype": "text/x-python",
   "name": "python",
   "nbconvert_exporter": "python",
   "pygments_lexer": "ipython2",
   "version": "2.7.9"
  }
 },
 "nbformat": 4,
 "nbformat_minor": 0
}
