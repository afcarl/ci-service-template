{
 "cells": [
  {
   "cell_type": "markdown",
   "metadata": {},
   "source": [
    "## Sample Client to Use CI Service Sample\n",
    "Tested on Python 2.7.9."
   ]
  },
  {
   "cell_type": "code",
   "execution_count": 1,
   "metadata": {
    "collapsed": false
   },
   "outputs": [],
   "source": [
    "import requests\n",
    "import json\n",
    "import py2cytoscape.util as cy\n",
    "import networkx as nx\n",
    "\n",
    "BASE = 'http://192.168.99.100/v1/'\n",
    "HEADERS = {'Content-Type': 'application/json'}\n",
    "\n",
    "# Generate a scale-free graph with 3000 nodes (with NetworkX)\n",
    "g = nx.scale_free_graph(3000)\n",
    "\n",
    "# Convert to Cytoscape.js JSON\n",
    "cyg = cy.from_networkx(g)"
   ]
  },
  {
   "cell_type": "code",
   "execution_count": 2,
   "metadata": {
    "collapsed": false
   },
   "outputs": [
    {
     "name": "stdout",
     "output_type": "stream",
     "text": [
      "{\n",
      "    \"job_id\": \"43d843f8-cc92-4819-93f7-0f7e122c08a3\", \n",
      "    \"result_type\": \"memory\", \n",
      "    \"status\": \"queued\", \n",
      "    \"url\": \"jobs/43d843f8-cc92-4819-93f7-0f7e122c08a3\"\n",
      "}\n",
      "\n",
      "{\n",
      "    \"job_id\": \"2b695fed-0355-416c-8a08-f1e66197e931\", \n",
      "    \"result_type\": \"memory\", \n",
      "    \"status\": \"queued\", \n",
      "    \"url\": \"jobs/2b695fed-0355-416c-8a08-f1e66197e931\"\n",
      "}\n",
      "\n",
      "{\n",
      "    \"job_id\": \"94b7e07a-cc5e-4fe5-af9a-e766918628a6\", \n",
      "    \"result_type\": \"memory\", \n",
      "    \"status\": \"queued\", \n",
      "    \"url\": \"jobs/94b7e07a-cc5e-4fe5-af9a-e766918628a6\"\n",
      "}\n",
      "\n"
     ]
    }
   ],
   "source": [
    "# Hello service\n",
    "url_hello = BASE + 'hello'\n",
    "\n",
    "\n",
    "for i in range(3):\n",
    "    post_data = {\n",
    "    'name' : 'John Doe ' + str(i)\n",
    "}\n",
    "    res = requests.post(url_hello, data=json.dumps(post_data), headers=HEADERS)\n",
    "    print(res.content)"
   ]
  },
  {
   "cell_type": "code",
   "execution_count": 3,
   "metadata": {
    "collapsed": false
   },
   "outputs": [
    {
     "name": "stdout",
     "output_type": "stream",
     "text": [
      "http://192.168.99.100/v1/algorithms\n",
      "{\n",
      "    \"job_id\": \"dedb1f67-ddfd-4bb0-a20d-20a5f72b9027\", \n",
      "    \"result_type\": \"memory\", \n",
      "    \"status\": \"queued\", \n",
      "    \"url\": \"jobs/dedb1f67-ddfd-4bb0-a20d-20a5f72b9027\"\n",
      "}\n",
      "\n",
      "{\n",
      "    \"job_id\": \"dcc95e0d-c606-4e80-9b8d-42e6018d0fa1\", \n",
      "    \"result_type\": \"memory\", \n",
      "    \"status\": \"queued\", \n",
      "    \"url\": \"jobs/dcc95e0d-c606-4e80-9b8d-42e6018d0fa1\"\n",
      "}\n",
      "\n",
      "{\n",
      "    \"job_id\": \"9df983b5-049b-4fce-8664-338becf03fee\", \n",
      "    \"result_type\": \"memory\", \n",
      "    \"status\": \"queued\", \n",
      "    \"url\": \"jobs/9df983b5-049b-4fce-8664-338becf03fee\"\n",
      "}\n",
      "\n",
      "{\n",
      "    \"job_id\": \"335a2d02-240e-41de-a60b-855324a40c4b\", \n",
      "    \"result_type\": \"memory\", \n",
      "    \"status\": \"queued\", \n",
      "    \"url\": \"jobs/335a2d02-240e-41de-a60b-855324a40c4b\"\n",
      "}\n",
      "\n",
      "{\n",
      "    \"job_id\": \"520aa451-a5a5-4bab-87b3-17d522ca22d4\", \n",
      "    \"result_type\": \"memory\", \n",
      "    \"status\": \"queued\", \n",
      "    \"url\": \"jobs/520aa451-a5a5-4bab-87b3-17d522ca22d4\"\n",
      "}\n",
      "\n",
      "{\n",
      "    \"job_id\": \"ffbd16be-8c12-4fa0-a2cc-798f6fc248b1\", \n",
      "    \"result_type\": \"memory\", \n",
      "    \"status\": \"queued\", \n",
      "    \"url\": \"jobs/ffbd16be-8c12-4fa0-a2cc-798f6fc248b1\"\n",
      "}\n",
      "\n",
      "{\n",
      "    \"job_id\": \"1c06daf1-c1dc-46be-9c17-ed48f725426a\", \n",
      "    \"result_type\": \"memory\", \n",
      "    \"status\": \"queued\", \n",
      "    \"url\": \"jobs/1c06daf1-c1dc-46be-9c17-ed48f725426a\"\n",
      "}\n",
      "\n",
      "{\n",
      "    \"job_id\": \"6cca337d-e0da-4032-ba8c-36b79171f345\", \n",
      "    \"result_type\": \"memory\", \n",
      "    \"status\": \"queued\", \n",
      "    \"url\": \"jobs/6cca337d-e0da-4032-ba8c-36b79171f345\"\n",
      "}\n",
      "\n",
      "{\n",
      "    \"job_id\": \"4e401cec-8358-4abc-b62b-ee4c58ba2686\", \n",
      "    \"result_type\": \"memory\", \n",
      "    \"status\": \"queued\", \n",
      "    \"url\": \"jobs/4e401cec-8358-4abc-b62b-ee4c58ba2686\"\n",
      "}\n",
      "\n",
      "{\n",
      "    \"job_id\": \"2558832a-2d0a-4d5b-b0ec-40e2633f78ea\", \n",
      "    \"result_type\": \"memory\", \n",
      "    \"status\": \"queued\", \n",
      "    \"url\": \"jobs/2558832a-2d0a-4d5b-b0ec-40e2633f78ea\"\n",
      "}\n",
      "\n",
      "{\n",
      "    \"job_id\": \"87de03c2-2f7e-4a55-a70b-6869c7578648\", \n",
      "    \"result_type\": \"memory\", \n",
      "    \"status\": \"queued\", \n",
      "    \"url\": \"jobs/87de03c2-2f7e-4a55-a70b-6869c7578648\"\n",
      "}\n",
      "\n",
      "{\n",
      "    \"job_id\": \"aab3820e-a84f-4183-a2b4-afef32bbfb63\", \n",
      "    \"result_type\": \"memory\", \n",
      "    \"status\": \"queued\", \n",
      "    \"url\": \"jobs/aab3820e-a84f-4183-a2b4-afef32bbfb63\"\n",
      "}\n",
      "\n"
     ]
    }
   ],
   "source": [
    "url_algorithms = BASE + 'algorithms'\n",
    "print(url_algorithms)\n",
    "\n",
    "url_btw = BASE + 'algorithms/pagerank'\n",
    "\n",
    "for i in range(12):\n",
    "    res = requests.post(url_btw, data=json.dumps(cyg), headers=HEADERS)\n",
    "    print(res.content)"
   ]
  },
  {
   "cell_type": "code",
   "execution_count": 4,
   "metadata": {
    "collapsed": false
   },
   "outputs": [
    {
     "name": "stdout",
     "output_type": "stream",
     "text": [
      "{\n",
      "    \"job_id\": \"8a483b38-812d-42c0-b1d4-3d0ae9d20429\", \n",
      "    \"result_type\": \"file\", \n",
      "    \"status\": \"queued\", \n",
      "    \"url\": \"jobs/8a483b38-812d-42c0-b1d4-3d0ae9d20429\"\n",
      "}\n",
      "\n",
      "{\n",
      "    \"job_id\": \"1f7877f2-c511-4276-9d3d-838e7d44108a\", \n",
      "    \"result_type\": \"file\", \n",
      "    \"status\": \"queued\", \n",
      "    \"url\": \"jobs/1f7877f2-c511-4276-9d3d-838e7d44108a\"\n",
      "}\n",
      "\n",
      "{\n",
      "    \"job_id\": \"8d4afcb8-74d8-4091-a984-d39354816f16\", \n",
      "    \"result_type\": \"file\", \n",
      "    \"status\": \"queued\", \n",
      "    \"url\": \"jobs/8d4afcb8-74d8-4091-a984-d39354816f16\"\n",
      "}\n",
      "\n",
      "{\n",
      "    \"job_id\": \"fd3e46cd-18b3-41e1-8d76-afc71f1858b0\", \n",
      "    \"result_type\": \"file\", \n",
      "    \"status\": \"queued\", \n",
      "    \"url\": \"jobs/fd3e46cd-18b3-41e1-8d76-afc71f1858b0\"\n",
      "}\n",
      "\n",
      "{\n",
      "    \"job_id\": \"02dc9b03-ca27-47a6-a1e2-804c0ab78b9d\", \n",
      "    \"result_type\": \"file\", \n",
      "    \"status\": \"queued\", \n",
      "    \"url\": \"jobs/02dc9b03-ca27-47a6-a1e2-804c0ab78b9d\"\n",
      "}\n",
      "\n"
     ]
    }
   ],
   "source": [
    "# Apply layout URL:\n",
    "\n",
    "url_apply = BASE + 'generators/scalefree'\n",
    "post_data = {\n",
    "    'num_nodes': 1000\n",
    "}\n",
    "\n",
    "for i in range(5):\n",
    "    res = requests.post(url_apply, data=json.dumps(post_data), headers=HEADERS)\n",
    "    print(res.content)"
   ]
  },
  {
   "cell_type": "code",
   "execution_count": 17,
   "metadata": {
    "collapsed": false
   },
   "outputs": [
    {
     "name": "stdout",
     "output_type": "stream",
     "text": [
      "http://192.168.99.100/v1/jobs\n",
      "Number of jobs = 17\n"
     ]
    }
   ],
   "source": [
    "# Job Status\n",
    "url_jobs =  BASE + 'jobs'\n",
    "print(url_jobs)\n",
    "\n",
    "res = requests.get(url_jobs)\n",
    "jobs = res.json()\n",
    "\n",
    "print('Number of jobs = ' + str(len(jobs)))"
   ]
  },
  {
   "cell_type": "code",
   "execution_count": 18,
   "metadata": {
    "collapsed": false
   },
   "outputs": [
    {
     "name": "stdout",
     "output_type": "stream",
     "text": [
      "{\n",
      "    \"message\": \"Job dedb1f67-ddfd-4bb0-a20d-20a5f72b9027 removed.\"\n",
      "}\n"
     ]
    }
   ],
   "source": [
    "# Delete the first job\n",
    "res = requests.delete(url_jobs + '/' + jobs[0]['job_id'])\n",
    "print(json.dumps(res.json(), indent=4))"
   ]
  },
  {
   "cell_type": "code",
   "execution_count": 7,
   "metadata": {
    "collapsed": false
   },
   "outputs": [],
   "source": [
    "# res = requests.delete(url_jobs)\n",
    "# print(json.dumps(res.json(), indent=4))"
   ]
  }
 ],
 "metadata": {
  "kernelspec": {
   "display_name": "Python 2",
   "language": "python",
   "name": "python2"
  },
  "language_info": {
   "codemirror_mode": {
    "name": "ipython",
    "version": 2
   },
   "file_extension": ".py",
   "mimetype": "text/x-python",
   "name": "python",
   "nbconvert_exporter": "python",
   "pygments_lexer": "ipython2",
   "version": "2.7.9"
  }
 },
 "nbformat": 4,
 "nbformat_minor": 0
}
