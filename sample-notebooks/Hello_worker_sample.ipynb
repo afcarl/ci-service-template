{
 "cells": [
  {
   "cell_type": "markdown",
   "metadata": {},
   "source": [
    "# Introduction to CI Template\n",
    "\n",
    "## Basic Setup"
   ]
  },
  {
   "cell_type": "code",
   "execution_count": 1,
   "metadata": {
    "collapsed": true
   },
   "outputs": [],
   "source": [
    "IP = '52.88.147.185'\n",
    "BASE = 'http://' + IP + '/v1/'  # You need to change this to your service server\n",
    "\n",
    "import requests\n",
    "import json\n",
    "\n",
    "def jprint(data):\n",
    "    print(json.dumps(data, indent=4))\n",
    "\n",
    "# Change this to  your Docker container's IP\n",
    "HEADERS = {'Content-Type': 'application/json'}"
   ]
  },
  {
   "cell_type": "code",
   "execution_count": 2,
   "metadata": {
    "collapsed": false
   },
   "outputs": [
    {
     "name": "stdout",
     "output_type": "stream",
     "text": [
      "Here is the list of services supported by this submit agent:\n",
      "[\n",
      "    {\n",
      "        \"serviceName\": \"subnet\", \n",
      "        \"portNumber\": \"5557\"\n",
      "    }, \n",
      "    {\n",
      "        \"serviceName\": \"hello\", \n",
      "        \"portNumber\": \"5559\"\n",
      "    }, \n",
      "    {\n",
      "        \"serviceName\": \"kernel\", \n",
      "        \"portNumber\": \"5556\"\n",
      "    }\n",
      "]\n"
     ]
    }
   ],
   "source": [
    "# Check API Status\n",
    "res = requests.get(BASE + 'services')\n",
    "print(\"Here is the list of services supported by this submit agent:\")\n",
    "jprint(res.json())"
   ]
  },
  {
   "cell_type": "code",
   "execution_count": 3,
   "metadata": {
    "collapsed": false
   },
   "outputs": [
    {
     "name": "stdout",
     "output_type": "stream",
     "text": [
      "{\n",
      "    \"serviceName\": \"hello\", \n",
      "    \"description\": \"Sample service returning message.\", \n",
      "    \"parameters\": {\n",
      "        \"message\": {\n",
      "            \"required\": true, \n",
      "            \"type\": \"string\", \n",
      "            \"description\": \"Any string message to be returned.\"\n",
      "        }\n",
      "    }\n",
      "}\n"
     ]
    }
   ],
   "source": [
    "res = requests.get(BASE + 'services/hello')\n",
    "jprint(res.json())"
   ]
  },
  {
   "cell_type": "code",
   "execution_count": 10,
   "metadata": {
    "collapsed": false
   },
   "outputs": [
    {
     "name": "stdout",
     "output_type": "stream",
     "text": [
      "{\n",
      "    \"status\": \"queued\", \n",
      "    \"job_id\": \"aaa06900-829d-448a-8830-cb3ea909f872\"\n",
      "}\n"
     ]
    }
   ],
   "source": [
    "query = {\n",
    "    'message': \"This is a sample message sent from Notebook.\"\n",
    "}\n",
    "\n",
    "res = requests.post(BASE + 'services/hello', data=json.dumps(query), headers=HEADERS)\n",
    "job_id1 = res.json()['job_id']\n",
    "jprint(res.json())"
   ]
  },
  {
   "cell_type": "code",
   "execution_count": 33,
   "metadata": {
    "collapsed": false
   },
   "outputs": [
    {
     "name": "stdout",
     "output_type": "stream",
     "text": [
      "[\n",
      "    {\n",
      "        \"status\": \"finished\", \n",
      "        \"job_id\": \"f4601e1b-01c4-4d81-a254-877261dcf85d\"\n",
      "    }, \n",
      "    {\n",
      "        \"status\": \"finished\", \n",
      "        \"job_id\": \"874fe14e-a173-4dd1-a492-33f79184e294\"\n",
      "    }\n",
      "]\n"
     ]
    }
   ],
   "source": [
    "res = requests.get(BASE + 'queue')\n",
    "job_id1 = res.json()[0]['job_id']\n",
    "jprint(res.json())"
   ]
  },
  {
   "cell_type": "code",
   "execution_count": 29,
   "metadata": {
    "collapsed": false
   },
   "outputs": [
    {
     "name": "stdout",
     "output_type": "stream",
     "text": [
      "http://52.88.147.185/v1/queue/8e207935-f433-44da-822d-48fa52d92b82/result\n",
      "{\n",
      "    \"message\": \"Hello This is a sample message sent from Notebook.\"\n",
      "}\n"
     ]
    }
   ],
   "source": [
    "result_url = BASE + 'queue/' + job_id1 + '/result'\n",
    "print(result_url)\n",
    "res = requests.get(result_url)\n",
    "jprint(res.json())"
   ]
  },
  {
   "cell_type": "code",
   "execution_count": 34,
   "metadata": {
    "collapsed": false
   },
   "outputs": [
    {
     "name": "stdout",
     "output_type": "stream",
     "text": [
      "{\n",
      "    \"status\": \"deleted\", \n",
      "    \"job_id\": \"f4601e1b-01c4-4d81-a254-877261dcf85d\"\n",
      "}\n"
     ]
    }
   ],
   "source": [
    "# Deletion\n",
    "res = requests.delete(BASE + 'queue/' + job_id1)\n",
    "jprint(res.json())\n"
   ]
  },
  {
   "cell_type": "code",
   "execution_count": 35,
   "metadata": {
    "collapsed": false
   },
   "outputs": [
    {
     "name": "stdout",
     "output_type": "stream",
     "text": [
      "[\n",
      "    {\n",
      "        \"status\": \"finished\", \n",
      "        \"job_id\": \"874fe14e-a173-4dd1-a492-33f79184e294\"\n",
      "    }\n",
      "]\n"
     ]
    }
   ],
   "source": [
    "res = requests.get(BASE + 'queue')\n",
    "jprint(res.json())"
   ]
  }
 ],
 "metadata": {
  "kernelspec": {
   "display_name": "Python 2",
   "language": "python",
   "name": "python2"
  },
  "language_info": {
   "codemirror_mode": {
    "name": "ipython",
    "version": 2
   },
   "file_extension": ".py",
   "mimetype": "text/x-python",
   "name": "python",
   "nbconvert_exporter": "python",
   "pygments_lexer": "ipython2",
   "version": "2.7.10"
  }
 },
 "nbformat": 4,
 "nbformat_minor": 0
}
