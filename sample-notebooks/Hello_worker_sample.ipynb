{
 "cells": [
  {
   "cell_type": "markdown",
   "metadata": {},
   "source": [
    "# Introduction to CI Template\n",
    "\n",
    "## Basic Setup"
   ]
  },
  {
   "cell_type": "code",
   "execution_count": 6,
   "metadata": {
    "collapsed": false
   },
   "outputs": [],
   "source": [
    "IP = '52.88.147.185'\n",
    "BASE = 'http://' + IP + '/v1/'  # You need to change this to your service server\n",
    "\n",
    "import requests\n",
    "import json\n",
    "from ciworker.base_worker import BaseWorker\n",
    "\n",
    "def jprint(data):\n",
    "    print(json.dumps(data, indent=4))\n",
    "\n",
    "# Change this to  your Docker container's IP\n",
    "HEADERS = {'Content-Type': 'application/json'}"
   ]
  },
  {
   "cell_type": "code",
   "execution_count": 7,
   "metadata": {
    "collapsed": false
   },
   "outputs": [
    {
     "name": "stdout",
     "output_type": "stream",
     "text": [
      "[\n",
      "    {\n",
      "        \"serviceName\": \"kernel\", \n",
      "        \"portNumber\": \"5556\", \n",
      "        \"description\": \"Kernel generator service.\", \n",
      "        \"parameters\": {\n",
      "            \"network_url\": {\n",
      "                \"required\": true, \n",
      "                \"type\": \"string\", \n",
      "                \"description\": \"URL of the source SIF network file.\"\n",
      "            }\n",
      "        }\n",
      "    }, \n",
      "    {\n",
      "        \"serviceName\": \"hello\", \n",
      "        \"portNumber\": \"5559\", \n",
      "        \"description\": \"Sample service returning message.\", \n",
      "        \"parameters\": {\n",
      "            \"message\": {\n",
      "                \"required\": true, \n",
      "                \"type\": \"string\", \n",
      "                \"description\": \"Any string message to be returned.\"\n",
      "            }\n",
      "        }\n",
      "    }, \n",
      "    {\n",
      "        \"serviceName\": \"subnet\", \n",
      "        \"portNumber\": \"5557\", \n",
      "        \"description\": \"Heat diffusion sub network finder service.\", \n",
      "        \"parameters\": {\n",
      "            \"query\": {\n",
      "                \"required\": true, \n",
      "                \"type\": \"array\", \n",
      "                \"description\": \"Array of gene names to be used for sub network search.\"\n",
      "            }, \n",
      "            \"kernel_url\": {\n",
      "                \"required\": true, \n",
      "                \"type\": \"string\", \n",
      "                \"description\": \"URL of the pre-computed kernel file.\"\n",
      "            }, \n",
      "            \"network_url\": {\n",
      "                \"required\": true, \n",
      "                \"type\": \"string\", \n",
      "                \"description\": \"URL of the SIF network file for the kernel.\"\n",
      "            }\n",
      "        }\n",
      "    }\n",
      "]\n"
     ]
    }
   ],
   "source": [
    "# Check API Status\n",
    "res = requests.get(BASE + 'services')\n",
    "jprint(res.json())"
   ]
  },
  {
   "cell_type": "code",
   "execution_count": 8,
   "metadata": {
    "collapsed": false
   },
   "outputs": [
    {
     "name": "stdout",
     "output_type": "stream",
     "text": [
      "{\n",
      "    \"serviceName\": \"hello\", \n",
      "    \"portNumber\": \"5559\", \n",
      "    \"description\": \"Sample service returning message.\", \n",
      "    \"parameters\": {\n",
      "        \"message\": {\n",
      "            \"required\": true, \n",
      "            \"type\": \"string\", \n",
      "            \"description\": \"Any string message to be returned.\"\n",
      "        }\n",
      "    }\n",
      "}\n"
     ]
    }
   ],
   "source": [
    "res = requests.get(BASE + 'services/hello')\n",
    "jprint(res.json())"
   ]
  },
  {
   "cell_type": "code",
   "execution_count": 12,
   "metadata": {
    "collapsed": false
   },
   "outputs": [
    {
     "name": "stdout",
     "output_type": "stream",
     "text": [
      "{\n",
      "    \"status\": \"queued\", \n",
      "    \"job_id\": \"f79a2b34-58da-4816-9f82-ff57bc142699\"\n",
      "}\n"
     ]
    }
   ],
   "source": [
    "query = {\n",
    "    'message': \"This is a sample message sent from Notebook.\"\n",
    "}\n",
    "\n",
    "res = requests.post(BASE + 'services/hello', data=json.dumps(query), headers=HEADERS)\n",
    "job_id1 = res.json()['job_id']\n",
    "jprint(res.json())"
   ]
  },
  {
   "cell_type": "code",
   "execution_count": 14,
   "metadata": {
    "collapsed": false
   },
   "outputs": [
    {
     "name": "stdout",
     "output_type": "stream",
     "text": [
      "[\n",
      "    {\n",
      "        \"status\": \"finished\", \n",
      "        \"job_id\": \"778daed6-462f-4a1c-9b0c-69d6152179b1\"\n",
      "    }, \n",
      "    {\n",
      "        \"status\": \"finished\", \n",
      "        \"job_id\": \"07a64cf8-ad2b-4c7a-b05e-7eb6627b9cf7\"\n",
      "    }, \n",
      "    {\n",
      "        \"status\": \"running\", \n",
      "        \"job_id\": \"f79a2b34-58da-4816-9f82-ff57bc142699\"\n",
      "    }, \n",
      "    {\n",
      "        \"status\": \"finished\", \n",
      "        \"job_id\": \"130fbef9-f10c-491c-b618-ae86051ef45f\"\n",
      "    }\n",
      "]\n"
     ]
    }
   ],
   "source": [
    "res = requests.get(BASE + 'queue')\n",
    "job_id1 = res.json()[0]['job_id']\n",
    "jprint(res.json())"
   ]
  },
  {
   "cell_type": "code",
   "execution_count": 15,
   "metadata": {
    "collapsed": false
   },
   "outputs": [
    {
     "name": "stdout",
     "output_type": "stream",
     "text": [
      "http://52.88.147.185/v1/queue/778daed6-462f-4a1c-9b0c-69d6152179b1/result\n",
      "{\n",
      "    \"message\": \"Hello This is a sample message sent from Notebook.\"\n",
      "}\n"
     ]
    }
   ],
   "source": [
    "result_url = BASE + 'queue/' + job_id1 + '/result'\n",
    "print(result_url)\n",
    "res = requests.get(result_url)\n",
    "jprint(res.json())"
   ]
  },
  {
   "cell_type": "code",
   "execution_count": 16,
   "metadata": {
    "collapsed": false
   },
   "outputs": [
    {
     "name": "stdout",
     "output_type": "stream",
     "text": [
      "{\n",
      "    \"status\": \"deleted\", \n",
      "    \"job_id\": \"778daed6-462f-4a1c-9b0c-69d6152179b1\"\n",
      "}\n"
     ]
    }
   ],
   "source": [
    "# Deletion\n",
    "res = requests.delete(BASE + 'queue/' + job_id1)\n",
    "jprint(res.json())\n"
   ]
  },
  {
   "cell_type": "code",
   "execution_count": 19,
   "metadata": {
    "collapsed": false
   },
   "outputs": [
    {
     "name": "stdout",
     "output_type": "stream",
     "text": [
      "[]\n"
     ]
    }
   ],
   "source": [
    "res = requests.get(BASE + 'queue')\n",
    "jprint(res.json())"
   ]
  },
  {
   "cell_type": "code",
   "execution_count": 18,
   "metadata": {
    "collapsed": false
   },
   "outputs": [
    {
     "name": "stdout",
     "output_type": "stream",
     "text": [
      "{\n",
      "    \"deletedJobs\": [\n",
      "        \"07a64cf8-ad2b-4c7a-b05e-7eb6627b9cf7\", \n",
      "        \"f79a2b34-58da-4816-9f82-ff57bc142699\", \n",
      "        \"130fbef9-f10c-491c-b618-ae86051ef45f\"\n",
      "    ]\n",
      "}\n"
     ]
    }
   ],
   "source": [
    "# Delete All jobs and results\n",
    "res = requests.delete(BASE + 'queue')\n",
    "jprint(res.json())"
   ]
  }
 ],
 "metadata": {
  "kernelspec": {
   "display_name": "Python 2",
   "language": "python",
   "name": "python2"
  },
  "language_info": {
   "codemirror_mode": {
    "name": "ipython",
    "version": 2
   },
   "file_extension": ".py",
   "mimetype": "text/x-python",
   "name": "python",
   "nbconvert_exporter": "python",
   "pygments_lexer": "ipython2",
   "version": "2.7.10"
  }
 },
 "nbformat": 4,
 "nbformat_minor": 0
}
