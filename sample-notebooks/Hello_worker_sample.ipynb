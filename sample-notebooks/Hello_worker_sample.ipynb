{
 "cells": [
  {
   "cell_type": "markdown",
   "metadata": {},
   "source": [
    "# Introduction to CI Template\n",
    "\n",
    "## Basic Setup\n",
    "\n",
    "You need to change __IP__ variable to point to your Docker host."
   ]
  },
  {
   "cell_type": "code",
   "execution_count": 116,
   "metadata": {
    "collapsed": false
   },
   "outputs": [],
   "source": [
    "IP = '192.168.99.100'\n",
    "BASE = 'http://' + IP + '/v1/'  # You need to change this to your service server\n",
    "\n",
    "import requests\n",
    "import json\n",
    "\n",
    "def jprint(data):\n",
    "    print(json.dumps(data, indent=4))\n",
    "\n",
    "# Change this to  your Docker container's IP\n",
    "HEADERS = {'Content-Type': 'application/json'}"
   ]
  },
  {
   "cell_type": "code",
   "execution_count": 117,
   "metadata": {
    "collapsed": false
   },
   "outputs": [
    {
     "name": "stdout",
     "output_type": "stream",
     "text": [
      "http://192.168.99.100/v1/services\n",
      "[\n",
      "    {\n",
      "        \"portNumber\": \"5556\",\n",
      "        \"parameters\": {\n",
      "            \"network_url\": {\n",
      "                \"description\": \"URL of the source SIF network file.\",\n",
      "                \"required\": true,\n",
      "                \"type\": \"string\"\n",
      "            }\n",
      "        },\n",
      "        \"description\": \"Kernel generator service.\",\n",
      "        \"serviceName\": \"kernel\"\n",
      "    },\n",
      "    {\n",
      "        \"portNumber\": \"5548\",\n",
      "        \"parameters\": [\n",
      "            {\n",
      "                \"description\": \"arg\",\n",
      "                \"required\": true,\n",
      "                \"name\": \"arg\",\n",
      "                \"type\": \"string\"\n",
      "            }\n",
      "        ],\n",
      "        \"description\": \"Shell script worker example\",\n",
      "        \"serviceName\": \"shell\"\n",
      "    },\n",
      "    {\n",
      "        \"portNumber\": \"5557\",\n",
      "        \"parameters\": {\n",
      "            \"kernel_url\": {\n",
      "                \"description\": \"URL of the pre-computed kernel file.\",\n",
      "                \"required\": true,\n",
      "                \"type\": \"string\"\n",
      "            },\n",
      "            \"network_url\": {\n",
      "                \"description\": \"URL of the SIF network file for the kernel.\",\n",
      "                \"required\": true,\n",
      "                \"type\": \"string\"\n",
      "            },\n",
      "            \"query\": {\n",
      "                \"description\": \"Array of gene names to be used for sub network search.\",\n",
      "                \"required\": true,\n",
      "                \"type\": \"array\"\n",
      "            }\n",
      "        },\n",
      "        \"description\": \"Heat diffusion sub network finder service.\",\n",
      "        \"serviceName\": \"subnet\"\n",
      "    },\n",
      "    {\n",
      "        \"portNumber\": \"5561\",\n",
      "        \"parameters\": [\n",
      "            {\n",
      "                \"description\": \"Input file location\",\n",
      "                \"required\": true,\n",
      "                \"name\": \"inputFile\",\n",
      "                \"type\": \"string\"\n",
      "            }\n",
      "        ],\n",
      "        \"description\": \"NBS worker sample\",\n",
      "        \"serviceName\": \"nbs\"\n",
      "    },\n",
      "    {\n",
      "        \"portNumber\": \"5559\",\n",
      "        \"parameters\": [\n",
      "            {\n",
      "                \"description\": \"Any string message to be returned.\",\n",
      "                \"required\": true,\n",
      "                \"name\": \"message\",\n",
      "                \"type\": \"string\"\n",
      "            }\n",
      "        ],\n",
      "        \"description\": \"Sample Python worker to display greeting message\",\n",
      "        \"serviceName\": \"hello-python\"\n",
      "    },\n",
      "    {\n",
      "        \"portNumber\": \"5549\",\n",
      "        \"parameters\": [\n",
      "            {\n",
      "                \"description\": \"Unique network ID in NDEx\",\n",
      "                \"required\": true,\n",
      "                \"name\": \"network_id\",\n",
      "                \"type\": \"string\"\n",
      "            }\n",
      "        ],\n",
      "        \"description\": \"Sample Python worker to process network from NDEx\",\n",
      "        \"serviceName\": \"ndex\"\n",
      "    },\n",
      "    {\n",
      "        \"portNumber\": \"5560\",\n",
      "        \"parameters\": [\n",
      "            {\n",
      "                \"description\": \"Greeting message\",\n",
      "                \"required\": true,\n",
      "                \"name\": \"message\",\n",
      "                \"type\": \"string\"\n",
      "            }\n",
      "        ],\n",
      "        \"description\": \"Sample Java worker to display greeting message\",\n",
      "        \"serviceName\": \"hello-java\"\n",
      "    }\n",
      "]\n"
     ]
    }
   ],
   "source": [
    "# Show list of available services:\n",
    "\n",
    "services_url = BASE + 'services'\n",
    "print(services_url)\n",
    "\n",
    "res = requests.get(services_url)\n",
    "jprint(res.json())"
   ]
  },
  {
   "cell_type": "code",
   "execution_count": 118,
   "metadata": {
    "collapsed": false
   },
   "outputs": [
    {
     "name": "stdout",
     "output_type": "stream",
     "text": [
      "{\n",
      "    \"portNumber\": \"5559\",\n",
      "    \"parameters\": [\n",
      "        {\n",
      "            \"description\": \"Any string message to be returned.\",\n",
      "            \"required\": true,\n",
      "            \"name\": \"message\",\n",
      "            \"type\": \"string\"\n",
      "        }\n",
      "    ],\n",
      "    \"description\": \"Sample Python worker to display greeting message\",\n",
      "    \"serviceName\": \"hello-python\"\n",
      "}\n"
     ]
    }
   ],
   "source": [
    "res = requests.get(BASE + 'services/hello-python')\n",
    "jprint(res.json())"
   ]
  },
  {
   "cell_type": "code",
   "execution_count": 120,
   "metadata": {
    "collapsed": false
   },
   "outputs": [
    {
     "name": "stdout",
     "output_type": "stream",
     "text": [
      "{\n",
      "    \"job_id\": \"2805b81a-ef07-4889-b121-abc054a9851a\",\n",
      "    \"status\": \"queued\"\n",
      "}\n"
     ]
    }
   ],
   "source": [
    "query = {\n",
    "    'message': \"sample message 1\"\n",
    "}\n",
    "\n",
    "res = requests.post(BASE + 'services/hello-python', data=json.dumps(query), headers=HEADERS)\n",
    "\n",
    "jprint(res.json())"
   ]
  },
  {
   "cell_type": "code",
   "execution_count": 121,
   "metadata": {
    "collapsed": false
   },
   "outputs": [
    {
     "name": "stdout",
     "output_type": "stream",
     "text": [
      "{\n",
      "    \"job_id\": \"60384030-e43d-498a-b152-f94c07f28e56\",\n",
      "    \"status\": \"queued\"\n",
      "}\n"
     ]
    }
   ],
   "source": [
    "query = {\n",
    "    # MAPK Signaling Pathway network\n",
    "    'network_id': '99bea41b-6194-11e5-8ac5-06603eb7f303'\n",
    "}\n",
    "\n",
    "res = requests.post(BASE + 'services/ndex', data=json.dumps(query), headers=HEADERS)\n",
    "\n",
    "jprint(res.json())"
   ]
  },
  {
   "cell_type": "code",
   "execution_count": 122,
   "metadata": {
    "collapsed": false
   },
   "outputs": [
    {
     "name": "stdout",
     "output_type": "stream",
     "text": [
      "{\n",
      "    \"job_id\": \"f90951a1-c24c-4b6c-856e-da4503f4bd43\",\n",
      "    \"status\": \"queued\"\n",
      "}\n"
     ]
    }
   ],
   "source": [
    "query = {\n",
    "    'gene_id': 'brca1_human'\n",
    "}\n",
    "\n",
    "res = requests.post(BASE + 'services/shell', data=json.dumps(query), headers=HEADERS)\n",
    "\n",
    "jprint(res.json())"
   ]
  },
  {
   "cell_type": "code",
   "execution_count": 123,
   "metadata": {
    "collapsed": false
   },
   "outputs": [
    {
     "name": "stdout",
     "output_type": "stream",
     "text": [
      "[\n",
      "    {\n",
      "        \"job_id\": \"a5b25a5f-7c64-4df7-9d6d-8ff5baeadcbf\",\n",
      "        \"status\": \"finished\"\n",
      "    },\n",
      "    {\n",
      "        \"job_id\": \"f12142a3-bbc6-418a-8f1b-19c4e238a3a3\",\n",
      "        \"status\": \"finished\"\n",
      "    },\n",
      "    {\n",
      "        \"job_id\": \"6ef309d7-9ea8-43be-807d-a1052015dc06\",\n",
      "        \"status\": \"finished\"\n",
      "    },\n",
      "    {\n",
      "        \"job_id\": \"60384030-e43d-498a-b152-f94c07f28e56\",\n",
      "        \"status\": \"finished\"\n",
      "    },\n",
      "    {\n",
      "        \"job_id\": \"eeba02b3-8025-4b84-9fe1-9466f8d40d37\",\n",
      "        \"status\": \"finished\"\n",
      "    },\n",
      "    {\n",
      "        \"job_id\": \"2805b81a-ef07-4889-b121-abc054a9851a\",\n",
      "        \"status\": \"finished\"\n",
      "    },\n",
      "    {\n",
      "        \"job_id\": \"f90951a1-c24c-4b6c-856e-da4503f4bd43\",\n",
      "        \"status\": \"finished\"\n",
      "    },\n",
      "    {\n",
      "        \"job_id\": \"d37ced5c-2216-400d-82b1-60e446ccbf43\",\n",
      "        \"status\": \"finished\"\n",
      "    },\n",
      "    {\n",
      "        \"job_id\": \"5f09b9da-6c80-4c2f-961d-d730e78f17b1\",\n",
      "        \"status\": \"finished\"\n",
      "    },\n",
      "    {\n",
      "        \"job_id\": \"900ec65d-15e5-466f-9c33-5d9d861a77a3\",\n",
      "        \"status\": \"finished\"\n",
      "    },\n",
      "    {\n",
      "        \"job_id\": \"5725be45-1819-4632-9526-b53a7135c9aa\",\n",
      "        \"status\": \"finished\"\n",
      "    },\n",
      "    {\n",
      "        \"job_id\": \"5cfd4ce7-9dbc-4f69-b354-1be73c7e1c8d\",\n",
      "        \"status\": \"finished\"\n",
      "    },\n",
      "    {\n",
      "        \"job_id\": \"d4a419ea-9555-4b13-abf2-113c777b629e\",\n",
      "        \"status\": \"finished\"\n",
      "    },\n",
      "    {\n",
      "        \"job_id\": \"e09daf77-2e98-4f55-a741-d3b571c3a75f\",\n",
      "        \"status\": \"finished\"\n",
      "    }\n",
      "]\n"
     ]
    }
   ],
   "source": [
    "res = requests.get(BASE + 'queue')\n",
    "job_id1 = res.json()[0]['job_id']\n",
    "jprint(res.json())"
   ]
  },
  {
   "cell_type": "code",
   "execution_count": 124,
   "metadata": {
    "collapsed": false
   },
   "outputs": [
    {
     "name": "stdout",
     "output_type": "stream",
     "text": [
      "http://192.168.99.100/v1/queue/a5b25a5f-7c64-4df7-9d6d-8ff5baeadcbf/result\n"
     ]
    }
   ],
   "source": [
    "result_url = BASE + 'queue/' + job_id1 + '/result'\n",
    "print(result_url)\n",
    "res = requests.get(result_url)\n",
    "result_str = res.json()\n",
    "\n",
    "# jprint(result_str)"
   ]
  },
  {
   "cell_type": "code",
   "execution_count": 108,
   "metadata": {
    "collapsed": false
   },
   "outputs": [
    {
     "name": "stdout",
     "output_type": "stream",
     "text": [
      "{\n",
      "    \"job_id\": \"f93a36f2-b8ce-48a6-80eb-7b085d56934c\",\n",
      "    \"status\": \"deleted\"\n",
      "}\n"
     ]
    }
   ],
   "source": [
    "# Deletion\n",
    "res = requests.delete(BASE + 'queue/' + job_id1)\n",
    "jprint(res.json())\n"
   ]
  },
  {
   "cell_type": "code",
   "execution_count": 111,
   "metadata": {
    "collapsed": false
   },
   "outputs": [
    {
     "name": "stdout",
     "output_type": "stream",
     "text": [
      "[]\n"
     ]
    }
   ],
   "source": [
    "res = requests.get(BASE + 'queue')\n",
    "jprint(res.json())"
   ]
  },
  {
   "cell_type": "code",
   "execution_count": 110,
   "metadata": {
    "collapsed": false
   },
   "outputs": [
    {
     "name": "stdout",
     "output_type": "stream",
     "text": [
      "{\n",
      "    \"deletedJobs\": [\n",
      "        \"705f291b-5e6e-4135-abf9-2adcd37c95e7\",\n",
      "        \"29e8f2e6-2711-4fd3-9873-12dfb53d3b15\",\n",
      "        \"d1f168bc-8b4c-4c59-98ce-43f01415067c\",\n",
      "        \"db6b146d-30d8-447d-afaf-aae2efdda9bd\",\n",
      "        \"1d3f9a2a-752b-4a21-b521-a34cad1436be\",\n",
      "        \"722b9783-945d-4d3e-a528-e47a0f81c781\",\n",
      "        \"cdea76ac-2a73-40f0-bac7-8f40df58ed59\",\n",
      "        \"8b836b9d-b8c1-4181-99d8-fca21a06ec3c\",\n",
      "        \"6a8abf2d-6704-4b7e-9ba9-410f195f2d29\",\n",
      "        \"7cd23266-2fc4-46c1-b503-cddcc8312ad5\"\n",
      "    ]\n",
      "}\n"
     ]
    }
   ],
   "source": [
    "# Delete All jobs and results\n",
    "res = requests.delete(BASE + 'queue')\n",
    "jprint(res.json())"
   ]
  }
 ],
 "metadata": {
  "kernelspec": {
   "display_name": "Python 3",
   "language": "python",
   "name": "python3"
  },
  "language_info": {
   "codemirror_mode": {
    "name": "ipython",
    "version": 3
   },
   "file_extension": ".py",
   "mimetype": "text/x-python",
   "name": "python",
   "nbconvert_exporter": "python",
   "pygments_lexer": "ipython3",
   "version": "3.4.3"
  }
 },
 "nbformat": 4,
 "nbformat_minor": 0
}
