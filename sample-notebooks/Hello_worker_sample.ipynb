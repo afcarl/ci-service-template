{
 "cells": [
  {
   "cell_type": "markdown",
   "metadata": {},
   "source": [
    "# Introduction to CI Template\n",
    "\n",
    "## Basic Setup\n",
    "\n",
    "You need to change __IP__ variable to point to your Docker host."
   ]
  },
  {
   "cell_type": "code",
   "execution_count": 81,
   "metadata": {
    "collapsed": false
   },
   "outputs": [],
   "source": [
    "IP = '192.168.99.100'\n",
    "BASE = 'http://' + IP + '/v1/'  # You need to change this to your service server\n",
    "\n",
    "import requests\n",
    "import json\n",
    "\n",
    "def jprint(data):\n",
    "    print(json.dumps(data, indent=4))\n",
    "\n",
    "# Change this to  your Docker container's IP\n",
    "HEADERS = {'Content-Type': 'application/json'}"
   ]
  },
  {
   "cell_type": "code",
   "execution_count": 82,
   "metadata": {
    "collapsed": false
   },
   "outputs": [
    {
     "name": "stdout",
     "output_type": "stream",
     "text": [
      "http://192.168.99.100/v1/services\n",
      "[\n",
      "    {\n",
      "        \"portNumber\": \"5561\",\n",
      "        \"description\": \"NBS worker sample\",\n",
      "        \"serviceName\": \"nbs\",\n",
      "        \"parameters\": [\n",
      "            {\n",
      "                \"type\": \"string\",\n",
      "                \"description\": \"Input file location\",\n",
      "                \"required\": true,\n",
      "                \"name\": \"inputFile\"\n",
      "            }\n",
      "        ]\n",
      "    },\n",
      "    {\n",
      "        \"portNumber\": \"5557\",\n",
      "        \"description\": \"Heat diffusion sub network finder service.\",\n",
      "        \"serviceName\": \"subnet\",\n",
      "        \"parameters\": {\n",
      "            \"query\": {\n",
      "                \"type\": \"array\",\n",
      "                \"description\": \"Array of gene names to be used for sub network search.\",\n",
      "                \"required\": true\n",
      "            },\n",
      "            \"kernel_url\": {\n",
      "                \"type\": \"string\",\n",
      "                \"description\": \"URL of the pre-computed kernel file.\",\n",
      "                \"required\": true\n",
      "            },\n",
      "            \"network_url\": {\n",
      "                \"type\": \"string\",\n",
      "                \"description\": \"URL of the SIF network file for the kernel.\",\n",
      "                \"required\": true\n",
      "            }\n",
      "        }\n",
      "    },\n",
      "    {\n",
      "        \"portNumber\": \"5560\",\n",
      "        \"description\": \"Sample Java worker to display greeting message\",\n",
      "        \"serviceName\": \"hello-java\",\n",
      "        \"parameters\": [\n",
      "            {\n",
      "                \"type\": \"string\",\n",
      "                \"description\": \"Greeting message\",\n",
      "                \"required\": true,\n",
      "                \"name\": \"message\"\n",
      "            }\n",
      "        ]\n",
      "    },\n",
      "    {\n",
      "        \"portNumber\": \"5559\",\n",
      "        \"description\": \"Sample service returning message.\",\n",
      "        \"serviceName\": \"hello\",\n",
      "        \"parameters\": {\n",
      "            \"message\": {\n",
      "                \"type\": \"string\",\n",
      "                \"description\": \"Any string message to be returned.\",\n",
      "                \"required\": true\n",
      "            }\n",
      "        }\n",
      "    },\n",
      "    {\n",
      "        \"portNumber\": \"5556\",\n",
      "        \"description\": \"Kernel generator service.\",\n",
      "        \"serviceName\": \"kernel\",\n",
      "        \"parameters\": {\n",
      "            \"network_url\": {\n",
      "                \"type\": \"string\",\n",
      "                \"description\": \"URL of the source SIF network file.\",\n",
      "                \"required\": true\n",
      "            }\n",
      "        }\n",
      "    }\n",
      "]\n"
     ]
    }
   ],
   "source": [
    "# Show list of available services:\n",
    "\n",
    "services_url = BASE + 'services'\n",
    "print(services_url)\n",
    "\n",
    "res = requests.get(services_url)\n",
    "jprint(res.json())"
   ]
  },
  {
   "cell_type": "code",
   "execution_count": 83,
   "metadata": {
    "collapsed": false
   },
   "outputs": [
    {
     "name": "stdout",
     "output_type": "stream",
     "text": [
      "{\n",
      "    \"portNumber\": \"5559\",\n",
      "    \"description\": \"Sample service returning message.\",\n",
      "    \"serviceName\": \"hello\",\n",
      "    \"parameters\": {\n",
      "        \"message\": {\n",
      "            \"type\": \"string\",\n",
      "            \"description\": \"Any string message to be returned.\",\n",
      "            \"required\": true\n",
      "        }\n",
      "    }\n",
      "}\n"
     ]
    }
   ],
   "source": [
    "res = requests.get(BASE + 'services/hello')\n",
    "jprint(res.json())"
   ]
  },
  {
   "cell_type": "code",
   "execution_count": 84,
   "metadata": {
    "collapsed": false
   },
   "outputs": [
    {
     "data": {
      "text/plain": [
       "<Response [202]>"
      ]
     },
     "execution_count": 84,
     "metadata": {},
     "output_type": "execute_result"
    }
   ],
   "source": [
    "query = {\n",
    "    'message': \"This is a sample message sent from Notebook.\"\n",
    "}\n",
    "\n",
    "requests.post(BASE + 'services/hello', data=json.dumps(query), headers=HEADERS)\n"
   ]
  },
  {
   "cell_type": "code",
   "execution_count": 85,
   "metadata": {
    "collapsed": false
   },
   "outputs": [
    {
     "name": "stdout",
     "output_type": "stream",
     "text": [
      "[\n",
      "    {\n",
      "        \"status\": \"finished\",\n",
      "        \"job_id\": \"460a2553-5916-462a-ae07-603effd124b1\"\n",
      "    }\n",
      "]\n"
     ]
    }
   ],
   "source": [
    "res = requests.get(BASE + 'queue')\n",
    "job_id1 = res.json()[0]['job_id']\n",
    "jprint(res.json())"
   ]
  },
  {
   "cell_type": "code",
   "execution_count": 11,
   "metadata": {
    "collapsed": false
   },
   "outputs": [
    {
     "name": "stdout",
     "output_type": "stream",
     "text": [
      "http://192.168.99.100/v1/queue/5a2959cf-d612-46a0-97c9-7e001d25c0bb/result\n",
      "{\n",
      "    \"message\": \"Hello This is a sample message sent from Notebook.\"\n",
      "}\n"
     ]
    }
   ],
   "source": [
    "result_url = BASE + 'queue/' + job_id1 + '/result'\n",
    "print(result_url)\n",
    "res = requests.get(result_url)\n",
    "jprint(res.json())"
   ]
  },
  {
   "cell_type": "code",
   "execution_count": 57,
   "metadata": {
    "collapsed": false
   },
   "outputs": [
    {
     "name": "stdout",
     "output_type": "stream",
     "text": [
      "{\n",
      "    \"status\": \"deleted\",\n",
      "    \"job_id\": \"5d4feee2-023d-4d87-9eb6-bdae5bf836a2\"\n",
      "}\n"
     ]
    }
   ],
   "source": [
    "# Deletion\n",
    "res = requests.delete(BASE + 'queue/' + job_id1)\n",
    "jprint(res.json())\n"
   ]
  },
  {
   "cell_type": "code",
   "execution_count": 66,
   "metadata": {
    "collapsed": false
   },
   "outputs": [
    {
     "name": "stdout",
     "output_type": "stream",
     "text": [
      "[]\n"
     ]
    }
   ],
   "source": [
    "res = requests.get(BASE + 'queue')\n",
    "jprint(res.json())"
   ]
  },
  {
   "cell_type": "code",
   "execution_count": 69,
   "metadata": {
    "collapsed": false
   },
   "outputs": [
    {
     "name": "stdout",
     "output_type": "stream",
     "text": [
      "{\n",
      "    \"deletedJobs\": [\n",
      "        \"b713e9d1-9198-4726-860b-0e11dfbfd92f\",\n",
      "        \"c1153618-ab0e-4a50-b192-55e09ac9e4a1\",\n",
      "        \"77fc10f0-ce22-4aa3-92e8-05615fced77f\",\n",
      "        \"391fbb2e-2127-46d1-9fe6-4de073c09e60\",\n",
      "        \"a5518ca6-8596-4e1f-8184-025634353ddd\",\n",
      "        \"41c53672-9ca0-4ee2-b82a-9bbda7d8b9a3\",\n",
      "        \"6befefc4-5f20-45d3-8d05-9b9bd1473843\",\n",
      "        \"ad75a4d7-d928-4de2-88e5-f5027a3cdb5f\",\n",
      "        \"c6d010c1-543e-4be8-a23e-14c130b52216\",\n",
      "        \"b2f3f1b2-c615-4212-9137-0b3e8a259781\",\n",
      "        \"b4e25051-dbd0-41f5-8bf3-f54c4ee04291\",\n",
      "        \"230940da-3278-43ce-a298-b29c345b384e\",\n",
      "        \"acbe4086-1756-4bbf-92e9-c380549b5ae3\",\n",
      "        \"573a055d-3ec2-4d42-b268-e265327ba47c\",\n",
      "        \"f33984ff-7bb1-4df4-a282-29e0d31c8952\",\n",
      "        \"ec6eabb5-5c0f-49a4-9af7-1522fea32a40\",\n",
      "        \"5b06820a-fa5f-4e1c-9d9c-c46f102b6de2\",\n",
      "        \"9a7db415-84a8-4a6c-86f6-8edce4998028\",\n",
      "        \"a514969f-87fd-4029-a56a-0e3b7186fd9e\",\n",
      "        \"c7a92b44-4389-4833-8d1b-c5fbc8528f6b\"\n",
      "    ]\n",
      "}\n"
     ]
    }
   ],
   "source": [
    "# Delete All jobs and results\n",
    "res = requests.delete(BASE + 'queue')\n",
    "jprint(res.json())"
   ]
  }
 ],
 "metadata": {
  "kernelspec": {
   "display_name": "Python 3",
   "language": "python",
   "name": "python3"
  },
  "language_info": {
   "codemirror_mode": {
    "name": "ipython",
    "version": 3
   },
   "file_extension": ".py",
   "mimetype": "text/x-python",
   "name": "python",
   "nbconvert_exporter": "python",
   "pygments_lexer": "ipython3",
   "version": "3.4.3"
  }
 },
 "nbformat": 4,
 "nbformat_minor": 0
}
