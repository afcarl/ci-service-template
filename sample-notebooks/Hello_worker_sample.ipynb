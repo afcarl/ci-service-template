{
 "cells": [
  {
   "cell_type": "markdown",
   "metadata": {},
   "source": [
    "# Introduction to CI Template\n",
    "\n",
    "## Basic Setup"
   ]
  },
  {
   "cell_type": "code",
   "execution_count": 20,
   "metadata": {
    "collapsed": false
   },
   "outputs": [],
   "source": [
    "IP = '52.88.147.185'\n",
    "BASE = 'http://' + IP + '/v1/'  # You need to change this to your service server\n",
    "\n",
    "import requests\n",
    "import json\n",
    "from ciworker.base_worker import BaseWorker\n",
    "\n",
    "def jprint(data):\n",
    "    print(json.dumps(data, indent=4))\n",
    "\n",
    "# Change this to  your Docker container's IP\n",
    "HEADERS = {'Content-Type': 'application/json'}"
   ]
  },
  {
   "cell_type": "code",
   "execution_count": 27,
   "metadata": {
    "collapsed": false
   },
   "outputs": [
    {
     "name": "stdout",
     "output_type": "stream",
     "text": [
      "[\n",
      "    {\n",
      "        \"serviceName\": \"subnet\", \n",
      "        \"portNumber\": \"5557\", \n",
      "        \"description\": \"Heat diffusion sub network finder service.\", \n",
      "        \"parameters\": {\n",
      "            \"query\": {\n",
      "                \"required\": true, \n",
      "                \"type\": \"array\", \n",
      "                \"description\": \"Array of gene names to be used for sub network search.\"\n",
      "            }, \n",
      "            \"kernel_url\": {\n",
      "                \"required\": true, \n",
      "                \"type\": \"string\", \n",
      "                \"description\": \"URL of the pre-computed kernel file.\"\n",
      "            }, \n",
      "            \"network_url\": {\n",
      "                \"required\": true, \n",
      "                \"type\": \"string\", \n",
      "                \"description\": \"URL of the SIF network file for the kernel.\"\n",
      "            }\n",
      "        }\n",
      "    }, \n",
      "    {\n",
      "        \"serviceName\": \"hello\", \n",
      "        \"portNumber\": \"5559\", \n",
      "        \"description\": \"Sample service returning message.\", \n",
      "        \"parameters\": {\n",
      "            \"message\": {\n",
      "                \"required\": true, \n",
      "                \"type\": \"string\", \n",
      "                \"description\": \"Any string message to be returned.\"\n",
      "            }\n",
      "        }\n",
      "    }, \n",
      "    {\n",
      "        \"serviceName\": \"kernel\", \n",
      "        \"portNumber\": \"5556\", \n",
      "        \"description\": \"Kernel generator service.\", \n",
      "        \"parameters\": {\n",
      "            \"network_url\": {\n",
      "                \"required\": true, \n",
      "                \"type\": \"string\", \n",
      "                \"description\": \"URL of the source SIF network file.\"\n",
      "            }\n",
      "        }\n",
      "    }\n",
      "]\n"
     ]
    }
   ],
   "source": [
    "# Check API Status\n",
    "res = requests.get(BASE + 'services')\n",
    "jprint(res.json())"
   ]
  },
  {
   "cell_type": "code",
   "execution_count": 28,
   "metadata": {
    "collapsed": false
   },
   "outputs": [
    {
     "name": "stdout",
     "output_type": "stream",
     "text": [
      "{\n",
      "    \"serviceName\": \"hello\", \n",
      "    \"portNumber\": \"5559\", \n",
      "    \"description\": \"Sample service returning message.\", \n",
      "    \"parameters\": {\n",
      "        \"message\": {\n",
      "            \"required\": true, \n",
      "            \"type\": \"string\", \n",
      "            \"description\": \"Any string message to be returned.\"\n",
      "        }\n",
      "    }\n",
      "}\n"
     ]
    }
   ],
   "source": [
    "res = requests.get(BASE + 'services/hello')\n",
    "jprint(res.json())"
   ]
  },
  {
   "cell_type": "code",
   "execution_count": 36,
   "metadata": {
    "collapsed": false
   },
   "outputs": [
    {
     "name": "stdout",
     "output_type": "stream",
     "text": [
      "{\n",
      "    \"status\": \"queued\", \n",
      "    \"job_id\": \"66531c5f-7f68-4aa6-8773-b94a2e97de34\"\n",
      "}\n"
     ]
    }
   ],
   "source": [
    "query = {\n",
    "    'message': \"This is a sample message sent from Notebook.\"\n",
    "}\n",
    "\n",
    "res = requests.post(BASE + 'services/hello', data=json.dumps(query), headers=HEADERS)\n",
    "job_id1 = res.json()['job_id']\n",
    "jprint(res.json())"
   ]
  },
  {
   "cell_type": "code",
   "execution_count": 38,
   "metadata": {
    "collapsed": false
   },
   "outputs": [
    {
     "name": "stdout",
     "output_type": "stream",
     "text": [
      "[\n",
      "    {\n",
      "        \"status\": \"finished\", \n",
      "        \"job_id\": \"efa8a81c-1061-4258-8236-5590eff09e91\"\n",
      "    }, \n",
      "    {\n",
      "        \"status\": \"finished\", \n",
      "        \"job_id\": \"eb79a1bf-095b-4238-ac22-8d074581d949\"\n",
      "    }, \n",
      "    {\n",
      "        \"status\": \"finished\", \n",
      "        \"job_id\": \"39cfa9c9-8396-4329-b769-9da434715c16\"\n",
      "    }, \n",
      "    {\n",
      "        \"status\": \"finished\", \n",
      "        \"job_id\": \"709349ad-847c-4c7d-b650-7945fe153014\"\n",
      "    }, \n",
      "    {\n",
      "        \"status\": \"finished\", \n",
      "        \"job_id\": \"66531c5f-7f68-4aa6-8773-b94a2e97de34\"\n",
      "    }, \n",
      "    {\n",
      "        \"status\": \"finished\", \n",
      "        \"job_id\": \"09761b7e-20ab-404d-badf-5b0fe8f07c9f\"\n",
      "    }, \n",
      "    {\n",
      "        \"status\": \"finished\", \n",
      "        \"job_id\": \"f5b83e1a-a13b-497f-bee3-4ac2a5e226c8\"\n",
      "    }, \n",
      "    {\n",
      "        \"status\": \"running\", \n",
      "        \"job_id\": \"cbabe60b-4593-4fba-afd9-895431ec4233\"\n",
      "    }\n",
      "]\n"
     ]
    }
   ],
   "source": [
    "res = requests.get(BASE + 'queue')\n",
    "job_id1 = res.json()[0]['job_id']\n",
    "jprint(res.json())"
   ]
  },
  {
   "cell_type": "code",
   "execution_count": 39,
   "metadata": {
    "collapsed": false
   },
   "outputs": [
    {
     "name": "stdout",
     "output_type": "stream",
     "text": [
      "http://52.88.147.185/v1/queue/efa8a81c-1061-4258-8236-5590eff09e91/result\n",
      "{\n",
      "    \"message\": \"Hello This is a sample message sent from Notebook.\"\n",
      "}\n"
     ]
    }
   ],
   "source": [
    "result_url = BASE + 'queue/' + job_id1 + '/result'\n",
    "print(result_url)\n",
    "res = requests.get(result_url)\n",
    "jprint(res.json())"
   ]
  },
  {
   "cell_type": "code",
   "execution_count": 40,
   "metadata": {
    "collapsed": false
   },
   "outputs": [
    {
     "name": "stdout",
     "output_type": "stream",
     "text": [
      "{\n",
      "    \"status\": \"deleted\", \n",
      "    \"job_id\": \"efa8a81c-1061-4258-8236-5590eff09e91\"\n",
      "}\n"
     ]
    }
   ],
   "source": [
    "# Deletion\n",
    "res = requests.delete(BASE + 'queue/' + job_id1)\n",
    "jprint(res.json())\n"
   ]
  },
  {
   "cell_type": "code",
   "execution_count": 43,
   "metadata": {
    "collapsed": false
   },
   "outputs": [
    {
     "name": "stdout",
     "output_type": "stream",
     "text": [
      "[]\n"
     ]
    }
   ],
   "source": [
    "res = requests.get(BASE + 'queue')\n",
    "jprint(res.json())"
   ]
  },
  {
   "cell_type": "code",
   "execution_count": 42,
   "metadata": {
    "collapsed": false
   },
   "outputs": [
    {
     "name": "stdout",
     "output_type": "stream",
     "text": [
      "{\n",
      "    \"deletedJobs\": [\n",
      "        \"eb79a1bf-095b-4238-ac22-8d074581d949\", \n",
      "        \"39cfa9c9-8396-4329-b769-9da434715c16\", \n",
      "        \"709349ad-847c-4c7d-b650-7945fe153014\", \n",
      "        \"66531c5f-7f68-4aa6-8773-b94a2e97de34\", \n",
      "        \"09761b7e-20ab-404d-badf-5b0fe8f07c9f\", \n",
      "        \"f5b83e1a-a13b-497f-bee3-4ac2a5e226c8\", \n",
      "        \"cbabe60b-4593-4fba-afd9-895431ec4233\"\n",
      "    ]\n",
      "}\n"
     ]
    }
   ],
   "source": [
    "# Delete All jobs and results\n",
    "res = requests.delete(BASE + 'queue')\n",
    "jprint(res.json())"
   ]
  }
 ],
 "metadata": {
  "kernelspec": {
   "display_name": "Python 2",
   "language": "python",
   "name": "python2"
  },
  "language_info": {
   "codemirror_mode": {
    "name": "ipython",
    "version": 2
   },
   "file_extension": ".py",
   "mimetype": "text/x-python",
   "name": "python",
   "nbconvert_exporter": "python",
   "pygments_lexer": "ipython2",
   "version": "2.7.10"
  }
 },
 "nbformat": 4,
 "nbformat_minor": 0
}
