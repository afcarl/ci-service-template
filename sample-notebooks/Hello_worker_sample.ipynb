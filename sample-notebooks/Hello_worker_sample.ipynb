{
 "cells": [
  {
   "cell_type": "markdown",
   "metadata": {},
   "source": [
    "# Introduction to CI Template\n",
    "\n",
    "## Basic Setup\n",
    "\n",
    "You need to change __IP__ variable to point to your Docker host."
   ]
  },
  {
   "cell_type": "code",
   "execution_count": 1,
   "metadata": {
    "collapsed": false
   },
   "outputs": [],
   "source": [
    "IP = '192.168.99.100'\n",
    "BASE = 'http://' + IP + '/v1/'  # You need to change this to your service server\n",
    "\n",
    "import requests\n",
    "import json\n",
    "\n",
    "def jprint(data):\n",
    "    print(json.dumps(data, indent=4))\n",
    "\n",
    "# Change this to  your Docker container's IP\n",
    "HEADERS = {'Content-Type': 'application/json'}"
   ]
  },
  {
   "cell_type": "code",
   "execution_count": 2,
   "metadata": {
    "collapsed": false
   },
   "outputs": [
    {
     "name": "stdout",
     "output_type": "stream",
     "text": [
      "http://192.168.99.100/v1/services\n",
      "[\n",
      "    {\n",
      "        \"serviceName\": \"ndex\", \n",
      "        \"portNumber\": \"5549\", \n",
      "        \"description\": \"Sample Python worker to process network from NDEx\", \n",
      "        \"parameters\": [\n",
      "            {\n",
      "                \"required\": true, \n",
      "                \"type\": \"string\", \n",
      "                \"name\": \"network_id\", \n",
      "                \"description\": \"Unique network ID in NDEx\"\n",
      "            }\n",
      "        ]\n",
      "    }, \n",
      "    {\n",
      "        \"serviceName\": \"shell\", \n",
      "        \"portNumber\": \"5548\", \n",
      "        \"description\": \"Shell script worker example\", \n",
      "        \"parameters\": [\n",
      "            {\n",
      "                \"required\": true, \n",
      "                \"type\": \"string\", \n",
      "                \"name\": \"arg\", \n",
      "                \"description\": \"arg\"\n",
      "            }\n",
      "        ]\n",
      "    }, \n",
      "    {\n",
      "        \"serviceName\": \"hello-python\", \n",
      "        \"portNumber\": \"5559\", \n",
      "        \"description\": \"Sample Python worker to display greeting message\", \n",
      "        \"parameters\": [\n",
      "            {\n",
      "                \"required\": true, \n",
      "                \"type\": \"string\", \n",
      "                \"name\": \"message\", \n",
      "                \"description\": \"Any string message to be returned.\"\n",
      "            }\n",
      "        ]\n",
      "    }\n",
      "]\n"
     ]
    }
   ],
   "source": [
    "# Show list of available services:\n",
    "\n",
    "services_url = BASE + 'services'\n",
    "print(services_url)\n",
    "\n",
    "res = requests.get(services_url)\n",
    "jprint(res.json())"
   ]
  },
  {
   "cell_type": "code",
   "execution_count": null,
   "metadata": {
    "collapsed": false
   },
   "outputs": [],
   "source": [
    "res = requests.get(BASE + 'services/hello-python')\n",
    "jprint(res.json())"
   ]
  },
  {
   "cell_type": "code",
   "execution_count": null,
   "metadata": {
    "collapsed": false
   },
   "outputs": [],
   "source": [
    "query = {\n",
    "    'message': \"日本語のメッセージのテスト.\"\n",
    "}\n",
    "\n",
    "for i in range(10):\n",
    "    res = requests.post(BASE + 'services/hello-python', data=json.dumps(query), headers=HEADERS)\n",
    "\n",
    "jprint(res.json())"
   ]
  },
  {
   "cell_type": "code",
   "execution_count": 8,
   "metadata": {
    "collapsed": false
   },
   "outputs": [
    {
     "name": "stdout",
     "output_type": "stream",
     "text": [
      "{\n",
      "    \"status\": \"queued\", \n",
      "    \"job_id\": \"54acab76-4588-48a1-bbcf-bea269766141\"\n",
      "}\n"
     ]
    }
   ],
   "source": [
    "query = {\n",
    "    # MAPK Signaling Pathway network\n",
    "    'network_id': '99bea41b-6194-11e5-8ac5-06603eb7f303'\n",
    "}\n",
    "\n",
    "for i in range(1):\n",
    "    res = requests.post(BASE + 'services/ndex', data=json.dumps(query), headers=HEADERS)\n",
    "\n",
    "jprint(res.json())"
   ]
  },
  {
   "cell_type": "code",
   "execution_count": 44,
   "metadata": {
    "collapsed": false
   },
   "outputs": [
    {
     "name": "stdout",
     "output_type": "stream",
     "text": [
      "{\n",
      "    \"status\": \"queued\", \n",
      "    \"job_id\": \"1fa31bfe-8fc4-473a-9768-d30e40f28fca\"\n",
      "}\n"
     ]
    }
   ],
   "source": [
    "query = {\n",
    "    'arg': \"shellarg\"\n",
    "}\n",
    "\n",
    "\n",
    "res = requests.post(BASE + 'services/shell', data=json.dumps(query), headers=HEADERS)\n",
    "\n",
    "jprint(res.json())"
   ]
  },
  {
   "cell_type": "code",
   "execution_count": 46,
   "metadata": {
    "collapsed": false
   },
   "outputs": [
    {
     "name": "stdout",
     "output_type": "stream",
     "text": [
      "[\n",
      "    {\n",
      "        \"status\": \"finished\", \n",
      "        \"job_id\": \"1fa31bfe-8fc4-473a-9768-d30e40f28fca\"\n",
      "    }\n",
      "]\n"
     ]
    }
   ],
   "source": [
    "res = requests.get(BASE + 'queue')\n",
    "job_id1 = res.json()[0]['job_id']\n",
    "jprint(res.json())"
   ]
  },
  {
   "cell_type": "code",
   "execution_count": 47,
   "metadata": {
    "collapsed": false
   },
   "outputs": [
    {
     "name": "stdout",
     "output_type": "stream",
     "text": [
      "http://192.168.99.100/v1/queue/1fa31bfe-8fc4-473a-9768-d30e40f28fca/result\n",
      "\"[\\\"b'Q9GZX5\\\\\\\\tP38398\\\\\\\\nP38398\\\\\\\\tQ9GZX5\\\\\\\\nP38398\\\\\\\\tQ9GZX5\\\\\\\\nQ7Z569\\\\\\\\tP38398\\\\\\\\nQ7Z569\\\\\\\\tP38398\\\\\\\\nP38398\\\\\\\\tP52292\\\\\\\\nP38398\\\\\\\\tQ7Z569\\\\\\\\nP52292\\\\\\\\tP38398\\\\\\\\nP52292\\\\\\\\tP38398\\\\\\\\nEBI-2694074\\\\\\\\tP38398\\\\\\\\nP16333\\\\\\\\tP38398\\\\\\\\nP62140\\\\\\\\tP38398\\\\\\\\nP38398\\\\\\\\tP62136\\\\\\\\nP62140\\\\\\\\tP38398\\\\\\\\nP36873\\\\\\\\tP38398\\\\\\\\nP38398\\\\\\\\tP62136\\\\\\\\nP62140\\\\\\\\tP38398\\\\\\\\nP36873\\\\\\\\tP38398\\\\\\\\nP38398\\\\\\\\tP27986\\\\\\\\nP16104\\\\\\\\tP38398\\\\\\\\nP38398\\\\\\\\tQ12888\\\\\\\\nP38398\\\\\\\\tO76064\\\\\\\\nP16104\\\\\\\\tP38398\\\\\\\\nO76064\\\\\\\\tP38398\\\\\\\\nQ14676\\\\\\\\tP38398\\\\\\\\nQ12888\\\\\\\\tP38398\\\\\\\\nP38398\\\\\\\\tQ6NZY4\\\\\\\\nP24864\\\\\\\\tP38398\\\\\\\\nO96017\\\\\\\\tP38398\\\\\\\\nQ6NZY4\\\\\\\\tP38398\\\\\\\\nQ9UBD5\\\\\\\\tP38398\\\\\\\\nP38398\\\\\\\\tP24864\\\\\\\\nP38398\\\\\\\\tQ6UWZ7\\\\\\\\nQ6UWZ7\\\\\\\\tP38398\\\\\\\\nP38398\\\\\\\\tQ6UWZ7\\\\\\\\nP38398\\\\\\\\tQ96RL1\\\\\\\\nQ6UWZ7\\\\\\\\tP38398\\\\\\\\nP38398\\\\\\\\tQ9BX63\\\\\\\\nP38398\\\\\\\\tQ96RL1\\\\\\\\nP38398\\\\\\\\tQ99708\\\\\\\\nQ6UWZ7\\\\\\\\tP38398\\\\\\\\nP38398\\\\\\\\tQ6UWZ7\\\\\\\\nQ96RL1\\\\\\\\tP38398\\\\\\\\nP38398\\\\\\\\tQ6UWZ7\\\\\\\\nQ6UWZ7\\\\\\\\tP38398\\\\\\\\nQ9BX63\\\\\\\\tP38398\\\\\\\\nQ99708\\\\\\\\tP38398\\\\\\\\nP38398\\\\\\\\tQ9BX63\\\\\\\\nP38398\\\\\\\\tQ6UWZ7\\\\\\\\nP38398\\\\\\\\tQ99708\\\\\\\\nP38398\\\\\\\\tQ96RL1\\\\\\\\nQ96RL1\\\\\\\\tP38398\\\\\\\\nP38398\\\\\\\\tQ96RL1\\\\\\\\nQ96RL1\\\\\\\\tP38398\\\\\\\\nQ96RL1\\\\\\\\tP38398\\\\\\\\nQ96RL1\\\\\\\\tP38398\\\\\\\\nP38398\\\\\\\\tQ6UWZ7\\\\\\\\nP38398\\\\\\\\tP24385\\\\\\\\nP38398\\\\\\\\tP24385\\\\\\\\nP38398\\\\\\\\tP24385\\\\\\\\nQ13085\\\\\\\\tP38398\\\\\\\\nQ13085\\\\\\\\tP38398\\\\\\\\nP38398\\\\\\\\tQ9Y4A5\\\\\\\\nP38398\\\\\\\\tQ92830\\\\\\\\nP38398\\\\\\\\tP43246\\\\\\\\nP38398\\\\\\\\tP52701\\\\\\\\nP38398\\\\\\\\tQ92830\\\\\\\\nP38398\\\\\\\\tQ9Y4A5\\\\\\\\nP38398\\\\\\\\tQ92878\\\\\\\\nP38398\\\\\\\\tP43246\\\\\\\\nP38398\\\\\\\\tQ92830\\\\\\\\nP38398\\\\\\\\tQ9Y4A5\\\\\\\\nQ92830\\\\\\\\tP38398\\\\\\\\nP38398\\\\\\\\tQ9Y4A5\\\\\\\\nQ9Y4A5\\\\\\\\tP38398\\\\\\\\nP38398\\\\\\\\tQ9Y4A5\\\\\\\\nP38398\\\\\\\\tQ92830\\\\\\\\nP38398\\\\\\\\tQ92830\\\\\\\\nP38398\\\\\\\\tP43246\\\\\\\\nP38398\\\\\\\\tP52701\\\\\\\\nP38398\\\\\\\\tQ9Y4A5\\\\\\\\nP38398\\\\\\\\tQ92830\\\\\\\\nP38398\\\\\\\\tP43246\\\\\\\\nP38398\\\\\\\\tO75486\\\\\\\\nP38398\\\\\\\\tO75528\\\\\\\\nP38398\\\\\\\\tQ12962\\\\\\\\nP38398\\\\\\\\tQ16594\\\\\\\\nP38398\\\\\\\\tQ9Y4A5\\\\\\\\nP38398\\\\\\\\tQ5VTD9\\\\\\\\nP38398\\\\\\\\tP03372\\\\\\\\nP38398\\\\\\\\tP03372\\\\\\\\nP38398\\\\\\\\tP03372\\\\\\\\nP38398\\\\\\\\tP03372\\\\\\\\nP03372\\\\\\\\tP38398\\\\\\\\nP38398\\\\\\\\tP03372\\\\\\\\nP03372\\\\\\\\tP38398\\\\\\\\nP38398\\\\\\\\tP03372\\\\\\\\nP03372\\\\\\\\tP38398\\\\\\\\nP03372\\\\\\\\tP38398\\\\\\\\nP38398\\\\\\\\tP03372\\\\\\\\nP38398\\\\\\\\tP03372\\\\\\\\nP10415\\\\\\\\tP38398\\\\\\\\nP10415\\\\\\\\tP38398\\\\\\\\nP10415\\\\\\\\tP38398\\\\\\\\nP38398\\\\\\\\tP10415\\\\\\\\nP38398\\\\\\\\tP10415\\\\\\\\nP10415\\\\\\\\tP38398\\\\\\\\nP38398\\\\\\\\tEBI-4412187\\\\\\\\nP38398\\\\\\\\tQ99728\\\\\\\\nEBI-4412187\\\\\\\\tP38398\\\\\\\\nEBI-4412187\\\\\\\\tP38398\\\\\\\\nP51948\\\\\\\\tP38398\\\\\\\\nQ17RB8\\\\\\\\tP38398\\\\\\\\nP38398\\\\\\\\tQ7Z4K8\\\\\\\\nP38398\\\\\\\\tQ86UV6\\\\\\\\nP78347\\\\\\\\tP38398\\\\\\\\nP78347\\\\\\\\tP38398\\\\\\\\nP38398\\\\\\\\tP78347\\\\\\\\nP38398\\\\\\\\tP78347\\\\\\\\nP78347\\\\\\\\tP38398\\\\\\\\nP38398\\\\\\\\tENSG00000096717\\\\\\\\nENSG00000124762\\\\\\\\tP38398\\\\\\\\nQ12888\\\\\\\\tP38398\\\\\\\\nP38398\\\\\\\\tP10809\\\\\\\\nP38398\\\\\\\\tP50542\\\\\\\\nP38398\\\\\\\\tQ8WZA1\\\\\\\\nO15164\\\\\\\\tP38398\\\\\\\\nP38398\\\\\\\\tQ14192\\\\\\\\nP38398\\\\\\\\tP15822\\\\\\\\nP10809\\\\\\\\tP38398\\\\\\\\nP38398\\\\\\\\tP14923\\\\\\\\nQ9Y385\\\\\\\\tP38398\\\\\\\\nQ6PJG6\\\\\\\\tP38398\\\\\\\\nP26373\\\\\\\\tP38398\\\\\\\\nQ6PJG6\\\\\\\\tP38398\\\\\\\\nQ6PJG6\\\\\\\\tP38398\\\\\\\\nQ6PJG6\\\\\\\\tP38398\\\\\\\\nQ6PJG6\\\\\\\\tP38398\\\\\\\\nQ6PJG6\\\\\\\\tP38398\\\\\\\\n'\\\"]\"\n"
     ]
    }
   ],
   "source": [
    "result_url = BASE + 'queue/' + job_id1 + '/result'\n",
    "print(result_url)\n",
    "res = requests.get(result_url)\n",
    "jprint(res.content)"
   ]
  },
  {
   "cell_type": "code",
   "execution_count": null,
   "metadata": {
    "collapsed": false
   },
   "outputs": [],
   "source": [
    "# Deletion\n",
    "res = requests.delete(BASE + 'queue/' + job_id1)\n",
    "jprint(res.json())\n"
   ]
  },
  {
   "cell_type": "code",
   "execution_count": null,
   "metadata": {
    "collapsed": false
   },
   "outputs": [],
   "source": [
    "res = requests.get(BASE + 'queue')\n",
    "jprint(res.json())"
   ]
  },
  {
   "cell_type": "code",
   "execution_count": null,
   "metadata": {
    "collapsed": false
   },
   "outputs": [],
   "source": [
    "# Delete All jobs and results\n",
    "res = requests.delete(BASE + 'queue')\n",
    "jprint(res.json())"
   ]
  }
 ],
 "metadata": {
  "kernelspec": {
   "display_name": "Python 2",
   "language": "python",
   "name": "python2"
  },
  "language_info": {
   "codemirror_mode": {
    "name": "ipython",
    "version": 2
   },
   "file_extension": ".py",
   "mimetype": "text/x-python",
   "name": "python",
   "nbconvert_exporter": "python",
   "pygments_lexer": "ipython2",
   "version": "2.7.10"
  }
 },
 "nbformat": 4,
 "nbformat_minor": 0
}
