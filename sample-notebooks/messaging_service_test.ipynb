{
 "cells": [
  {
   "cell_type": "markdown",
   "metadata": {},
   "source": [
    "# Tests for new CI template code\n",
    "\n",
    "This is a sample script to test new CI template using message exchange.\n",
    "\n",
    "## Description\n",
    "\n",
    "This is a new template code for language-agnostic worker samples.\n"
   ]
  },
  {
   "cell_type": "code",
   "execution_count": 54,
   "metadata": {
    "collapsed": false
   },
   "outputs": [
    {
     "name": "stdout",
     "output_type": "stream",
     "text": [
      "[\n",
      "    {\n",
      "        \"serviceName\": \"kernel\", \n",
      "        \"portNumber\": \"5556\"\n",
      "    }\n",
      "]\n"
     ]
    }
   ],
   "source": [
    "import requests\n",
    "import json\n",
    "import networkx as nx\n",
    "from py2cytoscape.util import *\n",
    "\n",
    "# Change this to  your Docker container's IP\n",
    "BASE = 'http://54.69.72.46/v1/'\n",
    "HEADERS = {'Content-Type': 'application/json'}\n",
    "\n",
    "# Check API Status\n",
    "res = requests.get(BASE + 'services')\n",
    "print(json.dumps(res.json(), indent=4))"
   ]
  },
  {
   "cell_type": "code",
   "execution_count": 48,
   "metadata": {
    "collapsed": false
   },
   "outputs": [],
   "source": [
    "el = nx.read_edgelist('/Users/kono/Downloads/COG.links.v10.txt', data=False)"
   ]
  },
  {
   "cell_type": "code",
   "execution_count": 50,
   "metadata": {
    "collapsed": false
   },
   "outputs": [
    {
     "data": {
      "text/plain": [
       "8995212"
      ]
     },
     "execution_count": 50,
     "metadata": {},
     "output_type": "execute_result"
    }
   ],
   "source": [
    "len(el.edges())"
   ]
  },
  {
   "cell_type": "markdown",
   "metadata": {},
   "source": [
    "## Test API: simple community detection service"
   ]
  },
  {
   "cell_type": "code",
   "execution_count": 47,
   "metadata": {
    "collapsed": true
   },
   "outputs": [],
   "source": [
    "# Build a large graph for testing...\n",
    "g = nx.scale_free_graph(700)\n",
    "cyjs_graph = from_networkx(g)"
   ]
  },
  {
   "cell_type": "code",
   "execution_count": 91,
   "metadata": {
    "collapsed": false
   },
   "outputs": [
    {
     "name": "stdout",
     "output_type": "stream",
     "text": [
      "{u'status': u'queued', u'job_id': u'f5b32327-df10-4f83-95fa-d9ad82c78342'}\n",
      "{u'status': u'queued', u'job_id': u'c74e18aa-0c1b-4408-94a5-afe5fbd998c6'}\n",
      "{u'status': u'queued', u'job_id': u'a42c6ff4-2ba2-47f3-9580-2e3d6fbb0faa'}\n",
      "{u'status': u'queued', u'job_id': u'7b5ab622-0623-4c66-8355-58228b7d71ae'}\n",
      "{u'status': u'queued', u'job_id': u'2318814b-923e-4696-b77c-10646c4d14be'}\n"
     ]
    }
   ],
   "source": [
    "for i in range(5):\n",
    "    res = requests.post(BASE + 'services/kernel', data=json.dumps(cyjs_graph), headers=HEADERS)\n",
    "    print(res.json())"
   ]
  },
  {
   "cell_type": "code",
   "execution_count": 92,
   "metadata": {
    "collapsed": false
   },
   "outputs": [
    {
     "name": "stdout",
     "output_type": "stream",
     "text": [
      "[\n",
      "    {\n",
      "        \"status\": \"finished\", \n",
      "        \"job_id\": \"c74e18aa-0c1b-4408-94a5-afe5fbd998c6\"\n",
      "    }, \n",
      "    {\n",
      "        \"status\": \"finished\", \n",
      "        \"job_id\": \"7b5ab622-0623-4c66-8355-58228b7d71ae\"\n",
      "    }, \n",
      "    {\n",
      "        \"status\": \"finished\", \n",
      "        \"job_id\": \"f5b32327-df10-4f83-95fa-d9ad82c78342\"\n",
      "    }, \n",
      "    {\n",
      "        \"status\": \"finished\", \n",
      "        \"job_id\": \"2318814b-923e-4696-b77c-10646c4d14be\"\n",
      "    }, \n",
      "    {\n",
      "        \"status\": \"finished\", \n",
      "        \"job_id\": \"a42c6ff4-2ba2-47f3-9580-2e3d6fbb0faa\"\n",
      "    }\n",
      "]\n"
     ]
    }
   ],
   "source": [
    "res = requests.get(BASE + 'queue')\n",
    "print(json.dumps(res.json(), indent=4))\n",
    "jobs = res.json()"
   ]
  },
  {
   "cell_type": "code",
   "execution_count": 93,
   "metadata": {
    "collapsed": false
   },
   "outputs": [
    {
     "name": "stdout",
     "output_type": "stream",
     "text": [
      "{\n",
      "    \"message\": \"Dummy result from kernel\"\n",
      "}\n"
     ]
    }
   ],
   "source": [
    "# Get result\n",
    "job = jobs[1]\n",
    "job_id = job['job_id']\n",
    "res = requests.get(BASE + 'queue/' + job_id)\n",
    "print(json.dumps(res.json(), indent=4))"
   ]
  },
  {
   "cell_type": "code",
   "execution_count": 22,
   "metadata": {
    "collapsed": false
   },
   "outputs": [
    {
     "name": "stdout",
     "output_type": "stream",
     "text": [
      "{\n",
      "    \"status\": \"queued\", \n",
      "    \"url\": \"queue/dc868543-1855-4abb-892f-a8a7ff2bf8ae\", \n",
      "    \"job_id\": \"dc868543-1855-4abb-892f-a8a7ff2bf8ae\", \n",
      "    \"result_type\": \"memory\"\n",
      "}\n"
     ]
    }
   ],
   "source": [
    "res = requests.post(BASE + 'hello', data={'name': 'foo'})\n",
    "print(json.dumps(res.json(), indent=4))"
   ]
  }
 ],
 "metadata": {
  "kernelspec": {
   "display_name": "Python 2",
   "language": "python",
   "name": "python2"
  },
  "language_info": {
   "codemirror_mode": {
    "name": "ipython",
    "version": 2
   },
   "file_extension": ".py",
   "mimetype": "text/x-python",
   "name": "python",
   "nbconvert_exporter": "python",
   "pygments_lexer": "ipython2",
   "version": "2.7.10"
  }
 },
 "nbformat": 4,
 "nbformat_minor": 0
}
