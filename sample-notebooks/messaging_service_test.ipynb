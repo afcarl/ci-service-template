{
 "cells": [
  {
   "cell_type": "markdown",
   "metadata": {},
   "source": [
    "# Tests for new CI template code\n",
    "\n",
    "This is a sample script to test new CI template using message exchange.\n",
    "\n",
    "## Description\n",
    "\n",
    "This is a new template code for language-agnostic worker samples.\n"
   ]
  },
  {
   "cell_type": "code",
   "execution_count": 41,
   "metadata": {
    "collapsed": false
   },
   "outputs": [
    {
     "name": "stdout",
     "output_type": "stream",
     "text": [
      "[\n",
      "    {\n",
      "        \"serviceName\": \"community\", \n",
      "        \"portNumber\": \"5556\"\n",
      "    }\n",
      "]\n"
     ]
    }
   ],
   "source": [
    "import requests\n",
    "import json\n",
    "import networkx as nx\n",
    "from py2cytoscape.util import *\n",
    "\n",
    "# Change this to  your Docker container's IP\n",
    "BASE = 'http://54.149.183.70/v1/'\n",
    "HEADERS = {'Content-Type': 'application/json'}\n",
    "\n",
    "# Check API Status\n",
    "res = requests.get(BASE + 'services')\n",
    "print(json.dumps(res.json(), indent=4))"
   ]
  },
  {
   "cell_type": "code",
   "execution_count": 48,
   "metadata": {
    "collapsed": false
   },
   "outputs": [],
   "source": [
    "el = nx.read_edgelist('/Users/kono/Downloads/COG.links.v10.txt', data=False)"
   ]
  },
  {
   "cell_type": "code",
   "execution_count": 50,
   "metadata": {
    "collapsed": false
   },
   "outputs": [
    {
     "data": {
      "text/plain": [
       "8995212"
      ]
     },
     "execution_count": 50,
     "metadata": {},
     "output_type": "execute_result"
    }
   ],
   "source": [
    "len(el.edges())"
   ]
  },
  {
   "cell_type": "markdown",
   "metadata": {},
   "source": [
    "## Test API: simple community detection service"
   ]
  },
  {
   "cell_type": "code",
   "execution_count": 27,
   "metadata": {
    "collapsed": true
   },
   "outputs": [],
   "source": [
    "# Build a large graph for testing...\n",
    "g = nx.scale_free_graph(700)\n",
    "cyjs_graph = from_networkx(g)"
   ]
  },
  {
   "cell_type": "code",
   "execution_count": 39,
   "metadata": {
    "collapsed": false
   },
   "outputs": [
    {
     "name": "stdout",
     "output_type": "stream",
     "text": [
      "{u'status': u'queued', u'job_id': u'7d93d693-73f2-4552-9d88-5350bfbe714e'}\n",
      "{u'status': u'queued', u'job_id': u'7189036e-318b-4eb3-9ce1-07f8e1f1d114'}\n",
      "{u'status': u'queued', u'job_id': u'ba1967dd-4ed8-4f45-b36e-ccffae9b66c9'}\n",
      "{u'status': u'queued', u'job_id': u'f6d84b7c-3e04-4cb5-8ae6-faca1e435976'}\n",
      "{u'status': u'queued', u'job_id': u'590ecef7-f8bf-4efb-a5f1-112e42f7a37e'}\n"
     ]
    }
   ],
   "source": [
    "for i in range(5):\n",
    "    res = requests.post(BASE + 'services/community', data=json.dumps(cyjs_graph), headers=HEADERS)\n",
    "    print(res.json())"
   ]
  },
  {
   "cell_type": "code",
   "execution_count": 40,
   "metadata": {
    "collapsed": false
   },
   "outputs": [
    {
     "name": "stdout",
     "output_type": "stream",
     "text": [
      "[\n",
      "    {\n",
      "        \"status\": \"finished\", \n",
      "        \"job_id\": \"7d93d693-73f2-4552-9d88-5350bfbe714e\"\n",
      "    }, \n",
      "    {\n",
      "        \"status\": \"finished\", \n",
      "        \"job_id\": \"ba1967dd-4ed8-4f45-b36e-ccffae9b66c9\"\n",
      "    }, \n",
      "    {\n",
      "        \"status\": \"finished\", \n",
      "        \"job_id\": \"7189036e-318b-4eb3-9ce1-07f8e1f1d114\"\n",
      "    }, \n",
      "    {\n",
      "        \"status\": \"finished\", \n",
      "        \"job_id\": \"590ecef7-f8bf-4efb-a5f1-112e42f7a37e\"\n",
      "    }, \n",
      "    {\n",
      "        \"status\": \"finished\", \n",
      "        \"job_id\": \"f6d84b7c-3e04-4cb5-8ae6-faca1e435976\"\n",
      "    }\n",
      "]\n"
     ]
    }
   ],
   "source": [
    "res = requests.get(BASE + 'queue')\n",
    "print(json.dumps(res.json(), indent=4))"
   ]
  },
  {
   "cell_type": "code",
   "execution_count": 22,
   "metadata": {
    "collapsed": false
   },
   "outputs": [
    {
     "name": "stdout",
     "output_type": "stream",
     "text": [
      "{\n",
      "    \"status\": \"queued\", \n",
      "    \"url\": \"queue/dc868543-1855-4abb-892f-a8a7ff2bf8ae\", \n",
      "    \"job_id\": \"dc868543-1855-4abb-892f-a8a7ff2bf8ae\", \n",
      "    \"result_type\": \"memory\"\n",
      "}\n"
     ]
    }
   ],
   "source": [
    "res = requests.post(BASE + 'hello', data={'name': 'foo'})\n",
    "print(json.dumps(res.json(), indent=4))"
   ]
  }
 ],
 "metadata": {
  "kernelspec": {
   "display_name": "Python 2",
   "language": "python",
   "name": "python2"
  },
  "language_info": {
   "codemirror_mode": {
    "name": "ipython",
    "version": 2
   },
   "file_extension": ".py",
   "mimetype": "text/x-python",
   "name": "python",
   "nbconvert_exporter": "python",
   "pygments_lexer": "ipython2",
   "version": "2.7.10"
  }
 },
 "nbformat": 4,
 "nbformat_minor": 0
}
