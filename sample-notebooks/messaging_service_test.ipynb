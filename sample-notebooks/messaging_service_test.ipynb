{
 "cells": [
  {
   "cell_type": "markdown",
   "metadata": {},
   "source": [
    "# Tests for new CI template code\n",
    "\n",
    "This is a sample script to test new CI template using message exchange.\n",
    "\n",
    "## Description\n",
    "\n",
    "This is a new template code for language-agnostic worker samples.\n"
   ]
  },
  {
   "cell_type": "code",
   "execution_count": 2,
   "metadata": {
    "collapsed": false
   },
   "outputs": [
    {
     "name": "stdout",
     "output_type": "stream",
     "text": [
      "{\n",
      "    \"message\": \"Use POST method to submit your graph data.\"\n",
      "}\n"
     ]
    }
   ],
   "source": [
    "import requests\n",
    "import json\n",
    "import networkx as nx\n",
    "from py2cytoscape.util import *\n",
    "\n",
    "# Change this to  your Docker container's IP\n",
    "BASE = 'http://54.186.128.80/v1/'\n",
    "HEADERS = {'Content-Type': 'application/json'}\n",
    "\n",
    "# Check API Status\n",
    "res = requests.get(BASE + 'community')\n",
    "print(json.dumps(res.json(), indent=4))"
   ]
  },
  {
   "cell_type": "code",
   "execution_count": 48,
   "metadata": {
    "collapsed": false
   },
   "outputs": [],
   "source": [
    "el = nx.read_edgelist('/Users/kono/Downloads/COG.links.v10.txt', data=False)"
   ]
  },
  {
   "cell_type": "code",
   "execution_count": 50,
   "metadata": {
    "collapsed": false
   },
   "outputs": [
    {
     "data": {
      "text/plain": [
       "8995212"
      ]
     },
     "execution_count": 50,
     "metadata": {},
     "output_type": "execute_result"
    }
   ],
   "source": [
    "len(el.edges())"
   ]
  },
  {
   "cell_type": "markdown",
   "metadata": {},
   "source": [
    "## Test API: simple community detection service"
   ]
  },
  {
   "cell_type": "code",
   "execution_count": 9,
   "metadata": {
    "collapsed": true
   },
   "outputs": [],
   "source": [
    "# Build a large graph for testing...\n",
    "g = nx.scale_free_graph(7000)\n",
    "cyjs_graph = from_networkx(g)"
   ]
  },
  {
   "cell_type": "code",
   "execution_count": 10,
   "metadata": {
    "collapsed": false
   },
   "outputs": [
    {
     "name": "stdout",
     "output_type": "stream",
     "text": [
      "{u'status': u'queued', u'job_id': u'f6a4647a-8ae1-4ee1-be44-4fcba1d93ae6'}\n",
      "{u'status': u'queued', u'job_id': u'fe5c1207-f09d-4212-b8bf-cb13444ad737'}\n",
      "{u'status': u'queued', u'job_id': u'61cfabd6-7c1b-41c7-8b50-764de0b0b222'}\n",
      "{u'status': u'queued', u'job_id': u'b32dfb37-7935-4280-baf5-6d1ee4ba507e'}\n",
      "{u'status': u'queued', u'job_id': u'6104b65f-7b3e-40c1-bbe9-a4622fc91a2a'}\n",
      "{u'status': u'queued', u'job_id': u'bd477f37-558e-41e6-9f4f-1aeaa3bc6423'}\n",
      "{u'status': u'queued', u'job_id': u'66d96869-1782-44b3-af9f-a26268a24141'}\n",
      "{u'status': u'queued', u'job_id': u'14cbbb1a-c05d-4f34-8e46-85644b607053'}\n",
      "{u'status': u'queued', u'job_id': u'bc5b844c-bdde-408e-beca-ee2f340cb003'}\n",
      "{u'status': u'queued', u'job_id': u'8152335b-107a-4090-b747-c76d45924eb5'}\n",
      "{u'status': u'queued', u'job_id': u'a3e44532-3d62-48a0-bd77-41a99aa82050'}\n",
      "{u'status': u'queued', u'job_id': u'a883b5eb-5c07-49f2-af74-5d5c4b1b3645'}\n",
      "{u'status': u'queued', u'job_id': u'cd848520-33ea-4f68-80eb-fbdcb8edcdc3'}\n",
      "{u'status': u'queued', u'job_id': u'bd083dd0-8b14-4121-83e5-69ff36a93309'}\n",
      "{u'status': u'queued', u'job_id': u'b12740ca-696c-4955-9b7b-f109ee163004'}\n",
      "{u'status': u'queued', u'job_id': u'cfe62d99-d174-4670-951b-c36a0d0e13f7'}\n",
      "{u'status': u'queued', u'job_id': u'f26feb13-2459-4cd8-b498-0918a0b100bc'}\n",
      "{u'status': u'queued', u'job_id': u'f97215ae-7a33-45bc-a681-82130e8a6606'}\n",
      "{u'status': u'queued', u'job_id': u'681b8e86-dcfb-4366-aa35-b51dfae78760'}\n",
      "{u'status': u'queued', u'job_id': u'd7ef102e-8d07-4448-899f-00b833cbc17c'}\n",
      "{u'status': u'queued', u'job_id': u'b6b378c1-d639-4233-9593-8ca209ba1e4a'}\n",
      "{u'status': u'queued', u'job_id': u'3af3c8aa-abb5-4924-b5ba-e444b56fb225'}\n",
      "{u'status': u'queued', u'job_id': u'd1d267b3-fa16-4b8c-a343-e3c4f81aa75e'}\n",
      "{u'status': u'queued', u'job_id': u'a34ce8a8-a5e2-42ac-9e8d-7ef764eb5c98'}\n",
      "{u'status': u'queued', u'job_id': u'130aed8f-8a96-4c24-a611-80118027cc5f'}\n",
      "{u'status': u'queued', u'job_id': u'407e4363-b306-439f-b236-8f665f6d07ee'}\n",
      "{u'status': u'queued', u'job_id': u'cede55ce-1f45-4076-9ad1-1da6f8e20fd5'}\n",
      "{u'status': u'queued', u'job_id': u'a07a0f62-1ff8-4614-ba09-647cfdb253e4'}\n",
      "{u'status': u'queued', u'job_id': u'a6289c75-c8dc-4b2b-8172-e014bf0f5caa'}\n",
      "{u'status': u'queued', u'job_id': u'2f0169d1-f3ad-4171-8ef1-8ea2d2adeb8f'}\n"
     ]
    }
   ],
   "source": [
    "for i in range(30):\n",
    "    res = requests.post(BASE + 'community', data=json.dumps(cyjs_graph), headers=HEADERS)\n",
    "    print(res.json())"
   ]
  },
  {
   "cell_type": "code",
   "execution_count": 8,
   "metadata": {
    "collapsed": false
   },
   "outputs": [
    {
     "name": "stdout",
     "output_type": "stream",
     "text": [
      "[\n",
      "    {\n",
      "        \"status\": \"queued\", \n",
      "        \"job_id\": \"be77b5c8-637b-45ad-ba00-1ae5014a0145\"\n",
      "    }, \n",
      "    {\n",
      "        \"status\": \"running\", \n",
      "        \"job_id\": \"69b7538a-06d7-4798-ad1e-b1f065311cea\"\n",
      "    }, \n",
      "    {\n",
      "        \"status\": \"running\", \n",
      "        \"job_id\": \"c223713f-5e55-45b9-87c5-79fbffbc05fd\"\n",
      "    }, \n",
      "    {\n",
      "        \"status\": \"queued\", \n",
      "        \"job_id\": \"f8119cf6-1834-4340-ad4e-89419781ee75\"\n",
      "    }, \n",
      "    {\n",
      "        \"status\": \"queued\", \n",
      "        \"job_id\": \"c6b6d7e0-fe2f-4de4-81e4-ca0cac43bd26\"\n",
      "    }, \n",
      "    {\n",
      "        \"status\": \"running\", \n",
      "        \"job_id\": \"8aa75747-9c98-4069-b523-aafa72a62d18\"\n",
      "    }, \n",
      "    {\n",
      "        \"status\": \"queued\", \n",
      "        \"job_id\": \"57d56f8e-c4b1-4724-842a-885e6623bcfd\"\n",
      "    }, \n",
      "    {\n",
      "        \"status\": \"queued\", \n",
      "        \"job_id\": \"55f19f9b-d2fc-47af-9403-7956a9a01fd5\"\n",
      "    }, \n",
      "    {\n",
      "        \"status\": \"queued\", \n",
      "        \"job_id\": \"e5177933-ab12-489e-ad26-a918627e56e5\"\n",
      "    }, \n",
      "    {\n",
      "        \"status\": \"queued\", \n",
      "        \"job_id\": \"d38a5ae7-56c6-4fc0-8b67-94c6d44f8abb\"\n",
      "    }, \n",
      "    {\n",
      "        \"status\": \"queued\", \n",
      "        \"job_id\": \"091fcbbe-6e29-4a68-ab13-c683c6a0111d\"\n",
      "    }, \n",
      "    {\n",
      "        \"status\": \"queued\", \n",
      "        \"job_id\": \"91546e4e-3acb-4d5c-84a7-648331dd1903\"\n",
      "    }, \n",
      "    {\n",
      "        \"status\": \"queued\", \n",
      "        \"job_id\": \"6cbd3c4e-3d06-4c28-bcba-757b65d368a7\"\n",
      "    }, \n",
      "    {\n",
      "        \"status\": \"queued\", \n",
      "        \"job_id\": \"c7a0278e-38df-4ec3-a40f-74be91602c2f\"\n",
      "    }, \n",
      "    {\n",
      "        \"status\": \"queued\", \n",
      "        \"job_id\": \"f8028a9b-0dfa-4c57-b4a8-f6d318bbc903\"\n",
      "    }, \n",
      "    {\n",
      "        \"status\": \"queued\", \n",
      "        \"job_id\": \"77f76679-705c-4334-99c4-418b95224319\"\n",
      "    }, \n",
      "    {\n",
      "        \"status\": \"running\", \n",
      "        \"job_id\": \"aeeb5355-6745-498e-a377-00ce3831560f\"\n",
      "    }, \n",
      "    {\n",
      "        \"status\": \"running\", \n",
      "        \"job_id\": \"3216f171-5a77-46ff-8519-c18c1334ddff\"\n",
      "    }, \n",
      "    {\n",
      "        \"status\": \"running\", \n",
      "        \"job_id\": \"963ad5e8-928e-4841-bae1-f422b1221a3d\"\n",
      "    }, \n",
      "    {\n",
      "        \"status\": \"queued\", \n",
      "        \"job_id\": \"d5d6d0d8-f963-415f-8a3b-a8913b33c60b\"\n",
      "    }\n",
      "]\n"
     ]
    }
   ],
   "source": [
    "res = requests.get(BASE + 'queue')\n",
    "print(json.dumps(res.json(), indent=4))"
   ]
  },
  {
   "cell_type": "code",
   "execution_count": 22,
   "metadata": {
    "collapsed": false
   },
   "outputs": [
    {
     "name": "stdout",
     "output_type": "stream",
     "text": [
      "{\n",
      "    \"status\": \"queued\", \n",
      "    \"url\": \"queue/dc868543-1855-4abb-892f-a8a7ff2bf8ae\", \n",
      "    \"job_id\": \"dc868543-1855-4abb-892f-a8a7ff2bf8ae\", \n",
      "    \"result_type\": \"memory\"\n",
      "}\n"
     ]
    }
   ],
   "source": [
    "res = requests.post(BASE + 'hello', data={'name': 'foo'})\n",
    "print(json.dumps(res.json(), indent=4))"
   ]
  }
 ],
 "metadata": {
  "kernelspec": {
   "display_name": "Python 2",
   "language": "python",
   "name": "python2"
  },
  "language_info": {
   "codemirror_mode": {
    "name": "ipython",
    "version": 2
   },
   "file_extension": ".py",
   "mimetype": "text/x-python",
   "name": "python",
   "nbconvert_exporter": "python",
   "pygments_lexer": "ipython2",
   "version": "2.7.10"
  }
 },
 "nbformat": 4,
 "nbformat_minor": 0
}
