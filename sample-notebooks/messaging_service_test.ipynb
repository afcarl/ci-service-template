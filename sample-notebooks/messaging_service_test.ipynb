{
 "cells": [
  {
   "cell_type": "markdown",
   "metadata": {},
   "source": [
    "# Tests for new CI template code\n",
    "\n",
    "This is a sample script to test new CI template using message exchange.\n",
    "\n",
    "## Description\n",
    "\n",
    "This is a new template code for language-agnostic worker samples.\n"
   ]
  },
  {
   "cell_type": "code",
   "execution_count": 1,
   "metadata": {
    "collapsed": false
   },
   "outputs": [
    {
     "name": "stdout",
     "output_type": "stream",
     "text": [
      "Couldn't import dot_parser, loading of dot files will not be possible.\n",
      "{\n",
      "    \"message\": \"Use POST method to submit your graph data.\"\n",
      "}\n"
     ]
    }
   ],
   "source": [
    "import requests\n",
    "import json\n",
    "import networkx as nx\n",
    "from py2cytoscape.util import *\n",
    "\n",
    "# Change this to  your Docker container's IP\n",
    "BASE = 'http://54.149.153.192/v1/'\n",
    "HEADERS = {'Content-Type': 'application/json'}\n",
    "\n",
    "# Check API Status\n",
    "res = requests.get(BASE + 'community')\n",
    "print(json.dumps(res.json(), indent=4))"
   ]
  },
  {
   "cell_type": "code",
   "execution_count": 48,
   "metadata": {
    "collapsed": false
   },
   "outputs": [],
   "source": [
    "el = nx.read_edgelist('/Users/kono/Downloads/COG.links.v10.txt', data=False)"
   ]
  },
  {
   "cell_type": "code",
   "execution_count": 50,
   "metadata": {
    "collapsed": false
   },
   "outputs": [
    {
     "data": {
      "text/plain": [
       "8995212"
      ]
     },
     "execution_count": 50,
     "metadata": {},
     "output_type": "execute_result"
    }
   ],
   "source": [
    "len(el.edges())"
   ]
  },
  {
   "cell_type": "markdown",
   "metadata": {},
   "source": [
    "## Test API: simple community detection service"
   ]
  },
  {
   "cell_type": "code",
   "execution_count": 2,
   "metadata": {
    "collapsed": true
   },
   "outputs": [],
   "source": [
    "# Build a large graph for testing...\n",
    "g = nx.scale_free_graph(1000)\n",
    "cyjs_graph = from_networkx(g)"
   ]
  },
  {
   "cell_type": "code",
   "execution_count": 20,
   "metadata": {
    "collapsed": false
   },
   "outputs": [
    {
     "name": "stdout",
     "output_type": "stream",
     "text": [
      "{u'status': u'queued', u'job_id': u'1c4dbcfd-3ce3-4a42-98f8-3f5bdcc6380f'}\n",
      "{u'status': u'queued', u'job_id': u'421e470c-f758-44cb-8275-0f6c9fd06819'}\n",
      "{u'status': u'queued', u'job_id': u'32970d0f-5981-4e1c-ae58-c851cd6cf140'}\n",
      "{u'status': u'queued', u'job_id': u'084e91c1-32ef-42bb-b0e1-7d876eea3cc6'}\n",
      "{u'status': u'queued', u'job_id': u'eaa12343-bc00-412e-91c0-52d3d8a7041c'}\n"
     ]
    }
   ],
   "source": [
    "for i in range(5):\n",
    "    res = requests.post(BASE + 'community', data=json.dumps(cyjs_graph), headers=HEADERS)\n",
    "    print(res.json())"
   ]
  },
  {
   "cell_type": "code",
   "execution_count": 21,
   "metadata": {
    "collapsed": false
   },
   "outputs": [
    {
     "name": "stdout",
     "output_type": "stream",
     "text": [
      "[{u'status': u'finished', u'job_id': u'eaa12343-bc00-412e-91c0-52d3d8a7041c'}, {u'status': u'finished', u'job_id': u'32970d0f-5981-4e1c-ae58-c851cd6cf140'}, {u'status': u'finished', u'job_id': u'1c4dbcfd-3ce3-4a42-98f8-3f5bdcc6380f'}, {u'status': u'finished', u'job_id': u'084e91c1-32ef-42bb-b0e1-7d876eea3cc6'}, {u'status': u'finished', u'job_id': u'421e470c-f758-44cb-8275-0f6c9fd06819'}]\n"
     ]
    }
   ],
   "source": [
    "res = requests.get(BASE + 'queue')\n",
    "print(res.json())"
   ]
  },
  {
   "cell_type": "code",
   "execution_count": 22,
   "metadata": {
    "collapsed": false
   },
   "outputs": [
    {
     "name": "stdout",
     "output_type": "stream",
     "text": [
      "{\n",
      "    \"status\": \"queued\", \n",
      "    \"url\": \"queue/dc868543-1855-4abb-892f-a8a7ff2bf8ae\", \n",
      "    \"job_id\": \"dc868543-1855-4abb-892f-a8a7ff2bf8ae\", \n",
      "    \"result_type\": \"memory\"\n",
      "}\n"
     ]
    }
   ],
   "source": [
    "res = requests.post(BASE + 'hello', data={'name': 'foo'})\n",
    "print(json.dumps(res.json(), indent=4))"
   ]
  }
 ],
 "metadata": {
  "kernelspec": {
   "display_name": "Python 2",
   "language": "python",
   "name": "python2"
  },
  "language_info": {
   "codemirror_mode": {
    "name": "ipython",
    "version": 2
   },
   "file_extension": ".py",
   "mimetype": "text/x-python",
   "name": "python",
   "nbconvert_exporter": "python",
   "pygments_lexer": "ipython2",
   "version": "2.7.10"
  }
 },
 "nbformat": 4,
 "nbformat_minor": 0
}
