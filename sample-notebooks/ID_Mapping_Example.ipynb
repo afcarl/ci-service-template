{
 "cells": [
  {
   "cell_type": "markdown",
   "metadata": {},
   "source": [
    "# Introduction to CI Template\n",
    "\n",
    "## ID Mapping Service Example\n",
    "\n",
    "This is a demonstratuion how to create a service by wrapping external web API.\n",
    "\n",
    "In this example, the service worker calls Uniprot ID Mapping service to convert set of IDs into other type."
   ]
  },
  {
   "cell_type": "code",
   "execution_count": 1,
   "metadata": {
    "collapsed": false
   },
   "outputs": [],
   "source": [
    "IP = '192.168.99.100'\n",
    "BASE = 'http://' + IP + '/v1/'  # You need to change this to your service server\n",
    "\n",
    "import requests\n",
    "import json\n",
    "\n",
    "def jprint(data):\n",
    "    print(json.dumps(data, indent=4))\n",
    "\n",
    "# Change this to  your Docker container's IP\n",
    "HEADERS = {'Content-Type': 'application/json'}"
   ]
  },
  {
   "cell_type": "code",
   "execution_count": 2,
   "metadata": {
    "collapsed": false
   },
   "outputs": [
    {
     "name": "stdout",
     "output_type": "stream",
     "text": [
      "http://192.168.99.100/v1/services\n"
     ]
    }
   ],
   "source": [
    "# Show list of available services:\n",
    "\n",
    "services_url = BASE + 'services'\n",
    "\n",
    "# Click the link below to see the service list...\n",
    "print(services_url)"
   ]
  },
  {
   "cell_type": "code",
   "execution_count": 3,
   "metadata": {
    "collapsed": false
   },
   "outputs": [
    {
     "name": "stdout",
     "output_type": "stream",
     "text": [
      "{\n",
      "    \"portNumber\": \"5547\",\n",
      "    \"parameters\": [\n",
      "        {\n",
      "            \"required\": true,\n",
      "            \"name\": \"ids\",\n",
      "            \"type\": \"array\",\n",
      "            \"description\": \"IDs to be converted\"\n",
      "        },\n",
      "        {\n",
      "            \"required\": true,\n",
      "            \"name\": \"from\",\n",
      "            \"type\": \"string\",\n",
      "            \"description\": \"Original ID type (e.g., P_ENTREZGENEID)\"\n",
      "        },\n",
      "        {\n",
      "            \"required\": true,\n",
      "            \"name\": \"to\",\n",
      "            \"type\": \"string\",\n",
      "            \"description\": \"Target ID type (e.g., GENENAME)\"\n",
      "        }\n",
      "    ],\n",
      "    \"description\": \"Sample Python worker to convert ID using Uniprot Mapper\",\n",
      "    \"serviceName\": \"idmapping\"\n",
      "}\n"
     ]
    }
   ],
   "source": [
    "# Show description of the id mapping worker\n",
    "res = requests.get(BASE + 'services/idmapping')\n",
    "jprint(res.json())"
   ]
  },
  {
   "cell_type": "code",
   "execution_count": 4,
   "metadata": {
    "collapsed": false
   },
   "outputs": [],
   "source": [
    "# Call ID mapping service from client\n",
    "\n",
    "query1 = {\n",
    "    \"ids\": [\"B7ZA85\", \"P12345\"],\n",
    "    \"from\": \"ACC\", # From Uniprot ACC\n",
    "    \"to\": 'GENENAME' # To human readable gene symbol\n",
    "}\n",
    "\n",
    "query2 = {\n",
    "    \"ids\": [\"kras\", \"hras\"], # Gene names as input\n",
    "    \"from\": \"GENENAME\",\n",
    "    \"to\": 'ACC' # To Uniprot ID\n",
    "}\n",
    "\n",
    "res1 = requests.post(BASE + 'services/idmapping', data=json.dumps(query1), headers=HEADERS)\n",
    "res2 = requests.post(BASE + 'services/idmapping', data=json.dumps(query2), headers=HEADERS)"
   ]
  },
  {
   "cell_type": "code",
   "execution_count": 5,
   "metadata": {
    "collapsed": false
   },
   "outputs": [
    {
     "name": "stdout",
     "output_type": "stream",
     "text": [
      "[\n",
      "    {\n",
      "        \"job_id\": \"1f3458ae-50db-448d-b415-68d2241daac4\",\n",
      "        \"status\": \"finished\"\n",
      "    },\n",
      "    {\n",
      "        \"job_id\": \"58ded7f1-e88f-4b57-809f-fc8e2b83ce3e\",\n",
      "        \"status\": \"finished\"\n",
      "    }\n",
      "]\n"
     ]
    }
   ],
   "source": [
    "# Check task queue\n",
    "res = requests.get(BASE + 'queue')\n",
    "jobs = res.json()\n",
    "jprint(jobs)"
   ]
  },
  {
   "cell_type": "code",
   "execution_count": 6,
   "metadata": {
    "collapsed": false,
    "scrolled": true
   },
   "outputs": [
    {
     "name": "stdout",
     "output_type": "stream",
     "text": [
      "http://192.168.99.100/v1/queue/1f3458ae-50db-448d-b415-68d2241daac4/result\n",
      "{\n",
      "    \"hras\": [\n",
      "        \"A0A096MNJ8\",\n",
      "        \"A0A0D9RF63\",\n",
      "        \"A0A0J9YXG8\",\n",
      "        \"B2Z7X7\",\n",
      "        \"B2Z7X8\",\n",
      "        \"B2Z7X9\",\n",
      "        \"B2Z7Y0\",\n",
      "        \"B2Z7Y1\",\n",
      "        \"B2Z7Y2\",\n",
      "        \"B2Z7Y3\",\n",
      "        \"B2Z7Y4\",\n",
      "        \"B2Z7Y5\",\n",
      "        \"B2Z7Y6\",\n",
      "        \"B3RFG8\",\n",
      "        \"B5G0X7\",\n",
      "        \"C0H5X4\",\n",
      "        \"F5ANT1\",\n",
      "        \"F6R9P7\",\n",
      "        \"F6TRI4\",\n",
      "        \"F6XLE9\",\n",
      "        \"F7F5J9\",\n",
      "        \"F7F5K9\",\n",
      "        \"G1KQH0\",\n",
      "        \"G1LVE9\",\n",
      "        \"G1RA62\",\n",
      "        \"G3MXH2\",\n",
      "        \"G3N1U2\",\n",
      "        \"G3RHE3\",\n",
      "        \"H0UT66\",\n",
      "        \"H0XQD9\",\n",
      "        \"H2MXD7\",\n",
      "        \"H2NCA0\",\n",
      "        \"H2Q2V0\",\n",
      "        \"H3BGF2\",\n",
      "        \"H3BGF3\",\n",
      "        \"H9H701\",\n",
      "        \"I3LPD9\",\n",
      "        \"I3NBL5\",\n",
      "        \"J9P550\",\n",
      "        \"K7ALD7\",\n",
      "        \"K7ETS1\",\n",
      "        \"K7G8A2\",\n",
      "        \"P01112\",\n",
      "        \"P08642\",\n",
      "        \"P20171\",\n",
      "        \"P78460\",\n",
      "        \"Q28EW2\",\n",
      "        \"Q4SAD9\",\n",
      "        \"Q568K0\",\n",
      "        \"Q60529\",\n",
      "        \"Q61411\",\n",
      "        \"Q8CGQ3\",\n",
      "        \"Q8UUZ4\",\n",
      "        \"U3C9L0\",\n",
      "        \"U3IXP7\",\n",
      "        \"U3KCC9\",\n",
      "        \"W5PBT4\",\n",
      "        \"X5D945\"\n",
      "    ],\n",
      "    \"kras\": [\n",
      "        \"A0A024RAV5\",\n",
      "        \"A0A096MYL8\",\n",
      "        \"A0A0D9R5Y6\",\n",
      "        \"A0JN17\",\n",
      "        \"A5HC02\",\n",
      "        \"A5HC03\",\n",
      "        \"A5HC04\",\n",
      "        \"A5HC05\",\n",
      "        \"A5HC06\",\n",
      "        \"A5HC07\",\n",
      "        \"A5HC08\",\n",
      "        \"A5HC09\",\n",
      "        \"A5HC10\",\n",
      "        \"A5HC11\",\n",
      "        \"A5HC12\",\n",
      "        \"A5HC13\",\n",
      "        \"A5HC14\",\n",
      "        \"A5HC15\",\n",
      "        \"A5HC16\",\n",
      "        \"A5HC17\",\n",
      "        \"A5HC18\",\n",
      "        \"A5HC19\",\n",
      "        \"A5HC20\",\n",
      "        \"A5HC21\",\n",
      "        \"A5HC23\",\n",
      "        \"A5HC24\",\n",
      "        \"A5HC25\",\n",
      "        \"A5HC26\",\n",
      "        \"B2KGV5\",\n",
      "        \"D2H1A6\",\n",
      "        \"E1BMX0\",\n",
      "        \"E1BTS2\",\n",
      "        \"E5FF39\",\n",
      "        \"E9Q8V2\",\n",
      "        \"F1PXZ9\",\n",
      "        \"F6PKP9\",\n",
      "        \"F6SFG7\",\n",
      "        \"F6SG80\",\n",
      "        \"F6ULV3\",\n",
      "        \"F6Z5N3\",\n",
      "        \"G1NLP3\",\n",
      "        \"G1PTH5\",\n",
      "        \"G1QZK0\",\n",
      "        \"G1T2M0\",\n",
      "        \"G3QYD4\",\n",
      "        \"G3SI44\",\n",
      "        \"G3TVR1\",\n",
      "        \"G3U4P8\",\n",
      "        \"G3V4K2\",\n",
      "        \"G3V5T7\",\n",
      "        \"G3VWS4\",\n",
      "        \"H0VHH8\",\n",
      "        \"H0XBZ9\",\n",
      "        \"H0XLR5\",\n",
      "        \"H0ZPS0\",\n",
      "        \"H2NGU1\",\n",
      "        \"H2Q5M0\",\n",
      "        \"H2Q5M1\",\n",
      "        \"H3BD93\",\n",
      "        \"H9GNS2\",\n",
      "        \"I3LCQ9\",\n",
      "        \"I3MDQ1\",\n",
      "        \"K7G9J5\",\n",
      "        \"K7G9K3\",\n",
      "        \"L7RSL8\",\n",
      "        \"M3XJS0\",\n",
      "        \"M3YFW0\",\n",
      "        \"O57467\",\n",
      "        \"P01116\",\n",
      "        \"P08644\",\n",
      "        \"P32883\",\n",
      "        \"P79800\",\n",
      "        \"Q05147\",\n",
      "        \"Q07983\",\n",
      "        \"Q0VDV7\",\n",
      "        \"Q3U2W7\",\n",
      "        \"Q4S7E9\",\n",
      "        \"Q4V9A9\",\n",
      "        \"Q5EFX7\",\n",
      "        \"Q5J7N1\",\n",
      "        \"Q66JH1\",\n",
      "        \"Q6AZA4\",\n",
      "        \"Q71SP6\",\n",
      "        \"Q91832\",\n",
      "        \"Q9YH38\",\n",
      "        \"T2MI08\",\n",
      "        \"U3BT07\",\n",
      "        \"U3EMK5\",\n",
      "        \"U3J8L1\",\n",
      "        \"U3JMM7\",\n",
      "        \"V8NQ74\",\n",
      "        \"V8NYS7\",\n",
      "        \"W5LD15\",\n",
      "        \"W5LD16\",\n",
      "        \"W5NE07\",\n",
      "        \"W5NE08\",\n",
      "        \"W5QFH6\",\n",
      "        \"W5QFH7\"\n",
      "    ]\n",
      "}\n",
      "http://192.168.99.100/v1/queue/58ded7f1-e88f-4b57-809f-fc8e2b83ce3e/result\n",
      "{\n",
      "    \"B7ZA85\": [\n",
      "        \"BRCA1\"\n",
      "    ],\n",
      "    \"P12345\": [\n",
      "        \"GOT2\"\n",
      "    ]\n",
      "}\n"
     ]
    }
   ],
   "source": [
    "# Display the results\n",
    "for job in jobs:\n",
    "    \n",
    "    result_url = BASE + 'queue/' + job['job_id'] + '/result'\n",
    "    print(result_url)\n",
    "\n",
    "    res = requests.get(result_url)\n",
    "    result_str = res.json()\n",
    "\n",
    "    jprint(result_str)"
   ]
  },
  {
   "cell_type": "code",
   "execution_count": 7,
   "metadata": {
    "collapsed": false
   },
   "outputs": [],
   "source": [
    "query_original = {\n",
    "    \"ids\": [\"brca1\", \"brca2\"], # Gene names as input\n",
    "    \"from\": \"GENENAME\",\n",
    "    \"to\": 'ACC' # To Uniprot ID\n",
    "}\n",
    "\n",
    "res_original = requests.post(BASE + 'services/idmapping', data=json.dumps(query_original), headers=HEADERS)\n",
    "job_id_original = res_original.json()[\"job_id\"]"
   ]
  },
  {
   "cell_type": "code",
   "execution_count": 8,
   "metadata": {
    "collapsed": false
   },
   "outputs": [
    {
     "name": "stdout",
     "output_type": "stream",
     "text": [
      "http://192.168.99.100/v1/queue/f13d2ab7-c450-46ee-bd64-f8c72f226cdd/result\n"
     ]
    }
   ],
   "source": [
    "original_result_url = BASE + 'queue/' + job_id_original + '/result'\n",
    "\n",
    "print(original_result_url)\n",
    "res = requests.get(original_result_url)\n",
    "\n",
    "# Extract Uniprot IDs (ACC. number)\n",
    "result = res.json()\n",
    "new_query = []\n",
    "for key in result:\n",
    "    accs_list = result[key]\n",
    "    new_query = new_query + accs_list"
   ]
  },
  {
   "cell_type": "code",
   "execution_count": 9,
   "metadata": {
    "collapsed": true
   },
   "outputs": [],
   "source": [
    "query_next = {\n",
    "    \"ids\": new_query[1:20], # send first 20 results\n",
    "    \"from\": \"ACC\",\n",
    "    \"to\": \"EMBL\"\n",
    "}\n",
    "\n",
    "res_next = requests.post(BASE + 'services/idmapping', data=json.dumps(query_next), headers=HEADERS)\n",
    "job_id_next = res_next.json()[\"job_id\"]"
   ]
  },
  {
   "cell_type": "code",
   "execution_count": 11,
   "metadata": {
    "collapsed": false,
    "scrolled": true
   },
   "outputs": [
    {
     "name": "stdout",
     "output_type": "stream",
     "text": [
      "http://192.168.99.100/v1/queue/95abdb99-4d65-48c2-a18d-da56cf802f11/result\n",
      "{\n",
      "    \"A0A068BC92\": [\n",
      "        \"AIC83531.1\"\n",
      "    ],\n",
      "    \"A0A068BDV3\": [\n",
      "        \"AIC83583.1\"\n",
      "    ],\n",
      "    \"A0A068BDS2\": [\n",
      "        \"AIC83533.1\"\n",
      "    ],\n",
      "    \"A0A068BEW3\": [\n",
      "        \"AIC83567.1\"\n",
      "    ],\n",
      "    \"A0A068BCA9\": [\n",
      "        \"AIC83566.1\"\n",
      "    ],\n",
      "    \"A0A068BCC2\": [\n",
      "        \"AIC83586.1\"\n",
      "    ],\n",
      "    \"A0A068BEU0\": [\n",
      "        \"AIC83532.1\"\n",
      "    ],\n",
      "    \"A0A068BC94\": [\n",
      "        \"AIC83536.1\"\n",
      "    ],\n",
      "    \"A0A068BDT0\": [\n",
      "        \"AIC83543.1\"\n",
      "    ],\n",
      "    \"A0A068BEU4\": [\n",
      "        \"AIC83537.1\"\n",
      "    ],\n",
      "    \"A0A068BEV8\": [\n",
      "        \"AIC83562.1\"\n",
      "    ],\n",
      "    \"A0A068BDU2\": [\n",
      "        \"AIC83563.1\"\n",
      "    ],\n",
      "    \"A0A068BFU7\": [\n",
      "        \"AIC83535.1\"\n",
      "    ],\n",
      "    \"A0A068BDS6\": [\n",
      "        \"AIC83538.1\"\n",
      "    ],\n",
      "    \"A0A068BDU4\": [\n",
      "        \"AIC83568.1\"\n",
      "    ],\n",
      "    \"A0A068BFU2\": [\n",
      "        \"AIC83530.1\"\n",
      "    ],\n",
      "    \"A0A068BEX2\": [\n",
      "        \"AIC83584.1\",\n",
      "        \"AIC83587.1\",\n",
      "        \"AIC83588.1\"\n",
      "    ],\n",
      "    \"A0A068BCA8\": [\n",
      "        \"AIC83561.1\"\n",
      "    ],\n",
      "    \"A0A068BFW6\": [\n",
      "        \"AIC83560.1\"\n",
      "    ]\n",
      "}\n"
     ]
    }
   ],
   "source": [
    "next_result_url = BASE + 'queue/' + job_id_next + '/result'\n",
    "\n",
    "print(next_result_url)\n",
    "res = requests.get(next_result_url)\n",
    "jprint(res.json())"
   ]
  },
  {
   "cell_type": "code",
   "execution_count": null,
   "metadata": {
    "collapsed": false
   },
   "outputs": [],
   "source": [
    "# Delete All jobs and results\n",
    "res = requests.delete(BASE + 'queue')\n",
    "jprint(res.json())"
   ]
  },
  {
   "cell_type": "code",
   "execution_count": null,
   "metadata": {
    "collapsed": false
   },
   "outputs": [],
   "source": [
    "# The queue is now empty.\n",
    "res = requests.get(BASE + 'queue')\n",
    "jprint(res.json())"
   ]
  }
 ],
 "metadata": {
  "kernelspec": {
   "display_name": "Python 3",
   "language": "python",
   "name": "python3"
  },
  "language_info": {
   "codemirror_mode": {
    "name": "ipython",
    "version": 3
   },
   "file_extension": ".py",
   "mimetype": "text/x-python",
   "name": "python",
   "nbconvert_exporter": "python",
   "pygments_lexer": "ipython3",
   "version": "3.4.3"
  }
 },
 "nbformat": 4,
 "nbformat_minor": 0
}
